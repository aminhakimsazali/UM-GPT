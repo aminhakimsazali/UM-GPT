{
 "cells": [
  {
   "cell_type": "markdown",
   "id": "4d89d0b7",
   "metadata": {},
   "source": [
    "## Get UM Links"
   ]
  },
  {
   "cell_type": "code",
   "execution_count": 1,
   "id": "64b5c098",
   "metadata": {},
   "outputs": [],
   "source": [
    "from tqdm import tqdm"
   ]
  },
  {
   "cell_type": "code",
   "execution_count": 2,
   "id": "57824cb6",
   "metadata": {},
   "outputs": [],
   "source": [
    "import requests\n",
    "from bs4 import BeautifulSoup\n",
    "from urllib.parse import urlparse, urljoin\n",
    "\n",
    "def is_valid_url(url):\n",
    "    try:\n",
    "        result = urlparse(url)\n",
    "        return all([result.scheme, result.netloc])\n",
    "    except ValueError:\n",
    "        return False\n",
    "\n",
    "def get_all_links(url):\n",
    "    response = requests.get(url)\n",
    "    soup = BeautifulSoup(response.text, \"html.parser\")\n",
    "\n",
    "    for link in soup.find_all(\"a\"):\n",
    "        href = link.get(\"href\")\n",
    "        if href and is_valid_url(href):\n",
    "            yield href\n",
    "        elif href:\n",
    "            href = urljoin(url, href)\n",
    "            if is_valid_url(href):\n",
    "                yield href\n"
   ]
  },
  {
   "cell_type": "code",
   "execution_count": 3,
   "id": "912f4576",
   "metadata": {
    "collapsed": true
   },
   "outputs": [
    {
     "name": "stderr",
     "output_type": "stream",
     "text": [
      "  6%|█████                                                                              | 5/81 [00:00<00:09,  8.23it/s]"
     ]
    },
    {
     "name": "stdout",
     "output_type": "stream",
     "text": [
      "Error at link https://security.um.edu.my/frequently-asked-questions-faq : HTTPSConnectionPool(host='security.um.edu.my', port=443): Max retries exceeded with url: /frequently-asked-questions-faq (Caused by NewConnectionError('<urllib3.connection.HTTPSConnection object at 0x000002A1C3125490>: Failed to establish a new connection: [Errno 11001] getaddrinfo failed'))\n"
     ]
    },
    {
     "name": "stderr",
     "output_type": "stream",
     "text": [
      " 35%|████████████████████████████▎                                                     | 28/81 [00:04<00:07,  6.76it/s]\n"
     ]
    },
    {
     "ename": "KeyboardInterrupt",
     "evalue": "",
     "output_type": "error",
     "traceback": [
      "\u001b[1;31m---------------------------------------------------------------------------\u001b[0m",
      "\u001b[1;31mKeyboardInterrupt\u001b[0m                         Traceback (most recent call last)",
      "\u001b[1;32m~\\AppData\\Local\\Temp/ipykernel_26544/1103660042.py\u001b[0m in \u001b[0;36m<module>\u001b[1;34m\u001b[0m\n\u001b[0;32m     10\u001b[0m     \u001b[1;32mif\u001b[0m \u001b[1;34m\"um.edu.my\"\u001b[0m \u001b[1;32min\u001b[0m \u001b[0mlink\u001b[0m\u001b[1;33m:\u001b[0m\u001b[1;33m\u001b[0m\u001b[1;33m\u001b[0m\u001b[0m\n\u001b[0;32m     11\u001b[0m         \u001b[1;32mtry\u001b[0m\u001b[1;33m:\u001b[0m\u001b[1;33m\u001b[0m\u001b[1;33m\u001b[0m\u001b[0m\n\u001b[1;32m---> 12\u001b[1;33m             \u001b[0mtemp_links\u001b[0m \u001b[1;33m=\u001b[0m \u001b[0mset\u001b[0m\u001b[1;33m(\u001b[0m\u001b[0mget_all_links\u001b[0m\u001b[1;33m(\u001b[0m\u001b[0mlink\u001b[0m\u001b[1;33m)\u001b[0m\u001b[1;33m)\u001b[0m\u001b[1;33m\u001b[0m\u001b[1;33m\u001b[0m\u001b[0m\n\u001b[0m\u001b[0;32m     13\u001b[0m             \u001b[0mlinks\u001b[0m\u001b[1;33m.\u001b[0m\u001b[0mextend\u001b[0m\u001b[1;33m(\u001b[0m\u001b[0mtemp_links\u001b[0m\u001b[1;33m)\u001b[0m\u001b[1;33m\u001b[0m\u001b[1;33m\u001b[0m\u001b[0m\n\u001b[0;32m     14\u001b[0m         \u001b[1;32mexcept\u001b[0m \u001b[0mException\u001b[0m \u001b[1;32mas\u001b[0m \u001b[0me\u001b[0m\u001b[1;33m:\u001b[0m\u001b[1;33m\u001b[0m\u001b[1;33m\u001b[0m\u001b[0m\n",
      "\u001b[1;32m~\\AppData\\Local\\Temp/ipykernel_26544/2726827972.py\u001b[0m in \u001b[0;36mget_all_links\u001b[1;34m(url)\u001b[0m\n\u001b[0;32m     11\u001b[0m \u001b[1;33m\u001b[0m\u001b[0m\n\u001b[0;32m     12\u001b[0m \u001b[1;32mdef\u001b[0m \u001b[0mget_all_links\u001b[0m\u001b[1;33m(\u001b[0m\u001b[0murl\u001b[0m\u001b[1;33m)\u001b[0m\u001b[1;33m:\u001b[0m\u001b[1;33m\u001b[0m\u001b[1;33m\u001b[0m\u001b[0m\n\u001b[1;32m---> 13\u001b[1;33m     \u001b[0mresponse\u001b[0m \u001b[1;33m=\u001b[0m \u001b[0mrequests\u001b[0m\u001b[1;33m.\u001b[0m\u001b[0mget\u001b[0m\u001b[1;33m(\u001b[0m\u001b[0murl\u001b[0m\u001b[1;33m)\u001b[0m\u001b[1;33m\u001b[0m\u001b[1;33m\u001b[0m\u001b[0m\n\u001b[0m\u001b[0;32m     14\u001b[0m     \u001b[0msoup\u001b[0m \u001b[1;33m=\u001b[0m \u001b[0mBeautifulSoup\u001b[0m\u001b[1;33m(\u001b[0m\u001b[0mresponse\u001b[0m\u001b[1;33m.\u001b[0m\u001b[0mtext\u001b[0m\u001b[1;33m,\u001b[0m \u001b[1;34m\"html.parser\"\u001b[0m\u001b[1;33m)\u001b[0m\u001b[1;33m\u001b[0m\u001b[1;33m\u001b[0m\u001b[0m\n\u001b[0;32m     15\u001b[0m \u001b[1;33m\u001b[0m\u001b[0m\n",
      "\u001b[1;32m~\\anaconda3\\lib\\site-packages\\requests\\api.py\u001b[0m in \u001b[0;36mget\u001b[1;34m(url, params, **kwargs)\u001b[0m\n\u001b[0;32m     73\u001b[0m     \"\"\"\n\u001b[0;32m     74\u001b[0m \u001b[1;33m\u001b[0m\u001b[0m\n\u001b[1;32m---> 75\u001b[1;33m     \u001b[1;32mreturn\u001b[0m \u001b[0mrequest\u001b[0m\u001b[1;33m(\u001b[0m\u001b[1;34m'get'\u001b[0m\u001b[1;33m,\u001b[0m \u001b[0murl\u001b[0m\u001b[1;33m,\u001b[0m \u001b[0mparams\u001b[0m\u001b[1;33m=\u001b[0m\u001b[0mparams\u001b[0m\u001b[1;33m,\u001b[0m \u001b[1;33m**\u001b[0m\u001b[0mkwargs\u001b[0m\u001b[1;33m)\u001b[0m\u001b[1;33m\u001b[0m\u001b[1;33m\u001b[0m\u001b[0m\n\u001b[0m\u001b[0;32m     76\u001b[0m \u001b[1;33m\u001b[0m\u001b[0m\n\u001b[0;32m     77\u001b[0m \u001b[1;33m\u001b[0m\u001b[0m\n",
      "\u001b[1;32m~\\anaconda3\\lib\\site-packages\\requests\\api.py\u001b[0m in \u001b[0;36mrequest\u001b[1;34m(method, url, **kwargs)\u001b[0m\n\u001b[0;32m     59\u001b[0m     \u001b[1;31m# cases, and look like a memory leak in others.\u001b[0m\u001b[1;33m\u001b[0m\u001b[1;33m\u001b[0m\u001b[0m\n\u001b[0;32m     60\u001b[0m     \u001b[1;32mwith\u001b[0m \u001b[0msessions\u001b[0m\u001b[1;33m.\u001b[0m\u001b[0mSession\u001b[0m\u001b[1;33m(\u001b[0m\u001b[1;33m)\u001b[0m \u001b[1;32mas\u001b[0m \u001b[0msession\u001b[0m\u001b[1;33m:\u001b[0m\u001b[1;33m\u001b[0m\u001b[1;33m\u001b[0m\u001b[0m\n\u001b[1;32m---> 61\u001b[1;33m         \u001b[1;32mreturn\u001b[0m \u001b[0msession\u001b[0m\u001b[1;33m.\u001b[0m\u001b[0mrequest\u001b[0m\u001b[1;33m(\u001b[0m\u001b[0mmethod\u001b[0m\u001b[1;33m=\u001b[0m\u001b[0mmethod\u001b[0m\u001b[1;33m,\u001b[0m \u001b[0murl\u001b[0m\u001b[1;33m=\u001b[0m\u001b[0murl\u001b[0m\u001b[1;33m,\u001b[0m \u001b[1;33m**\u001b[0m\u001b[0mkwargs\u001b[0m\u001b[1;33m)\u001b[0m\u001b[1;33m\u001b[0m\u001b[1;33m\u001b[0m\u001b[0m\n\u001b[0m\u001b[0;32m     62\u001b[0m \u001b[1;33m\u001b[0m\u001b[0m\n\u001b[0;32m     63\u001b[0m \u001b[1;33m\u001b[0m\u001b[0m\n",
      "\u001b[1;32m~\\anaconda3\\lib\\site-packages\\requests\\sessions.py\u001b[0m in \u001b[0;36mrequest\u001b[1;34m(self, method, url, params, data, headers, cookies, files, auth, timeout, allow_redirects, proxies, hooks, stream, verify, cert, json)\u001b[0m\n\u001b[0;32m    540\u001b[0m         }\n\u001b[0;32m    541\u001b[0m         \u001b[0msend_kwargs\u001b[0m\u001b[1;33m.\u001b[0m\u001b[0mupdate\u001b[0m\u001b[1;33m(\u001b[0m\u001b[0msettings\u001b[0m\u001b[1;33m)\u001b[0m\u001b[1;33m\u001b[0m\u001b[1;33m\u001b[0m\u001b[0m\n\u001b[1;32m--> 542\u001b[1;33m         \u001b[0mresp\u001b[0m \u001b[1;33m=\u001b[0m \u001b[0mself\u001b[0m\u001b[1;33m.\u001b[0m\u001b[0msend\u001b[0m\u001b[1;33m(\u001b[0m\u001b[0mprep\u001b[0m\u001b[1;33m,\u001b[0m \u001b[1;33m**\u001b[0m\u001b[0msend_kwargs\u001b[0m\u001b[1;33m)\u001b[0m\u001b[1;33m\u001b[0m\u001b[1;33m\u001b[0m\u001b[0m\n\u001b[0m\u001b[0;32m    543\u001b[0m \u001b[1;33m\u001b[0m\u001b[0m\n\u001b[0;32m    544\u001b[0m         \u001b[1;32mreturn\u001b[0m \u001b[0mresp\u001b[0m\u001b[1;33m\u001b[0m\u001b[1;33m\u001b[0m\u001b[0m\n",
      "\u001b[1;32m~\\anaconda3\\lib\\site-packages\\requests\\sessions.py\u001b[0m in \u001b[0;36msend\u001b[1;34m(self, request, **kwargs)\u001b[0m\n\u001b[0;32m    653\u001b[0m \u001b[1;33m\u001b[0m\u001b[0m\n\u001b[0;32m    654\u001b[0m         \u001b[1;31m# Send the request\u001b[0m\u001b[1;33m\u001b[0m\u001b[1;33m\u001b[0m\u001b[0m\n\u001b[1;32m--> 655\u001b[1;33m         \u001b[0mr\u001b[0m \u001b[1;33m=\u001b[0m \u001b[0madapter\u001b[0m\u001b[1;33m.\u001b[0m\u001b[0msend\u001b[0m\u001b[1;33m(\u001b[0m\u001b[0mrequest\u001b[0m\u001b[1;33m,\u001b[0m \u001b[1;33m**\u001b[0m\u001b[0mkwargs\u001b[0m\u001b[1;33m)\u001b[0m\u001b[1;33m\u001b[0m\u001b[1;33m\u001b[0m\u001b[0m\n\u001b[0m\u001b[0;32m    656\u001b[0m \u001b[1;33m\u001b[0m\u001b[0m\n\u001b[0;32m    657\u001b[0m         \u001b[1;31m# Total elapsed time of the request (approximately)\u001b[0m\u001b[1;33m\u001b[0m\u001b[1;33m\u001b[0m\u001b[0m\n",
      "\u001b[1;32m~\\anaconda3\\lib\\site-packages\\requests\\adapters.py\u001b[0m in \u001b[0;36msend\u001b[1;34m(self, request, stream, timeout, verify, cert, proxies)\u001b[0m\n\u001b[0;32m    437\u001b[0m         \u001b[1;32mtry\u001b[0m\u001b[1;33m:\u001b[0m\u001b[1;33m\u001b[0m\u001b[1;33m\u001b[0m\u001b[0m\n\u001b[0;32m    438\u001b[0m             \u001b[1;32mif\u001b[0m \u001b[1;32mnot\u001b[0m \u001b[0mchunked\u001b[0m\u001b[1;33m:\u001b[0m\u001b[1;33m\u001b[0m\u001b[1;33m\u001b[0m\u001b[0m\n\u001b[1;32m--> 439\u001b[1;33m                 resp = conn.urlopen(\n\u001b[0m\u001b[0;32m    440\u001b[0m                     \u001b[0mmethod\u001b[0m\u001b[1;33m=\u001b[0m\u001b[0mrequest\u001b[0m\u001b[1;33m.\u001b[0m\u001b[0mmethod\u001b[0m\u001b[1;33m,\u001b[0m\u001b[1;33m\u001b[0m\u001b[1;33m\u001b[0m\u001b[0m\n\u001b[0;32m    441\u001b[0m                     \u001b[0murl\u001b[0m\u001b[1;33m=\u001b[0m\u001b[0murl\u001b[0m\u001b[1;33m,\u001b[0m\u001b[1;33m\u001b[0m\u001b[1;33m\u001b[0m\u001b[0m\n",
      "\u001b[1;32m~\\anaconda3\\lib\\site-packages\\urllib3\\connectionpool.py\u001b[0m in \u001b[0;36murlopen\u001b[1;34m(self, method, url, body, headers, retries, redirect, assert_same_host, timeout, pool_timeout, release_conn, chunked, body_pos, **response_kw)\u001b[0m\n\u001b[0;32m    697\u001b[0m \u001b[1;33m\u001b[0m\u001b[0m\n\u001b[0;32m    698\u001b[0m             \u001b[1;31m# Make the request on the httplib connection object.\u001b[0m\u001b[1;33m\u001b[0m\u001b[1;33m\u001b[0m\u001b[0m\n\u001b[1;32m--> 699\u001b[1;33m             httplib_response = self._make_request(\n\u001b[0m\u001b[0;32m    700\u001b[0m                 \u001b[0mconn\u001b[0m\u001b[1;33m,\u001b[0m\u001b[1;33m\u001b[0m\u001b[1;33m\u001b[0m\u001b[0m\n\u001b[0;32m    701\u001b[0m                 \u001b[0mmethod\u001b[0m\u001b[1;33m,\u001b[0m\u001b[1;33m\u001b[0m\u001b[1;33m\u001b[0m\u001b[0m\n",
      "\u001b[1;32m~\\anaconda3\\lib\\site-packages\\urllib3\\connectionpool.py\u001b[0m in \u001b[0;36m_make_request\u001b[1;34m(self, conn, method, url, timeout, chunked, **httplib_request_kw)\u001b[0m\n\u001b[0;32m    380\u001b[0m         \u001b[1;31m# Trigger any extra validation we need to do.\u001b[0m\u001b[1;33m\u001b[0m\u001b[1;33m\u001b[0m\u001b[0m\n\u001b[0;32m    381\u001b[0m         \u001b[1;32mtry\u001b[0m\u001b[1;33m:\u001b[0m\u001b[1;33m\u001b[0m\u001b[1;33m\u001b[0m\u001b[0m\n\u001b[1;32m--> 382\u001b[1;33m             \u001b[0mself\u001b[0m\u001b[1;33m.\u001b[0m\u001b[0m_validate_conn\u001b[0m\u001b[1;33m(\u001b[0m\u001b[0mconn\u001b[0m\u001b[1;33m)\u001b[0m\u001b[1;33m\u001b[0m\u001b[1;33m\u001b[0m\u001b[0m\n\u001b[0m\u001b[0;32m    383\u001b[0m         \u001b[1;32mexcept\u001b[0m \u001b[1;33m(\u001b[0m\u001b[0mSocketTimeout\u001b[0m\u001b[1;33m,\u001b[0m \u001b[0mBaseSSLError\u001b[0m\u001b[1;33m)\u001b[0m \u001b[1;32mas\u001b[0m \u001b[0me\u001b[0m\u001b[1;33m:\u001b[0m\u001b[1;33m\u001b[0m\u001b[1;33m\u001b[0m\u001b[0m\n\u001b[0;32m    384\u001b[0m             \u001b[1;31m# Py2 raises this as a BaseSSLError, Py3 raises it as socket timeout.\u001b[0m\u001b[1;33m\u001b[0m\u001b[1;33m\u001b[0m\u001b[0m\n",
      "\u001b[1;32m~\\anaconda3\\lib\\site-packages\\urllib3\\connectionpool.py\u001b[0m in \u001b[0;36m_validate_conn\u001b[1;34m(self, conn)\u001b[0m\n\u001b[0;32m   1008\u001b[0m         \u001b[1;31m# Force connect early to allow us to validate the connection.\u001b[0m\u001b[1;33m\u001b[0m\u001b[1;33m\u001b[0m\u001b[0m\n\u001b[0;32m   1009\u001b[0m         \u001b[1;32mif\u001b[0m \u001b[1;32mnot\u001b[0m \u001b[0mgetattr\u001b[0m\u001b[1;33m(\u001b[0m\u001b[0mconn\u001b[0m\u001b[1;33m,\u001b[0m \u001b[1;34m\"sock\"\u001b[0m\u001b[1;33m,\u001b[0m \u001b[1;32mNone\u001b[0m\u001b[1;33m)\u001b[0m\u001b[1;33m:\u001b[0m  \u001b[1;31m# AppEngine might not have  `.sock`\u001b[0m\u001b[1;33m\u001b[0m\u001b[1;33m\u001b[0m\u001b[0m\n\u001b[1;32m-> 1010\u001b[1;33m             \u001b[0mconn\u001b[0m\u001b[1;33m.\u001b[0m\u001b[0mconnect\u001b[0m\u001b[1;33m(\u001b[0m\u001b[1;33m)\u001b[0m\u001b[1;33m\u001b[0m\u001b[1;33m\u001b[0m\u001b[0m\n\u001b[0m\u001b[0;32m   1011\u001b[0m \u001b[1;33m\u001b[0m\u001b[0m\n\u001b[0;32m   1012\u001b[0m         \u001b[1;32mif\u001b[0m \u001b[1;32mnot\u001b[0m \u001b[0mconn\u001b[0m\u001b[1;33m.\u001b[0m\u001b[0mis_verified\u001b[0m\u001b[1;33m:\u001b[0m\u001b[1;33m\u001b[0m\u001b[1;33m\u001b[0m\u001b[0m\n",
      "\u001b[1;32m~\\anaconda3\\lib\\site-packages\\urllib3\\connection.py\u001b[0m in \u001b[0;36mconnect\u001b[1;34m(self)\u001b[0m\n\u001b[0;32m    356\u001b[0m     \u001b[1;32mdef\u001b[0m \u001b[0mconnect\u001b[0m\u001b[1;33m(\u001b[0m\u001b[0mself\u001b[0m\u001b[1;33m)\u001b[0m\u001b[1;33m:\u001b[0m\u001b[1;33m\u001b[0m\u001b[1;33m\u001b[0m\u001b[0m\n\u001b[0;32m    357\u001b[0m         \u001b[1;31m# Add certificate verification\u001b[0m\u001b[1;33m\u001b[0m\u001b[1;33m\u001b[0m\u001b[0m\n\u001b[1;32m--> 358\u001b[1;33m         \u001b[0mconn\u001b[0m \u001b[1;33m=\u001b[0m \u001b[0mself\u001b[0m\u001b[1;33m.\u001b[0m\u001b[0m_new_conn\u001b[0m\u001b[1;33m(\u001b[0m\u001b[1;33m)\u001b[0m\u001b[1;33m\u001b[0m\u001b[1;33m\u001b[0m\u001b[0m\n\u001b[0m\u001b[0;32m    359\u001b[0m         \u001b[0mhostname\u001b[0m \u001b[1;33m=\u001b[0m \u001b[0mself\u001b[0m\u001b[1;33m.\u001b[0m\u001b[0mhost\u001b[0m\u001b[1;33m\u001b[0m\u001b[1;33m\u001b[0m\u001b[0m\n\u001b[0;32m    360\u001b[0m         \u001b[0mtls_in_tls\u001b[0m \u001b[1;33m=\u001b[0m \u001b[1;32mFalse\u001b[0m\u001b[1;33m\u001b[0m\u001b[1;33m\u001b[0m\u001b[0m\n",
      "\u001b[1;32m~\\anaconda3\\lib\\site-packages\\urllib3\\connection.py\u001b[0m in \u001b[0;36m_new_conn\u001b[1;34m(self)\u001b[0m\n\u001b[0;32m    172\u001b[0m \u001b[1;33m\u001b[0m\u001b[0m\n\u001b[0;32m    173\u001b[0m         \u001b[1;32mtry\u001b[0m\u001b[1;33m:\u001b[0m\u001b[1;33m\u001b[0m\u001b[1;33m\u001b[0m\u001b[0m\n\u001b[1;32m--> 174\u001b[1;33m             conn = connection.create_connection(\n\u001b[0m\u001b[0;32m    175\u001b[0m                 \u001b[1;33m(\u001b[0m\u001b[0mself\u001b[0m\u001b[1;33m.\u001b[0m\u001b[0m_dns_host\u001b[0m\u001b[1;33m,\u001b[0m \u001b[0mself\u001b[0m\u001b[1;33m.\u001b[0m\u001b[0mport\u001b[0m\u001b[1;33m)\u001b[0m\u001b[1;33m,\u001b[0m \u001b[0mself\u001b[0m\u001b[1;33m.\u001b[0m\u001b[0mtimeout\u001b[0m\u001b[1;33m,\u001b[0m \u001b[1;33m**\u001b[0m\u001b[0mextra_kw\u001b[0m\u001b[1;33m\u001b[0m\u001b[1;33m\u001b[0m\u001b[0m\n\u001b[0;32m    176\u001b[0m             )\n",
      "\u001b[1;32m~\\anaconda3\\lib\\site-packages\\urllib3\\util\\connection.py\u001b[0m in \u001b[0;36mcreate_connection\u001b[1;34m(address, timeout, source_address, socket_options)\u001b[0m\n\u001b[0;32m     84\u001b[0m             \u001b[1;32mif\u001b[0m \u001b[0msource_address\u001b[0m\u001b[1;33m:\u001b[0m\u001b[1;33m\u001b[0m\u001b[1;33m\u001b[0m\u001b[0m\n\u001b[0;32m     85\u001b[0m                 \u001b[0msock\u001b[0m\u001b[1;33m.\u001b[0m\u001b[0mbind\u001b[0m\u001b[1;33m(\u001b[0m\u001b[0msource_address\u001b[0m\u001b[1;33m)\u001b[0m\u001b[1;33m\u001b[0m\u001b[1;33m\u001b[0m\u001b[0m\n\u001b[1;32m---> 86\u001b[1;33m             \u001b[0msock\u001b[0m\u001b[1;33m.\u001b[0m\u001b[0mconnect\u001b[0m\u001b[1;33m(\u001b[0m\u001b[0msa\u001b[0m\u001b[1;33m)\u001b[0m\u001b[1;33m\u001b[0m\u001b[1;33m\u001b[0m\u001b[0m\n\u001b[0m\u001b[0;32m     87\u001b[0m             \u001b[1;32mreturn\u001b[0m \u001b[0msock\u001b[0m\u001b[1;33m\u001b[0m\u001b[1;33m\u001b[0m\u001b[0m\n\u001b[0;32m     88\u001b[0m \u001b[1;33m\u001b[0m\u001b[0m\n",
      "\u001b[1;31mKeyboardInterrupt\u001b[0m: "
     ]
    }
   ],
   "source": [
    "url = \"https://www.um.edu.my/\"  # Replace with the target website URL\n",
    "links = list(set(get_all_links(url)))\n",
    "\n",
    "copy_links = links.copy()\n",
    "\n",
    "\n",
    "for i, link in tqdm(enumerate(copy_links), total = len(copy_links)):\n",
    "#     if i > 5:\n",
    "#         break\n",
    "    if \"um.edu.my\" in link:\n",
    "        try:\n",
    "            temp_links = set(get_all_links(link))\n",
    "            links.extend(temp_links)\n",
    "        except Exception as e:\n",
    "            print(f\"Error at link {link} : {e}\")\n",
    "\n",
    "print(f\"Total links: {len(links)}\")"
   ]
  },
  {
   "cell_type": "code",
   "execution_count": 6,
   "id": "da808dae",
   "metadata": {},
   "outputs": [
    {
     "data": {
      "text/plain": [
       "1138"
      ]
     },
     "execution_count": 6,
     "metadata": {},
     "output_type": "execute_result"
    }
   ],
   "source": [
    "links = list(set(links))\n",
    "len(links)"
   ]
  },
  {
   "cell_type": "code",
   "execution_count": 7,
   "id": "78dd01c6",
   "metadata": {},
   "outputs": [
    {
     "name": "stderr",
     "output_type": "stream",
     "text": [
      "  4%|███▌                                                                            | 50/1138 [07:09<03:03,  5.93it/s]"
     ]
    },
    {
     "name": "stdout",
     "output_type": "stream",
     "text": [
      "Error at link http://repository.um.edu.my/ : HTTPConnectionPool(host='repository.um.edu.my', port=80): Max retries exceeded with url: / (Caused by NewConnectionError('<urllib3.connection.HTTPConnection object at 0x000001351F449A90>: Failed to establish a new connection: [Errno 11001] getaddrinfo failed'))\n"
     ]
    },
    {
     "name": "stderr",
     "output_type": "stream",
     "text": [
      " 15%|████████████                                                                   | 174/1138 [08:51<02:38,  6.08it/s]"
     ]
    },
    {
     "name": "stdout",
     "output_type": "stream",
     "text": [
      "Error at link http://spacer.um.edu.my : HTTPConnectionPool(host='spacer.um.edu.my', port=80): Max retries exceeded with url: / (Caused by NewConnectionError('<urllib3.connection.HTTPConnection object at 0x000001351FA12520>: Failed to establish a new connection: [Errno 11001] getaddrinfo failed'))\n"
     ]
    },
    {
     "name": "stderr",
     "output_type": "stream",
     "text": [
      " 29%|██████████████████████▋                                                        | 327/1138 [13:46<03:18,  4.08it/s]"
     ]
    },
    {
     "name": "stdout",
     "output_type": "stream",
     "text": [
      "Error at link https://security.um.edu.my/frequently-asked-questions-faq : HTTPSConnectionPool(host='security.um.edu.my', port=443): Max retries exceeded with url: /frequently-asked-questions-faq (Caused by NewConnectionError('<urllib3.connection.HTTPSConnection object at 0x000001351F2DA490>: Failed to establish a new connection: [Errno 11001] getaddrinfo failed'))\n"
     ]
    },
    {
     "name": "stderr",
     "output_type": "stream",
     "text": [
      " 33%|██████████████████████████                                                     | 376/1138 [14:02<05:36,  2.26it/s]"
     ]
    },
    {
     "name": "stdout",
     "output_type": "stream",
     "text": [
      "Error at link http://umresearch.um.edu.my  : HTTPConnectionPool(host='umresearch.um.edu.my%20', port=80): Max retries exceeded with url: / (Caused by NewConnectionError('<urllib3.connection.HTTPConnection object at 0x000001351F45AFA0>: Failed to establish a new connection: [Errno 11001] getaddrinfo failed'))\n"
     ]
    },
    {
     "name": "stderr",
     "output_type": "stream",
     "text": [
      " 33%|██████████████████████████▍                                                    | 381/1138 [14:05<07:12,  1.75it/s]"
     ]
    },
    {
     "name": "stdout",
     "output_type": "stream",
     "text": [
      "Error at link https://umcmsx.um.edu.my/sites/university-of-malaya/docs/student-support/UNIVERSITI MALAYA INCLUSIVE POLICY FOR PERSONS WITH DISABILITIES.pdf : HTTPSConnectionPool(host='umcmsx.um.edu.my', port=443): Max retries exceeded with url: /sites/university-of-malaya/docs/student-support/UNIVERSITI%20MALAYA%20INCLUSIVE%20POLICY%20FOR%20PERSONS%20WITH%20DISABILITIES.pdf (Caused by NewConnectionError('<urllib3.connection.HTTPSConnection object at 0x000001351FDB0820>: Failed to establish a new connection: [Errno 11001] getaddrinfo failed'))\n"
     ]
    },
    {
     "name": "stderr",
     "output_type": "stream",
     "text": [
      " 34%|██████████████████████████▌                                                    | 383/1138 [14:06<05:12,  2.42it/s]"
     ]
    },
    {
     "name": "stdout",
     "output_type": "stream",
     "text": [
      "Error at link https://umcms.um.edu.my/sites/hep-um-edu-my/SPECIAL%20ACTIVITIES/Special_Highlights/Lampiran%202%20_Mahasiswa%20dan%20Pascasiswazah.pdf : HTTPSConnectionPool(host='umcms.um.edu.my', port=443): Max retries exceeded with url: /sites/hep-um-edu-my/SPECIAL%20ACTIVITIES/Special_Highlights/Lampiran%202%20_Mahasiswa%20dan%20Pascasiswazah.pdf (Caused by NewConnectionError('<urllib3.connection.HTTPSConnection object at 0x000001351FCC2C10>: Failed to establish a new connection: [Errno 11001] getaddrinfo failed'))\n"
     ]
    },
    {
     "name": "stderr",
     "output_type": "stream",
     "text": [
      " 34%|██████████████████████████▊                                                    | 386/1138 [14:06<03:19,  3.77it/s]"
     ]
    },
    {
     "name": "stdout",
     "output_type": "stream",
     "text": [
      "Error at link https://ptm.um.edu.my/university-of-malaya-mobile-app : HTTPSConnectionPool(host='it.um.edu.myuniversity-of-malaya-mobile-app', port=443): Max retries exceeded with url: / (Caused by NewConnectionError('<urllib3.connection.HTTPSConnection object at 0x000001351FCE4A60>: Failed to establish a new connection: [Errno 11001] getaddrinfo failed'))\n"
     ]
    },
    {
     "name": "stderr",
     "output_type": "stream",
     "text": [
      " 36%|████████████████████████████▍                                                  | 409/1138 [14:12<02:05,  5.79it/s]"
     ]
    },
    {
     "name": "stdout",
     "output_type": "stream",
     "text": [
      "Error at link http://www.umlib.um.edu.my/ : HTTPConnectionPool(host='www.umlib.um.edu.my', port=80): Max retries exceeded with url: / (Caused by NewConnectionError('<urllib3.connection.HTTPConnection object at 0x000001351F7CB040>: Failed to establish a new connection: [Errno 11001] getaddrinfo failed'))\n"
     ]
    },
    {
     "name": "stderr",
     "output_type": "stream",
     "text": [
      " 37%|█████████████████████████████▏                                                 | 421/1138 [14:14<01:41,  7.04it/s]"
     ]
    },
    {
     "name": "stdout",
     "output_type": "stream",
     "text": [
      "Error at link http://umctesadmin.um.edu.my : HTTPConnectionPool(host='umctesadmin.um.edu.my', port=80): Max retries exceeded with url: / (Caused by NewConnectionError('<urllib3.connection.HTTPConnection object at 0x000001351F3DE070>: Failed to establish a new connection: [Errno 11001] getaddrinfo failed'))\n"
     ]
    },
    {
     "name": "stderr",
     "output_type": "stream",
     "text": [
      " 38%|██████████████████████████████▎                                                | 437/1138 [14:32<04:07,  2.83it/s]"
     ]
    },
    {
     "name": "stdout",
     "output_type": "stream",
     "text": [
      "Error at link http://umforum.um.edu.my/ : HTTPConnectionPool(host='umforum.um.edu.my', port=80): Max retries exceeded with url: / (Caused by NewConnectionError('<urllib3.connection.HTTPConnection object at 0x000001351F663E80>: Failed to establish a new connection: [Errno 11001] getaddrinfo failed'))\n",
      "Error at link https://lec.um.edu.my/ : HTTPSConnectionPool(host='lec.um.edu.my', port=443): Max retries exceeded with url: / (Caused by NewConnectionError('<urllib3.connection.HTTPSConnection object at 0x000001351F663E20>: Failed to establish a new connection: [Errno 11001] getaddrinfo failed'))\n"
     ]
    },
    {
     "name": "stderr",
     "output_type": "stream",
     "text": [
      " 40%|███████████████████████████████▍                                               | 453/1138 [14:34<02:02,  5.59it/s]"
     ]
    },
    {
     "name": "stdout",
     "output_type": "stream",
     "text": [
      "Error at link https://kk4.um.edu.my/ : HTTPSConnectionPool(host='kk4.um.edu.my', port=443): Max retries exceeded with url: / (Caused by NewConnectionError('<urllib3.connection.HTTPSConnection object at 0x000001351F6BA790>: Failed to establish a new connection: [Errno 11001] getaddrinfo failed'))\n"
     ]
    },
    {
     "name": "stderr",
     "output_type": "stream",
     "text": [
      " 57%|█████████████████████████████████████████████▎                                 | 652/1138 [15:28<02:58,  2.72it/s]"
     ]
    },
    {
     "name": "stdout",
     "output_type": "stream",
     "text": [
      "Error at link https://umcms.um.edu.my/sites/hep-um-edu-my/doc/Develpoment/GP%20Cuti%20Gap%20Year%20UM.pdf : HTTPSConnectionPool(host='umcms.um.edu.my', port=443): Max retries exceeded with url: /sites/hep-um-edu-my/doc/Develpoment/GP%20Cuti%20Gap%20Year%20UM.pdf (Caused by NewConnectionError('<urllib3.connection.HTTPSConnection object at 0x000001351FA34640>: Failed to establish a new connection: [Errno 11001] getaddrinfo failed'))\n"
     ]
    },
    {
     "name": "stderr",
     "output_type": "stream",
     "text": [
      " 60%|███████████████████████████████████████████████▌                               | 686/1138 [15:36<01:17,  5.83it/s]"
     ]
    },
    {
     "name": "stdout",
     "output_type": "stream",
     "text": [
      "Error at link http://vmis.um.edu.my/v2 : HTTPSConnectionPool(host='ejournal.um.edu.myv2', port=443): Max retries exceeded with url: / (Caused by NewConnectionError('<urllib3.connection.HTTPSConnection object at 0x000001351F06FFA0>: Failed to establish a new connection: [Errno 11001] getaddrinfo failed'))\n"
     ]
    },
    {
     "name": "stderr",
     "output_type": "stream",
     "text": [
      " 63%|█████████████████████████████████████████████████▊                             | 718/1138 [15:42<01:12,  5.79it/s]"
     ]
    },
    {
     "name": "stdout",
     "output_type": "stream",
     "text": [
      "Error at link https://umconference.um.edu.my/ : HTTPSConnectionPool(host='umconference.um.edu.my', port=443): Max retries exceeded with url: / (Caused by NewConnectionError('<urllib3.connection.HTTPSConnection object at 0x000001351F897B80>: Failed to establish a new connection: [Errno 11001] getaddrinfo failed'))\n"
     ]
    },
    {
     "name": "stderr",
     "output_type": "stream",
     "text": [
      " 71%|████████████████████████████████████████████████████████▏                      | 809/1138 [20:51<02:00,  2.74it/s]"
     ]
    },
    {
     "name": "stdout",
     "output_type": "stream",
     "text": [
      "Error at link https://ppsg.um.edu.my/strategic-planning : HTTPSConnectionPool(host='ppsg.um.edu.my', port=443): Max retries exceeded with url: /strategic-planning (Caused by NewConnectionError('<urllib3.connection.HTTPSConnection object at 0x000001351F66A5B0>: Failed to establish a new connection: [Errno 11001] getaddrinfo failed'))\n"
     ]
    },
    {
     "name": "stderr",
     "output_type": "stream",
     "text": [
      " 77%|█████████████████████████████████████████████████████████████                  | 880/1138 [26:53<35:19,  8.21s/it]"
     ]
    },
    {
     "name": "stdout",
     "output_type": "stream",
     "text": [
      "Error at link https://pkkm.um.edu.my : HTTPSConnectionPool(host='pkkm.um.edu.my', port=443): Max retries exceeded with url: / (Caused by NewConnectionError('<urllib3.connection.HTTPSConnection object at 0x000001351FE34CD0>: Failed to establish a new connection: [Errno 11001] getaddrinfo failed'))\n"
     ]
    },
    {
     "name": "stderr",
     "output_type": "stream",
     "text": [
      " 78%|█████████████████████████████████████████████████████████████▌                 | 886/1138 [27:15<30:35,  7.28s/it]"
     ]
    },
    {
     "name": "stdout",
     "output_type": "stream",
     "text": [
      "Error at link http://webcast.um.edu.my/streaming/ : HTTPConnectionPool(host='webcast.um.edu.my', port=80): Max retries exceeded with url: /streaming/ (Caused by NewConnectionError('<urllib3.connection.HTTPConnection object at 0x000001351FDC5C10>: Failed to establish a new connection: [WinError 10060] A connection attempt failed because the connected party did not properly respond after a period of time, or established connection failed because connected host has failed to respond'))\n"
     ]
    },
    {
     "name": "stderr",
     "output_type": "stream",
     "text": [
      " 78%|█████████████████████████████████████████████████████████████▊                 | 891/1138 [27:17<06:02,  1.47s/it]"
     ]
    },
    {
     "name": "stdout",
     "output_type": "stream",
     "text": [
      "Error at link http://ummis.um.edu.my : HTTPConnectionPool(host='ummis.um.edu.my', port=80): Max retries exceeded with url: / (Caused by NewConnectionError('<urllib3.connection.HTTPConnection object at 0x000001351FFEB760>: Failed to establish a new connection: [Errno 11001] getaddrinfo failed'))\n"
     ]
    },
    {
     "name": "stderr",
     "output_type": "stream",
     "text": [
      " 85%|██████████████████████████████████████████████████████████████████▉            | 965/1138 [27:48<01:31,  1.89it/s]"
     ]
    },
    {
     "name": "stdout",
     "output_type": "stream",
     "text": [
      "Error at link http://fba.um.edu.my : HTTPConnectionPool(host='fba.um.edu.my', port=80): Max retries exceeded with url: / (Caused by NewConnectionError('<urllib3.connection.HTTPConnection object at 0x000001351FBAE0A0>: Failed to establish a new connection: [Errno 11001] getaddrinfo failed'))\n"
     ]
    },
    {
     "name": "stderr",
     "output_type": "stream",
     "text": [
      " 87%|████████████████████████████████████████████████████████████████████▊          | 992/1138 [29:17<18:18,  7.53s/it]"
     ]
    },
    {
     "name": "stdout",
     "output_type": "stream",
     "text": [
      "Error at link http://esenat.um.edu.my/ : HTTPConnectionPool(host='esenat.um.edu.my', port=80): Max retries exceeded with url: / (Caused by NewConnectionError('<urllib3.connection.HTTPConnection object at 0x00000135205725B0>: Failed to establish a new connection: [Errno 11001] getaddrinfo failed'))\n"
     ]
    },
    {
     "name": "stderr",
     "output_type": "stream",
     "text": [
      " 91%|██████████████████████████████████████████████████████████████████████▉       | 1035/1138 [31:31<00:16,  6.16it/s]"
     ]
    },
    {
     "name": "stdout",
     "output_type": "stream",
     "text": [
      "Error at link https://umcms.um.edu.my/sites/hep-um-edu-my/SPECIAL%20ACTIVITIES/Special_Highlights/Lampiran%201_Pentadbir,%20Pensyarah.pdf : HTTPSConnectionPool(host='umcms.um.edu.my', port=443): Max retries exceeded with url: /sites/hep-um-edu-my/SPECIAL%20ACTIVITIES/Special_Highlights/Lampiran%201_Pentadbir,%20Pensyarah.pdf (Caused by NewConnectionError('<urllib3.connection.HTTPSConnection object at 0x000001351FCA10D0>: Failed to establish a new connection: [Errno 11001] getaddrinfo failed'))\n"
     ]
    },
    {
     "name": "stderr",
     "output_type": "stream",
     "text": [
      " 96%|███████████████████████████████████████████████████████████████████████████   | 1096/1138 [31:49<00:07,  5.61it/s]"
     ]
    },
    {
     "name": "stdout",
     "output_type": "stream",
     "text": [
      "Error at link https://pekerti.um.edu.my/ : HTTPSConnectionPool(host='pekerti.um.edu.my', port=443): Max retries exceeded with url: / (Caused by NewConnectionError('<urllib3.connection.HTTPSConnection object at 0x00000135205E7FA0>: Failed to establish a new connection: [Errno 11001] getaddrinfo failed'))\n"
     ]
    },
    {
     "name": "stderr",
     "output_type": "stream",
     "text": [
      "100%|██████████████████████████████████████████████████████████████████████████████| 1138/1138 [32:05<00:00,  1.69s/it]"
     ]
    },
    {
     "name": "stdout",
     "output_type": "stream",
     "text": [
      "Total links: 53907\n",
      "Wall time: 32min 5s\n"
     ]
    },
    {
     "name": "stderr",
     "output_type": "stream",
     "text": [
      "\n"
     ]
    }
   ],
   "source": [
    "%%time\n",
    "\n",
    "copy_links = links.copy()\n",
    "\n",
    "for i, link in tqdm(enumerate(copy_links), total = len(copy_links)):\n",
    "#     if i > 5:\n",
    "#         break\n",
    "    if \"um.edu.my\" in link:\n",
    "        try:\n",
    "            temp_links = set(get_all_links(link))\n",
    "            links.extend(temp_links)\n",
    "        except Exception as e:\n",
    "            print(f\"Error at link {link} : {e}\")\n",
    "\n",
    "print(f\"Total links: {len(links)}\")"
   ]
  },
  {
   "cell_type": "code",
   "execution_count": 4,
   "id": "d35a2bdd",
   "metadata": {},
   "outputs": [],
   "source": [
    "all_links = links.copy()"
   ]
  },
  {
   "cell_type": "code",
   "execution_count": 9,
   "id": "b6948b9b",
   "metadata": {},
   "outputs": [
    {
     "name": "stdout",
     "output_type": "stream",
     "text": [
      "https://creativearts.um.edu.my/\n"
     ]
    }
   ],
   "source": [
    "for link in all_links:\n",
    "    if \"creativearts\" in link:\n",
    "        print(link)\n",
    "        break"
   ]
  },
  {
   "cell_type": "code",
   "execution_count": 12,
   "id": "feb3bcbd",
   "metadata": {},
   "outputs": [],
   "source": [
    "#Export links variables\n",
    "\n",
    "# import pickle\n",
    "\n",
    "# # export the variables to a file using pickle\n",
    "# with open('data_UM_links_53k.pkl', 'wb') as f:\n",
    "#     pickle.dump(links, f)"
   ]
  },
  {
   "cell_type": "code",
   "execution_count": 3,
   "id": "b61b3c27",
   "metadata": {},
   "outputs": [],
   "source": [
    "#Import links variables\n",
    "import pickle\n",
    "\n",
    "# import the variables from the file using pickle\n",
    "with open('data_UM_links_53k.pkl', 'rb') as f:\n",
    "    links = pickle.load(f)\n",
    "\n"
   ]
  },
  {
   "cell_type": "code",
   "execution_count": null,
   "id": "a205c7e9",
   "metadata": {},
   "outputs": [],
   "source": []
  },
  {
   "cell_type": "code",
   "execution_count": null,
   "id": "3b1e3e17",
   "metadata": {},
   "outputs": [],
   "source": []
  },
  {
   "cell_type": "markdown",
   "id": "f95b2ee4",
   "metadata": {},
   "source": [
    "## Retrieve content from each link"
   ]
  },
  {
   "cell_type": "code",
   "execution_count": 5,
   "id": "74af997b",
   "metadata": {
    "scrolled": true
   },
   "outputs": [
    {
     "name": "stdout",
     "output_type": "stream",
     "text": [
      "Scraping : https://hep.um.edu.my/sitemap\n",
      "https://www.facebook.com/HEPAum/\n",
      "https://twitter.com/unimalaya\n",
      "http://www.youtube.com/user/UniOfMalaya\n",
      "https://www.instagram.com/hep_um/\n",
      "index\n",
      "None\n",
      "https://hep.um.edu.my/\n",
      "#\n",
      "introduction\n",
      "dvc-hep\n",
      "organizational-chart\n",
      "contact-us\n",
      "staff-directory\n",
      "inspire\n",
      "#\n",
      "student-with-disabilities\n",
      "clinic\n",
      "psychology-amp-counseling\n",
      "#\n",
      "student-development\n",
      "student-welfare\n",
      "disciplinary\n",
      "entrepreneurship-amp-volunteerism\n",
      "careers-amp-co-curriculum\n",
      "graduate-employability\n",
      "https://umcms.um.edu.my/sites/hep-um-edu-my/doc/Develpoment/GP%20Cuti%20Gap%20Year%20UM.pdf\n",
      "special-activities\n",
      "#\n",
      "hotlines\n",
      "faq\n",
      "#\n",
      "index\n",
      "https://jpphb.um.edu.my/transport\n",
      "#\n",
      "introduction\n",
      "dvc-hep\n",
      "organizational-chart\n",
      "contact-us\n",
      "staff-directory\n",
      "inspire\n",
      "#\n",
      "student-with-disabilities\n",
      "clinic\n",
      "psychology-amp-counseling\n",
      "#\n",
      "student-development\n",
      "student-welfare\n",
      "disciplinary\n",
      "entrepreneurship-amp-volunteerism\n",
      "careers-amp-co-curriculum\n",
      "graduate-employability\n",
      "https://umcms.um.edu.my/sites/hep-um-edu-my/doc/Develpoment/GP%20Cuti%20Gap%20Year%20UM.pdf\n",
      "\n",
      "#\n",
      "hotlines\n",
      "\n",
      "https://hep.um.edu.my/Image/Highlights/s_exm.jpg\n",
      "https://hep.um.edu.my/Image/Highlights/s_exm.jpg\n",
      "https://hep.um.edu.my/Image/Highlights/Klinik_UM_2023.png\n",
      "https://hep.um.edu.my/Image/Highlights/Klinik_UM_2023.png\n",
      "https://hep.um.edu.my/URUSAN%20TATATERTIB/infografik%20tatatertib%202023_hebahan%20pelajar.pdf\n",
      "https://hep.um.edu.my/URUSAN%20TATATERTIB/infografik%20tatatertib%202023_hebahan%20pelajar.pdf\n",
      "https://hep.um.edu.my/Image/News/wifi.jpg\n",
      "https://hep.um.edu.my/Image/News/wifi.jpg\n",
      "https://umcms.um.edu.my/sites/hep-um-edu-my/SPECIAL%20ACTIVITIES/Special_Highlights/Lampiran%201_Pentadbir,%20Pensyarah.pdf\n",
      "https://umcms.um.edu.my/sites/hep-um-edu-my/SPECIAL%20ACTIVITIES/Special_Highlights/Lampiran%201_Pentadbir,%20Pensyarah.pdf\n",
      "https://umcms.um.edu.my/sites/hep-um-edu-my/SPECIAL%20ACTIVITIES/Special_Highlights/Lampiran%202%20_Mahasiswa%20dan%20Pascasiswazah.pdf\n",
      "https://umcms.um.edu.my/sites/hep-um-edu-my/SPECIAL%20ACTIVITIES/Special_Highlights/Lampiran%202%20_Mahasiswa%20dan%20Pascasiswazah.pdf\n",
      "https://www.um.edu.my/vision-amp-mission\n",
      "https://www.um.edu.my/our-history\n",
      "https://www.um.edu.my/um-fact-sheet\n",
      "https://www.um.edu.my/vacancies\n",
      "https://umacademic.um.edu.my\n",
      "https://giving2umef.um.edu.my\n",
      "https://umlib.um.edu.my\n",
      "https://umresearch.um.edu.my\n",
      "https://www.um.edu.my/um-services\n",
      "https://maya.um.edu.my/sitsvision/wrd/siw_lgn\n",
      "https://spectrum.um.edu.my/\n",
      "https://www.um.edu.my\n",
      "http://um.edu.my/privacy-policy/privacy-policy\n",
      "http://um.edu.my/privacy-policy/site-credits\n",
      "http://um.edu.my/privacy-policy/disclaimer\n",
      "http://um.edu.my/privacy-policy/security-policy\n",
      "sitemap\n",
      "images/UM_Logo_2022.jpg\n",
      "https://www.um.edu.my/images/taglinecco.jpg\n",
      "Image/Pautan/imej_607e3e0abb05d63db57146140d.jpg\n",
      "Image/Pautan/imej_607e3e0abb05d63c4fffc5fa75.png\n",
      "Image/Pautan/imej_607e3e0abb05d63c6679f92a13.png\n",
      "Image/Pautan/imej_607e3e0abb05d6369dee52295f.jpg\n",
      "Image/Pautan/imej_607e3e0abb05d630472172dc3c.png\n",
      "Image/Pautan/imej_607e3e0abb05d630471d858139.png\n",
      "https://www.um.edu.my/images/Logo-UM-Putih-menegak.png\n",
      "50603 Kuala Lumpur, Malaysia\n",
      "© 2021 Universiti Malaya. All Rights Reserved  |  Privacy Policy  |  Site Credits  |  Disclaimer  |  Security Policy  |  Sitemap\n"
     ]
    }
   ],
   "source": [
    "import requests\n",
    "from bs4 import BeautifulSoup\n",
    "\n",
    "# url = 'https://www.example.com'   # replace with the URL of the website you want to scrape\n",
    "\n",
    "url = all_links[10]\n",
    "print(f\"Scraping : {url}\")\n",
    "\n",
    "response = requests.get(url)\n",
    "soup = BeautifulSoup(response.content, 'html.parser')\n",
    "\n",
    "# find all links on the page\n",
    "links = soup.find_all('a')\n",
    "for link in links:\n",
    "    print(link.get('href'))\n",
    "\n",
    "# find all images on the page\n",
    "images = soup.find_all('img')\n",
    "for image in images:\n",
    "    print(image.get('src'))\n",
    "\n",
    "# find all paragraphs on the page\n",
    "paragraphs = soup.find_all('p')\n",
    "for paragraph in paragraphs:\n",
    "    print(paragraph.text)\n"
   ]
  },
  {
   "cell_type": "code",
   "execution_count": 6,
   "id": "c36c12f7",
   "metadata": {
    "scrolled": true
   },
   "outputs": [
    {
     "name": "stdout",
     "output_type": "stream",
     "text": [
      "Scraping : https://hep.um.edu.my/sitemap\n",
      "\n",
      "\n",
      "\n",
      "\n",
      "\n",
      "\n",
      "Student Affairs Department\n",
      "\n",
      "\n",
      "\n",
      "\n",
      "\n",
      "\n",
      "\n",
      "\n",
      "\n",
      "\n",
      "\n",
      "\n",
      "\n",
      "\n",
      "\n",
      "\n",
      "\n",
      "\n",
      "\n",
      "\n",
      "\n",
      "\n",
      "\n",
      "\n",
      "\n",
      "\n",
      "\n",
      "\n",
      "\n",
      "\n",
      "\n",
      "\n",
      "\n",
      "\n",
      "\n",
      "\n",
      "\n",
      "\n",
      "\n",
      "\n",
      "\n",
      "\n",
      "\n",
      "\n",
      "\n",
      "\n",
      "\n",
      "\n",
      "\n",
      "\n",
      "\n",
      "Student Affairs Department\n",
      " hep@um.edu.my\n",
      " 03-79673506\n",
      "\n",
      "\n",
      "\n",
      "\n",
      "\n",
      "\n",
      "\n",
      "\n",
      "\n",
      "\n",
      "\n",
      "\n",
      "\n",
      "\n",
      "\n",
      "\n",
      "\n",
      "\n",
      "\n",
      "\n",
      "\n",
      "\n",
      "\n",
      "\n",
      "\n",
      "\n",
      "\n",
      "\n",
      "\n",
      "\n",
      "\n",
      "\n",
      "\n",
      "\n",
      "\n",
      "\n",
      "\n",
      "\n",
      "\n",
      "\n",
      "\n",
      "\n",
      "\n",
      "\n",
      "\n",
      "\n",
      "\n",
      "\n",
      "\n",
      "\n",
      "\n",
      "\n",
      "\n",
      "\n",
      "\n",
      "Menu\n",
      "\n",
      "\n",
      "Home\n",
      "\n",
      "About Us\n",
      "\n",
      "Introduction\n",
      "DVC Student Affairs\n",
      "Organizational Chart\n",
      "Contact Us\n",
      "Staff Directory\n",
      "INSPIRE\n",
      "\n",
      "\n",
      "\n",
      "Services@UM\n",
      "\n",
      "Student With Disabilities\n",
      "COVID-19 BHEP\n",
      "Psychology & Counseling\n",
      "\n",
      "\n",
      "\n",
      "Services@HEP\n",
      "\n",
      "Student Development\n",
      "Student Welfare\n",
      "Disciplinary\n",
      "Entrepreneurship\n",
      "Careers & Co-curriculum\n",
      "Graduate Employability\n",
      "Gap Year\n",
      "\n",
      "\n",
      "UM-WOW\n",
      "\n",
      "Contact Us\n",
      "\n",
      "Hotlines\n",
      "\n",
      "\n",
      "FAQ\n",
      "\n",
      "\n",
      "\n",
      "\n",
      "\n",
      "\n",
      "\n",
      "\n",
      "\n",
      "\n",
      "\n",
      "\n",
      "\n",
      "\n",
      "\n",
      "\n",
      "\n",
      "\n",
      "\n",
      "\n",
      "\n",
      "\n",
      " \n",
      "\n",
      "\n",
      "Home\n",
      "\n",
      "Sitemap\n",
      "\n",
      "\n",
      "\n",
      "\n",
      "\n",
      "\n",
      "\n",
      "\n",
      "\n",
      "\n",
      "\n",
      "\n",
      "Sitemap\n",
      "\n",
      "1. Home\n",
      "2. \n",
      "About Us\n",
      "\n",
      " Introduction\n",
      " DVC Student Affairs\n",
      " Organizational Chart\n",
      " Contact Us\n",
      " Staff Directory\n",
      " INSPIRE\n",
      "\n",
      "\n",
      "3. \n",
      "Services@UM\n",
      "\n",
      " Student With Disabilities\n",
      " COVID-19 BHEP\n",
      " Psychology & Counseling\n",
      "\n",
      "\n",
      "4. \n",
      "Services@HEP\n",
      "\n",
      " Student Development\n",
      " Student Welfare\n",
      " Disciplinary\n",
      " Entrepreneurship\n",
      " Careers & Co-curriculum\n",
      " Graduate Employability\n",
      " Gap Year\n",
      "\n",
      "\n",
      "5. UM-WOW\n",
      "6. \n",
      "Contact Us\n",
      "\n",
      " Hotlines\n",
      "\n",
      "\n",
      "7. FAQ\n",
      "\n",
      "\n",
      "\n",
      "\n",
      "\n",
      "\n",
      "\n",
      "\n",
      "\n",
      "Highlights\n",
      "\n",
      "\n",
      "\n",
      "\n",
      "\n",
      "\n",
      "\n",
      "\n",
      "Student Misconduct In Examination\n",
      "\n",
      "\n",
      "\n",
      "\n",
      "\n",
      "\n",
      "\n",
      "Pelanjutan Waktu Operasi Klinik UM\n",
      "\n",
      "\n",
      "\n",
      "\n",
      "\n",
      "\n",
      "\n",
      "Student Disciplinary Case at UM\n",
      "\n",
      "\n",
      "\n",
      "\n",
      "\n",
      "\n",
      "\n",
      "How to Access UM Network\n",
      "\n",
      "\n",
      "\n",
      "\n",
      "\n",
      "\n",
      "\n",
      "Kaji Selidik INSTITUSI PENDIDIKAN TINGGI AWAM (IPTA)  – UNIVERSITI AWAM, POLITEKNIK DAN KOLEJ KOMUNITI Pentadbir dan Ahli Akademik Pentadbir bukan Akademik\n",
      "\n",
      "\n",
      "\n",
      "\n",
      "\n",
      "\n",
      "\n",
      "Kaji Selidik INSTITUSI PENDIDIKAN TINGGI AWAM (IPTA)  – UNIVERSITI AWAM, POLITEKNIK DAN KOLEJ KOMUNITI Mahasiswa & Pascasiswazah\n",
      "\n",
      "\n",
      "\n",
      "\n",
      "\n",
      "\n",
      "\n",
      "\n",
      "\n",
      "\n",
      "\n",
      "About UM\n",
      "\n",
      "Vision & Mission\n",
      "Our History\n",
      "UM Fact Sheet\n",
      "Career\n",
      "\n",
      "\n",
      "\n",
      "50603 Kuala Lumpur, Malaysia\n",
      "\n",
      "\n",
      "Quick Links\n",
      "\n",
      "Academic\n",
      "Giving@UM\n",
      "Library\n",
      "Research & Community\n",
      "Services\n",
      "Portal MAYA\n",
      "Portal SPeCTRUM\n",
      "\n",
      "\n",
      "\n",
      "\n",
      "\n",
      "\n",
      "\n",
      "\n",
      "\n",
      "© 2021 Universiti Malaya. All Rights Reserved  |  Privacy Policy  |  Site Credits  |  Disclaimer  |  Security Policy  |  Sitemap\n",
      "\n",
      "\n",
      "\n",
      "\n",
      "\n",
      "\n",
      "\n",
      "\n",
      "\n",
      "\n",
      "\n",
      "\n",
      "\n",
      "\n",
      "\n",
      "\n",
      "\n",
      "\n",
      "\n",
      "\n",
      "\n",
      "\n",
      "\n",
      "\n",
      "\n",
      "\n",
      "\n",
      "\n",
      "\n",
      "\n",
      "\n",
      "\n",
      "\n",
      "\n",
      "\n",
      "\n",
      "\n",
      "\n",
      "\n",
      "\n",
      "\n",
      "\n",
      "\n",
      "\n",
      "\n",
      "\n",
      "\n",
      "\n",
      "\n",
      "\n",
      "\n",
      "\n",
      "\n",
      "\n",
      "\n",
      "\n",
      "\n",
      "\n",
      "\n"
     ]
    }
   ],
   "source": [
    "import requests\n",
    "from bs4 import BeautifulSoup\n",
    "\n",
    "# url = 'https://www.example.com'   # replace with the URL of the website you want to scrape\n",
    "url = all_links[10]\n",
    "print(f\"Scraping : {url}\")\n",
    "\n",
    "response = requests.get(url)\n",
    "soup = BeautifulSoup(response.content, 'html.parser')\n",
    "\n",
    "# find all text on the page\n",
    "text = soup.get_text()\n",
    "# exclude certain tags from the text\n",
    "# text = soup.get_text(separator=' ', strip=True, exclude=['script', 'style'])\n",
    "\n",
    "\n",
    "print(text)\n"
   ]
  },
  {
   "cell_type": "code",
   "execution_count": 7,
   "id": "4b44def2",
   "metadata": {},
   "outputs": [],
   "source": [
    "def get_content_from_url(url):\n",
    "    response = requests.get(url)\n",
    "    soup = BeautifulSoup(response.content, 'html.parser')\n",
    "\n",
    "    # find all text on the page\n",
    "    text = soup.get_text()\n",
    "    # exclude certain tags from the text\n",
    "    # text = soup.get_text(separator=' ', strip=True, exclude=['script', 'style'])\n",
    "\n",
    "#     print(text)\n",
    "    return text"
   ]
  },
  {
   "cell_type": "code",
   "execution_count": 8,
   "id": "f762eb4e",
   "metadata": {},
   "outputs": [],
   "source": [
    "#Import links variables\n",
    "import pickle\n",
    "\n",
    "# import the variables from the file using pickle\n",
    "with open('web_data\\data-checkpoint-4600.pkl', 'rb') as f:\n",
    "    data = pickle.load(f)\n"
   ]
  },
  {
   "cell_type": "code",
   "execution_count": 9,
   "id": "f9b0b0de",
   "metadata": {
    "scrolled": true
   },
   "outputs": [
    {
     "name": "stderr",
     "output_type": "stream",
     "text": [
      " 50%|████████████████████▉                     | 4640/9316 [00:00<00:00, 14557.08it/s]"
     ]
    },
    {
     "name": "stdout",
     "output_type": "stream",
     "text": [
      "Error at link https://umcms.um.edu.my/sites/umserge/forms : HTTPSConnectionPool(host='umcms.um.edu.my', port=443): Max retries exceeded with url: /sites/umserge/forms (Caused by NewConnectionError('<urllib3.connection.HTTPSConnection object at 0x0000020ABF42A0D0>: Failed to establish a new connection: [Errno 11001] getaddrinfo failed'))\n"
     ]
    },
    {
     "name": "stderr",
     "output_type": "stream",
     "text": [
      "Some characters could not be decoded, and were replaced with REPLACEMENT CHARACTER.\n",
      " 50%|██████████████████████                      | 4671/9316 [00:21<00:30, 153.79it/s]Some characters could not be decoded, and were replaced with REPLACEMENT CHARACTER.\n",
      " 50%|██████████████████████▌                      | 4683/9316 [05:25<15:01,  5.14it/s]"
     ]
    },
    {
     "name": "stdout",
     "output_type": "stream",
     "text": [
      "Error at link https://umexpert.um.edu.my/ramdr : ('Connection aborted.', RemoteDisconnected('Remote end closed connection without response'))\n"
     ]
    },
    {
     "name": "stderr",
     "output_type": "stream",
     "text": [
      " 50%|██████████████████████▋                      | 4684/9316 [05:27<15:05,  5.11it/s]Some characters could not be decoded, and were replaced with REPLACEMENT CHARACTER.\n"
     ]
    },
    {
     "name": "stdout",
     "output_type": "stream",
     "text": [
      "4700\n"
     ]
    },
    {
     "name": "stderr",
     "output_type": "stream",
     "text": [
      " 50%|██████████████████████▋                      | 4702/9316 [05:55<17:23,  4.42it/s]"
     ]
    },
    {
     "name": "stdout",
     "output_type": "stream",
     "text": [
      "Error at link https://www.straitstimes.com/singapore/parenting-education/veteran-diplomat-who-blazed-the-trail-for-women-recognised-at-nus : ('Received response with content-encoding: gzip, but failed to decode it.', error('Error -3 while decompressing data: incorrect header check'))\n"
     ]
    },
    {
     "name": "stderr",
     "output_type": "stream",
     "text": [
      " 51%|██████████████████████▉                      | 4751/9316 [06:13<18:23,  4.14it/s]Some characters could not be decoded, and were replaced with REPLACEMENT CHARACTER.\n",
      "Some characters could not be decoded, and were replaced with REPLACEMENT CHARACTER.\n",
      " 51%|███████████████████████                      | 4777/9316 [06:35<23:04,  3.28it/s]Some characters could not be decoded, and were replaced with REPLACEMENT CHARACTER.\n",
      "Some characters could not be decoded, and were replaced with REPLACEMENT CHARACTER.\n",
      "Some characters could not be decoded, and were replaced with REPLACEMENT CHARACTER.\n"
     ]
    },
    {
     "name": "stdout",
     "output_type": "stream",
     "text": [
      "4800\n"
     ]
    },
    {
     "name": "stderr",
     "output_type": "stream",
     "text": [
      " 52%|███████████████████████▏                     | 4802/9316 [06:57<30:24,  2.47it/s]"
     ]
    },
    {
     "name": "stdout",
     "output_type": "stream",
     "text": [
      "Error at link http://cultural.um.edu.my/ : HTTPConnectionPool(host='cultural.um.edu.my', port=80): Max retries exceeded with url: / (Caused by NewConnectionError('<urllib3.connection.HTTPConnection object at 0x0000020B01D8AFA0>: Failed to establish a new connection: [Errno 11001] getaddrinfo failed'))\n"
     ]
    },
    {
     "name": "stderr",
     "output_type": "stream",
     "text": [
      "Some characters could not be decoded, and were replaced with REPLACEMENT CHARACTER.\n"
     ]
    },
    {
     "name": "stdout",
     "output_type": "stream",
     "text": [
      "Error at link https://kk4.um.edu.my/ : HTTPSConnectionPool(host='kk4.um.edu.my', port=443): Max retries exceeded with url: / (Caused by NewConnectionError('<urllib3.connection.HTTPSConnection object at 0x0000020B01DE4F40>: Failed to establish a new connection: [Errno 11001] getaddrinfo failed'))\n"
     ]
    },
    {
     "name": "stderr",
     "output_type": "stream",
     "text": [
      " 52%|███████████████████████▎                     | 4832/9316 [07:32<33:04,  2.26it/s]Some characters could not be decoded, and were replaced with REPLACEMENT CHARACTER.\n",
      " 52%|███████████████████████▍                     | 4853/9316 [07:33<44:09,  1.68it/s]Some characters could not be decoded, and were replaced with REPLACEMENT CHARACTER.\n",
      "Some characters could not be decoded, and were replaced with REPLACEMENT CHARACTER.\n",
      "Some characters could not be decoded, and were replaced with REPLACEMENT CHARACTER.\n"
     ]
    },
    {
     "name": "stdout",
     "output_type": "stream",
     "text": [
      "Error at link https://ptm.um.edu.my/contact-us : HTTPSConnectionPool(host='it.um.edu.mycontact-us', port=443): Max retries exceeded with url: / (Caused by NewConnectionError('<urllib3.connection.HTTPSConnection object at 0x0000020AC8D68670>: Failed to establish a new connection: [Errno 11001] getaddrinfo failed'))\n",
      "Error at link https://ptm.um.edu.my/index : HTTPSConnectionPool(host='it.um.edu.myindex', port=443): Max retries exceeded with url: / (Caused by NewConnectionError('<urllib3.connection.HTTPSConnection object at 0x0000020ABADAD940>: Failed to establish a new connection: [Errno 11001] getaddrinfo failed'))\n"
     ]
    },
    {
     "name": "stderr",
     "output_type": "stream",
     "text": [
      " 52%|███████████████████████▌                     | 4881/9316 [07:45<38:20,  1.93it/s]Some characters could not be decoded, and were replaced with REPLACEMENT CHARACTER.\n",
      "Some characters could not be decoded, and were replaced with REPLACEMENT CHARACTER.\n",
      "Some characters could not be decoded, and were replaced with REPLACEMENT CHARACTER.\n",
      " 53%|███████████████████████▋                     | 4900/9316 [07:53<35:42,  2.06it/s]"
     ]
    },
    {
     "name": "stdout",
     "output_type": "stream",
     "text": [
      "4900\n"
     ]
    },
    {
     "name": "stderr",
     "output_type": "stream",
     "text": [
      " 53%|███████████████████████▋                     | 4914/9316 [08:08<49:57,  1.47it/s]Some characters could not be decoded, and were replaced with REPLACEMENT CHARACTER.\n",
      " 53%|███████████████████████▊                     | 4923/9316 [08:16<52:13,  1.40it/s]Some characters could not be decoded, and were replaced with REPLACEMENT CHARACTER.\n",
      " 53%|███████████████████████▊                     | 4939/9316 [08:20<35:46,  2.04it/s]Some characters could not be decoded, and were replaced with REPLACEMENT CHARACTER.\n",
      " 53%|███████████████████████▉                     | 4951/9316 [08:23<23:13,  3.13it/s]Some characters could not be decoded, and were replaced with REPLACEMENT CHARACTER.\n",
      " 53%|████████████████████████                     | 4975/9316 [08:35<29:27,  2.46it/s]Some characters could not be decoded, and were replaced with REPLACEMENT CHARACTER.\n",
      " 53%|████████████████████████                     | 4978/9316 [08:36<25:57,  2.79it/s]Some characters could not be decoded, and were replaced with REPLACEMENT CHARACTER.\n",
      " 54%|████████████████████████                     | 4991/9316 [08:39<20:53,  3.45it/s]Some characters could not be decoded, and were replaced with REPLACEMENT CHARACTER.\n",
      " 54%|████████████████████████▏                    | 5000/9316 [08:45<39:15,  1.83it/s]"
     ]
    },
    {
     "name": "stdout",
     "output_type": "stream",
     "text": [
      "5000\n"
     ]
    },
    {
     "name": "stderr",
     "output_type": "stream",
     "text": [
      " 54%|███████████████████████▏                   | 5011/9316 [09:01<1:07:39,  1.06it/s]Some characters could not be decoded, and were replaced with REPLACEMENT CHARACTER.\n",
      " 54%|████████████████████████▎                    | 5037/9316 [09:09<16:07,  4.42it/s]Some characters could not be decoded, and were replaced with REPLACEMENT CHARACTER.\n",
      " 54%|████████████████████████▎                    | 5041/9316 [09:12<33:30,  2.13it/s]"
     ]
    },
    {
     "name": "stdout",
     "output_type": "stream",
     "text": [
      "Error at link http://ict.um.edu.my/ : HTTPConnectionPool(host='ict.um.edu.my', port=80): Max retries exceeded with url: / (Caused by NewConnectionError('<urllib3.connection.HTTPConnection object at 0x0000020ACA1283A0>: Failed to establish a new connection: [Errno 11001] getaddrinfo failed'))\n"
     ]
    },
    {
     "name": "stderr",
     "output_type": "stream",
     "text": [
      " 54%|████████████████████████▍                    | 5047/9316 [09:15<38:27,  1.85it/s]Some characters could not be decoded, and were replaced with REPLACEMENT CHARACTER.\n",
      " 54%|████████████████████████▍                    | 5056/9316 [09:19<34:46,  2.04it/s]Some characters could not be decoded, and were replaced with REPLACEMENT CHARACTER.\n",
      " 54%|████████████████████████▍                    | 5064/9316 [09:25<40:53,  1.73it/s]Some characters could not be decoded, and were replaced with REPLACEMENT CHARACTER.\n",
      " 55%|████████████████████████▌                    | 5084/9316 [09:36<18:44,  3.76it/s]Some characters could not be decoded, and were replaced with REPLACEMENT CHARACTER.\n",
      " 55%|████████████████████████▋                    | 5100/9316 [09:42<14:31,  4.84it/s]"
     ]
    },
    {
     "name": "stdout",
     "output_type": "stream",
     "text": [
      "5100\n"
     ]
    },
    {
     "name": "stderr",
     "output_type": "stream",
     "text": [
      " 55%|███████████████████████▌                   | 5101/9316 [09:53<3:38:39,  3.11s/it]Some characters could not be decoded, and were replaced with REPLACEMENT CHARACTER.\n",
      " 55%|████████████████████████▊                    | 5128/9316 [10:00<17:53,  3.90it/s]Some characters could not be decoded, and were replaced with REPLACEMENT CHARACTER.\n",
      " 55%|████████████████████████▊                    | 5142/9316 [10:08<32:48,  2.12it/s]Some characters could not be decoded, and were replaced with REPLACEMENT CHARACTER.\n",
      " 55%|████████████████████████▊                    | 5146/9316 [10:09<27:59,  2.48it/s]Some characters could not be decoded, and were replaced with REPLACEMENT CHARACTER.\n",
      " 55%|████████████████████████▉                    | 5151/9316 [10:11<18:14,  3.80it/s]Some characters could not be decoded, and were replaced with REPLACEMENT CHARACTER.\n",
      " 56%|███████████████████████▊                   | 5172/9316 [10:21<1:00:08,  1.15it/s]Some characters could not be decoded, and were replaced with REPLACEMENT CHARACTER.\n",
      " 56%|███████████████████████▉                   | 5184/9316 [10:29<1:07:29,  1.02it/s]Some characters could not be decoded, and were replaced with REPLACEMENT CHARACTER.\n",
      " 56%|█████████████████████████                    | 5187/9316 [10:30<32:45,  2.10it/s]Some characters could not be decoded, and were replaced with REPLACEMENT CHARACTER.\n",
      " 56%|█████████████████████████                    | 5195/9316 [10:36<43:40,  1.57it/s]Some characters could not be decoded, and were replaced with REPLACEMENT CHARACTER.\n",
      " 56%|█████████████████████████                    | 5199/9316 [10:38<29:29,  2.33it/s]Some characters could not be decoded, and were replaced with REPLACEMENT CHARACTER.\n",
      " 56%|█████████████████████████                    | 5200/9316 [10:38<32:23,  2.12it/s]"
     ]
    },
    {
     "name": "stdout",
     "output_type": "stream",
     "text": [
      "5200\n"
     ]
    },
    {
     "name": "stderr",
     "output_type": "stream",
     "text": [
      "Some characters could not be decoded, and were replaced with REPLACEMENT CHARACTER.\n",
      " 56%|████████████████████████                   | 5210/9316 [10:59<1:12:15,  1.06s/it]Some characters could not be decoded, and were replaced with REPLACEMENT CHARACTER.\n",
      " 56%|█████████████████████████▏                   | 5226/9316 [11:04<23:00,  2.96it/s]Some characters could not be decoded, and were replaced with REPLACEMENT CHARACTER.\n",
      " 56%|█████████████████████████▎                   | 5236/9316 [11:07<21:27,  3.17it/s]Some characters could not be decoded, and were replaced with REPLACEMENT CHARACTER.\n",
      " 56%|█████████████████████████▎                   | 5241/9316 [11:10<30:04,  2.26it/s]Some characters could not be decoded, and were replaced with REPLACEMENT CHARACTER.\n",
      " 56%|█████████████████████████▍                   | 5260/9316 [11:19<36:48,  1.84it/s]Some characters could not be decoded, and were replaced with REPLACEMENT CHARACTER.\n",
      " 57%|████████████████████████▍                  | 5281/9316 [11:41<2:17:25,  2.04s/it]"
     ]
    },
    {
     "name": "stdout",
     "output_type": "stream",
     "text": [
      "Error at link http://www.hepa.um.edu.my/student-support : HTTPConnectionPool(host='www.hepa.um.edu.my', port=80): Max retries exceeded with url: /student-support (Caused by NewConnectionError('<urllib3.connection.HTTPConnection object at 0x0000020B2CE22D30>: Failed to establish a new connection: [Errno 11001] getaddrinfo failed'))\n"
     ]
    },
    {
     "name": "stderr",
     "output_type": "stream",
     "text": [
      " 57%|█████████████████████████▌                   | 5287/9316 [11:43<40:39,  1.65it/s]"
     ]
    },
    {
     "name": "stdout",
     "output_type": "stream",
     "text": [
      "Error at link https://ppsg.um.edu.my/strategic-planning : HTTPSConnectionPool(host='ppsg.um.edu.my', port=443): Max retries exceeded with url: /strategic-planning (Caused by NewConnectionError('<urllib3.connection.HTTPSConnection object at 0x0000020AE9F64D90>: Failed to establish a new connection: [Errno 11001] getaddrinfo failed'))\n"
     ]
    },
    {
     "name": "stderr",
     "output_type": "stream",
     "text": [
      " 57%|█████████████████████████▌                   | 5300/9316 [11:53<35:08,  1.91it/s]"
     ]
    },
    {
     "name": "stdout",
     "output_type": "stream",
     "text": [
      "5300\n"
     ]
    },
    {
     "name": "stderr",
     "output_type": "stream",
     "text": [
      " 57%|████████████████████████▍                  | 5305/9316 [12:08<1:25:41,  1.28s/it]Some characters could not be decoded, and were replaced with REPLACEMENT CHARACTER.\n",
      " 57%|█████████████████████████▋                   | 5312/9316 [12:12<39:21,  1.70it/s]Some characters could not be decoded, and were replaced with REPLACEMENT CHARACTER.\n",
      " 57%|█████████████████████████▋                   | 5315/9316 [12:14<42:35,  1.57it/s]Some characters could not be decoded, and were replaced with REPLACEMENT CHARACTER.\n",
      " 57%|█████████████████████████▋                   | 5330/9316 [12:24<15:29,  4.29it/s]"
     ]
    },
    {
     "name": "stdout",
     "output_type": "stream",
     "text": [
      "Error at link https://www.straitstimes.com/asia/se-asia/water-supply-in-peril-yet-again-sin-chew-daily-contributor : ('Received response with content-encoding: gzip, but failed to decode it.', error('Error -3 while decompressing data: incorrect header check'))\n"
     ]
    },
    {
     "name": "stderr",
     "output_type": "stream",
     "text": [
      " 57%|█████████████████████████▊                   | 5344/9316 [12:31<12:36,  5.25it/s]"
     ]
    },
    {
     "name": "stdout",
     "output_type": "stream",
     "text": [
      "Error at link https://www.umlib.um.edu.my/ : HTTPSConnectionPool(host='www.umlib.um.edu.my', port=443): Max retries exceeded with url: / (Caused by NewConnectionError('<urllib3.connection.HTTPSConnection object at 0x0000020B31C1D760>: Failed to establish a new connection: [Errno 11001] getaddrinfo failed'))\n"
     ]
    },
    {
     "name": "stderr",
     "output_type": "stream",
     "text": [
      " 57%|█████████████████████████▊                   | 5349/9316 [12:33<16:48,  3.94it/s]"
     ]
    },
    {
     "name": "stdout",
     "output_type": "stream",
     "text": [
      "Error at link https://ptm.um.edu.my/introduction : HTTPSConnectionPool(host='it.um.edu.myintroduction', port=443): Max retries exceeded with url: / (Caused by NewConnectionError('<urllib3.connection.HTTPSConnection object at 0x0000020B85AA23A0>: Failed to establish a new connection: [Errno 11001] getaddrinfo failed'))\n"
     ]
    },
    {
     "name": "stderr",
     "output_type": "stream",
     "text": [
      " 58%|█████████████████████████▉                   | 5357/9316 [12:38<59:36,  1.11it/s]Some characters could not be decoded, and were replaced with REPLACEMENT CHARACTER.\n",
      " 58%|█████████████████████████▉                   | 5363/9316 [12:41<31:58,  2.06it/s]Some characters could not be decoded, and were replaced with REPLACEMENT CHARACTER.\n",
      " 58%|█████████████████████████▉                   | 5364/9316 [12:41<27:48,  2.37it/s]Some characters could not be decoded, and were replaced with REPLACEMENT CHARACTER.\n",
      " 58%|████████████████████████▊                  | 5367/9316 [12:47<1:07:54,  1.03s/it]Some characters could not be decoded, and were replaced with REPLACEMENT CHARACTER.\n",
      " 58%|██████████████████████████                   | 5386/9316 [12:55<29:57,  2.19it/s]Some characters could not be decoded, and were replaced with REPLACEMENT CHARACTER.\n",
      " 58%|██████████████████████████                   | 5389/9316 [12:57<27:16,  2.40it/s]"
     ]
    },
    {
     "name": "stdout",
     "output_type": "stream",
     "text": [
      "Error at link https://ptm.um.edu.my/doc/vBI-13Mar2023 - JTM Organisational Chart 2023.pdf : HTTPSConnectionPool(host='it.um.edu.mydoc', port=443): Max retries exceeded with url: /vBI-13Mar2023%20-%20JTM%20Organisational%20Chart%202023.pdf (Caused by NewConnectionError('<urllib3.connection.HTTPSConnection object at 0x0000020AEC8D9CA0>: Failed to establish a new connection: [Errno 11001] getaddrinfo failed'))\n"
     ]
    },
    {
     "name": "stderr",
     "output_type": "stream",
     "text": [
      " 58%|██████████████████████████                   | 5398/9316 [12:59<16:59,  3.84it/s]"
     ]
    },
    {
     "name": "stdout",
     "output_type": "stream",
     "text": [
      "Error at link https://umcms.um.edu.my/sites/mcrc/upcoming-events : HTTPSConnectionPool(host='umcms.um.edu.my', port=443): Max retries exceeded with url: /sites/mcrc/upcoming-events (Caused by NewConnectionError('<urllib3.connection.HTTPSConnection object at 0x0000020A89750CD0>: Failed to establish a new connection: [Errno 11001] getaddrinfo failed'))\n"
     ]
    },
    {
     "name": "stderr",
     "output_type": "stream",
     "text": [
      "\r",
      " 58%|████████████████████████▉                  | 5400/9316 [13:03<1:05:46,  1.01s/it]"
     ]
    },
    {
     "name": "stdout",
     "output_type": "stream",
     "text": [
      "5400\n"
     ]
    },
    {
     "name": "stderr",
     "output_type": "stream",
     "text": [
      " 58%|██████████████████████████                   | 5408/9316 [13:21<45:58,  1.42it/s]Some characters could not be decoded, and were replaced with REPLACEMENT CHARACTER.\n",
      " 58%|██████████████████████████▏                  | 5427/9316 [13:31<26:09,  2.48it/s]"
     ]
    },
    {
     "name": "stdout",
     "output_type": "stream",
     "text": [
      "Error at link http://repository.um.edu.my/ : HTTPConnectionPool(host='repository.um.edu.my', port=80): Max retries exceeded with url: / (Caused by NewConnectionError('<urllib3.connection.HTTPConnection object at 0x0000020AC6210850>: Failed to establish a new connection: [Errno 11001] getaddrinfo failed'))\n"
     ]
    },
    {
     "name": "stderr",
     "output_type": "stream",
     "text": [
      " 58%|██████████████████████████▎                  | 5444/9316 [13:39<33:35,  1.92it/s]Some characters could not be decoded, and were replaced with REPLACEMENT CHARACTER.\n",
      " 59%|██████████████████████████▎                  | 5459/9316 [13:46<36:18,  1.77it/s]"
     ]
    },
    {
     "name": "stdout",
     "output_type": "stream",
     "text": [
      "Error at link https://ptm.um.edu.my/ict-security-assessment-and-awareness-training : HTTPSConnectionPool(host='it.um.edu.myict-security-assessment-and-awareness-training', port=443): Max retries exceeded with url: / (Caused by NewConnectionError('<urllib3.connection.HTTPSConnection object at 0x0000020ACA125880>: Failed to establish a new connection: [Errno 11001] getaddrinfo failed'))\n"
     ]
    },
    {
     "name": "stderr",
     "output_type": "stream",
     "text": [
      " 59%|██████████████████████████▍                  | 5478/9316 [14:00<58:44,  1.09it/s]Some characters could not be decoded, and were replaced with REPLACEMENT CHARACTER.\n",
      " 59%|██████████████████████████▌                  | 5500/9316 [14:10<25:33,  2.49it/s]"
     ]
    },
    {
     "name": "stdout",
     "output_type": "stream",
     "text": [
      "5500\n"
     ]
    },
    {
     "name": "stderr",
     "output_type": "stream",
     "text": [
      " 59%|█████████████████████████▍                 | 5510/9316 [14:44<2:53:42,  2.74s/it]"
     ]
    },
    {
     "name": "stdout",
     "output_type": "stream",
     "text": [
      "Error at link https://ptm.um.edu.my/history-of-ptm : HTTPSConnectionPool(host='it.um.edu.myhistory-of-ptm', port=443): Max retries exceeded with url: / (Caused by NewConnectionError('<urllib3.connection.HTTPSConnection object at 0x0000020B08ADCD90>: Failed to establish a new connection: [Errno 11001] getaddrinfo failed'))\n"
     ]
    },
    {
     "name": "stderr",
     "output_type": "stream",
     "text": [
      " 59%|█████████████████████████▍                 | 5511/9316 [14:46<2:49:13,  2.67s/it]Some characters could not be decoded, and were replaced with REPLACEMENT CHARACTER.\n",
      " 59%|██████████████████████████▋                  | 5521/9316 [14:50<30:43,  2.06it/s]Some characters could not be decoded, and were replaced with REPLACEMENT CHARACTER.\n",
      " 59%|██████████████████████████▋                  | 5530/9316 [14:53<20:32,  3.07it/s]Some characters could not be decoded, and were replaced with REPLACEMENT CHARACTER.\n",
      " 59%|██████████████████████████▊                  | 5543/9316 [15:02<29:02,  2.17it/s]Some characters could not be decoded, and were replaced with REPLACEMENT CHARACTER.\n",
      " 60%|██████████████████████████▊                  | 5558/9316 [15:07<15:14,  4.11it/s]Some characters could not be decoded, and were replaced with REPLACEMENT CHARACTER.\n",
      " 60%|██████████████████████████▊                  | 5562/9316 [15:13<44:48,  1.40it/s]Some characters could not be decoded, and were replaced with REPLACEMENT CHARACTER.\n",
      " 60%|██████████████████████████▉                  | 5565/9316 [15:15<38:57,  1.60it/s]Some characters could not be decoded, and were replaced with REPLACEMENT CHARACTER.\n",
      " 60%|██████████████████████████▉                  | 5570/9316 [15:17<21:57,  2.84it/s]"
     ]
    },
    {
     "name": "stdout",
     "output_type": "stream",
     "text": [
      "Error at link https://ptm.um.edu.my/annual-report : HTTPSConnectionPool(host='it.um.edu.myannual-report', port=443): Max retries exceeded with url: / (Caused by NewConnectionError('<urllib3.connection.HTTPSConnection object at 0x0000020B02512610>: Failed to establish a new connection: [Errno 11001] getaddrinfo failed'))\n"
     ]
    },
    {
     "name": "stderr",
     "output_type": "stream",
     "text": [
      " 60%|█████████████████████████▊                 | 5584/9316 [15:31<1:56:48,  1.88s/it]Some characters could not be decoded, and were replaced with REPLACEMENT CHARACTER.\n",
      " 60%|███████████████████████████                  | 5597/9316 [15:38<20:21,  3.05it/s]"
     ]
    },
    {
     "name": "stdout",
     "output_type": "stream",
     "text": [
      "Error at link http://www.umlib.um.edu.my/ : HTTPConnectionPool(host='www.umlib.um.edu.my', port=80): Max retries exceeded with url: / (Caused by NewConnectionError('<urllib3.connection.HTTPConnection object at 0x0000020B8CD9EA30>: Failed to establish a new connection: [Errno 11001] getaddrinfo failed'))\n"
     ]
    },
    {
     "name": "stderr",
     "output_type": "stream",
     "text": [
      "Some characters could not be decoded, and were replaced with REPLACEMENT CHARACTER.\n",
      " 60%|███████████████████████████                  | 5600/9316 [15:40<29:10,  2.12it/s]"
     ]
    },
    {
     "name": "stdout",
     "output_type": "stream",
     "text": [
      "5600\n"
     ]
    },
    {
     "name": "stderr",
     "output_type": "stream",
     "text": [
      " 60%|███████████████████████████▏                 | 5628/9316 [16:21<34:29,  1.78it/s]"
     ]
    },
    {
     "name": "stdout",
     "output_type": "stream",
     "text": [
      "Error at link http://umevent.um.edu.my/register : ('Connection aborted.', BadStatusLine('<!DOCTYPE HTML PUBLIC \"-//IETF//DTD HTML 2.0//EN\">\\n'))\n"
     ]
    },
    {
     "name": "stderr",
     "output_type": "stream",
     "text": [
      " 61%|███████████████████████████▎                 | 5642/9316 [16:37<29:00,  2.11it/s]"
     ]
    },
    {
     "name": "stdout",
     "output_type": "stream",
     "text": [
      "Error at link https://mycite.mohe.gov.my/en/single-jcr/report/Malaysian%20Journal%20of%20Science/2021 : HTTPSConnectionPool(host='mycite.mohe.gov.my', port=443): Max retries exceeded with url: /en/single-jcr/report/Malaysian%20Journal%20of%20Science/2021 (Caused by SSLError(SSLCertVerificationError(1, '[SSL: CERTIFICATE_VERIFY_FAILED] certificate verify failed: unable to get local issuer certificate (_ssl.c:1129)')))\n"
     ]
    },
    {
     "name": "stderr",
     "output_type": "stream",
     "text": [
      " 61%|███████████████████████████▎                 | 5655/9316 [16:41<17:04,  3.57it/s]Some characters could not be decoded, and were replaced with REPLACEMENT CHARACTER.\n",
      " 61%|███████████████████████████▎                 | 5664/9316 [16:47<32:27,  1.88it/s]Some characters could not be decoded, and were replaced with REPLACEMENT CHARACTER.\n",
      " 61%|███████████████████████████▍                 | 5680/9316 [16:52<14:57,  4.05it/s]Some characters could not be decoded, and were replaced with REPLACEMENT CHARACTER.\n",
      " 61%|███████████████████████████▍                 | 5691/9316 [16:58<32:02,  1.89it/s]Some characters could not be decoded, and were replaced with REPLACEMENT CHARACTER.\n",
      " 61%|███████████████████████████▌                 | 5695/9316 [17:00<23:34,  2.56it/s]Some characters could not be decoded, and were replaced with REPLACEMENT CHARACTER.\n",
      " 61%|██████████████████████████▎                | 5697/9316 [17:05<1:37:12,  1.61s/it]Some characters could not be decoded, and were replaced with REPLACEMENT CHARACTER.\n",
      " 61%|███████████████████████████▌                 | 5700/9316 [17:06<47:34,  1.27it/s]"
     ]
    },
    {
     "name": "stdout",
     "output_type": "stream",
     "text": [
      "5700\n"
     ]
    },
    {
     "name": "stderr",
     "output_type": "stream",
     "text": [
      " 62%|███████████████████████████▋                 | 5733/9316 [17:55<41:19,  1.44it/s]"
     ]
    },
    {
     "name": "stdout",
     "output_type": "stream",
     "text": [
      "Error at link http://umevent.um.edu.my/#tab_1 : ('Connection aborted.', BadStatusLine('<!DOCTYPE HTML PUBLIC \"-//IETF//DTD HTML 2.0//EN\">\\n'))\n"
     ]
    },
    {
     "name": "stderr",
     "output_type": "stream",
     "text": [
      " 62%|███████████████████████████▋                 | 5742/9316 [17:58<15:34,  3.83it/s]Some characters could not be decoded, and were replaced with REPLACEMENT CHARACTER.\n",
      " 62%|███████████████████████████▋                 | 5744/9316 [17:59<23:12,  2.56it/s]Some characters could not be decoded, and were replaced with REPLACEMENT CHARACTER.\n",
      " 62%|██████████████████████████▌                | 5758/9316 [18:24<3:16:15,  3.31s/it]"
     ]
    },
    {
     "name": "stdout",
     "output_type": "stream",
     "text": [
      "Error at link https://umcms.um.edu.my/sites/faculty-of-dentistry/ : HTTPSConnectionPool(host='umcms.um.edu.my', port=443): Max retries exceeded with url: /sites/faculty-of-dentistry/ (Caused by NewConnectionError('<urllib3.connection.HTTPSConnection object at 0x0000020AEC8ABAC0>: Failed to establish a new connection: [Errno 11001] getaddrinfo failed'))\n"
     ]
    },
    {
     "name": "stderr",
     "output_type": "stream",
     "text": [
      " 62%|███████████████████████████▉                 | 5789/9316 [18:39<17:29,  3.36it/s]Some characters could not be decoded, and were replaced with REPLACEMENT CHARACTER.\n",
      " 62%|███████████████████████████▉                 | 5792/9316 [18:40<14:46,  3.97it/s]"
     ]
    },
    {
     "name": "stdout",
     "output_type": "stream",
     "text": [
      "Error at link https://eroom.fsktm.um.edu.my/Web/index.php : HTTPSConnectionPool(host='eroom.fsktm.um.edu.my', port=443): Max retries exceeded with url: /Web/index.php (Caused by SSLError(SSLCertVerificationError(1, '[SSL: CERTIFICATE_VERIFY_FAILED] certificate verify failed: unable to get local issuer certificate (_ssl.c:1129)')))\n"
     ]
    },
    {
     "name": "stderr",
     "output_type": "stream",
     "text": [
      " 62%|████████████████████████████                 | 5800/9316 [18:42<18:16,  3.21it/s]"
     ]
    },
    {
     "name": "stdout",
     "output_type": "stream",
     "text": [
      "5800\n"
     ]
    },
    {
     "name": "stderr",
     "output_type": "stream",
     "text": [
      " 62%|██████████████████████████▊                | 5807/9316 [19:29<7:34:41,  7.77s/it]"
     ]
    },
    {
     "name": "stdout",
     "output_type": "stream",
     "text": [
      "Error at link https://www.isesco.org.ma/fuiw.org/en/index.php : HTTPSConnectionPool(host='www.isesco.org.ma', port=443): Max retries exceeded with url: /fuiw.org/en/index.php (Caused by NewConnectionError('<urllib3.connection.HTTPSConnection object at 0x0000020A910DDB20>: Failed to establish a new connection: [WinError 10060] A connection attempt failed because the connected party did not properly respond after a period of time, or established connection failed because connected host has failed to respond'))\n"
     ]
    },
    {
     "name": "stderr",
     "output_type": "stream",
     "text": [
      " 62%|██████████████████████████▊                | 5809/9316 [19:33<4:32:18,  4.66s/it]Some characters could not be decoded, and were replaced with REPLACEMENT CHARACTER.\n",
      " 63%|████████████████████████████▏                | 5839/9316 [19:43<18:16,  3.17it/s]Some characters could not be decoded, and were replaced with REPLACEMENT CHARACTER.\n",
      " 63%|████████████████████████████▎                | 5850/9316 [19:48<28:39,  2.02it/s]Some characters could not be decoded, and were replaced with REPLACEMENT CHARACTER.\n",
      " 63%|████████████████████████████▎                | 5856/9316 [19:53<39:16,  1.47it/s]"
     ]
    },
    {
     "name": "stdout",
     "output_type": "stream",
     "text": [
      "Error at link http://thedronenews.com/ : HTTPConnectionPool(host='thedronenews.com', port=80): Max retries exceeded with url: / (Caused by NewConnectionError('<urllib3.connection.HTTPConnection object at 0x0000020B01DBFB50>: Failed to establish a new connection: [Errno 11002] getaddrinfo failed'))\n"
     ]
    },
    {
     "name": "stderr",
     "output_type": "stream",
     "text": [
      "\r",
      " 63%|████████████████████████████▎                | 5857/9316 [19:53<31:17,  1.84it/s]"
     ]
    },
    {
     "name": "stdout",
     "output_type": "stream",
     "text": [
      "Error at link https://umcms.um.edu.my/sites/hep-um-edu-my/doc/Develpoment/GP%20Cuti%20Gap%20Year%20UM.pdf : HTTPSConnectionPool(host='umcms.um.edu.my', port=443): Max retries exceeded with url: /sites/hep-um-edu-my/doc/Develpoment/GP%20Cuti%20Gap%20Year%20UM.pdf (Caused by NewConnectionError('<urllib3.connection.HTTPSConnection object at 0x0000020B30F01520>: Failed to establish a new connection: [Errno 11001] getaddrinfo failed'))\n"
     ]
    },
    {
     "name": "stderr",
     "output_type": "stream",
     "text": [
      " 63%|████████████████████████████▍                | 5886/9316 [20:19<27:41,  2.06it/s]"
     ]
    },
    {
     "name": "stdout",
     "output_type": "stream",
     "text": [
      "Error at link http://raportal.um.edu.my : HTTPConnectionPool(host='raportal.um.edu.my', port=80): Max retries exceeded with url: / (Caused by NewConnectionError('<urllib3.connection.HTTPConnection object at 0x0000020B85A784C0>: Failed to establish a new connection: [Errno 11001] getaddrinfo failed'))\n"
     ]
    },
    {
     "name": "stderr",
     "output_type": "stream",
     "text": [
      " 63%|███████████████████████████▏               | 5889/9316 [20:28<2:13:10,  2.33s/it]"
     ]
    },
    {
     "name": "stdout",
     "output_type": "stream",
     "text": [
      "Error at link http://umevent.um.edu.my/#page-top : ('Connection aborted.', BadStatusLine('<!DOCTYPE HTML PUBLIC \"-//IETF//DTD HTML 2.0//EN\">\\n'))\n"
     ]
    },
    {
     "name": "stderr",
     "output_type": "stream",
     "text": [
      " 63%|████████████████████████████▍                | 5895/9316 [20:30<44:08,  1.29it/s]Some characters could not be decoded, and were replaced with REPLACEMENT CHARACTER.\n",
      " 63%|████████████████████████████▍                | 5900/9316 [20:36<41:01,  1.39it/s]"
     ]
    },
    {
     "name": "stdout",
     "output_type": "stream",
     "text": [
      "5900\n"
     ]
    },
    {
     "name": "stderr",
     "output_type": "stream",
     "text": [
      " 63%|████████████████████████████▍                | 5900/9316 [20:40<11:58,  4.76it/s]\n"
     ]
    },
    {
     "ename": "OSError",
     "evalue": "[Errno 28] No space left on device",
     "output_type": "error",
     "traceback": [
      "\u001b[1;31m---------------------------------------------------------------------------\u001b[0m",
      "\u001b[1;31mOSError\u001b[0m                                   Traceback (most recent call last)",
      "Cell \u001b[1;32mIn[9], line 17\u001b[0m\n\u001b[0;32m     15\u001b[0m     \u001b[38;5;66;03m# export the variables to a file using pickle\u001b[39;00m\n\u001b[0;32m     16\u001b[0m     \u001b[38;5;28;01mwith\u001b[39;00m \u001b[38;5;28mopen\u001b[39m(\u001b[38;5;124mf\u001b[39m\u001b[38;5;124m'\u001b[39m\u001b[38;5;124mweb_data/data-checkpoint-\u001b[39m\u001b[38;5;132;01m{\u001b[39;00mi\u001b[38;5;132;01m}\u001b[39;00m\u001b[38;5;124m.pkl\u001b[39m\u001b[38;5;124m'\u001b[39m, \u001b[38;5;124m'\u001b[39m\u001b[38;5;124mwb\u001b[39m\u001b[38;5;124m'\u001b[39m) \u001b[38;5;28;01mas\u001b[39;00m f:\n\u001b[1;32m---> 17\u001b[0m         \u001b[43mpickle\u001b[49m\u001b[38;5;241;43m.\u001b[39;49m\u001b[43mdump\u001b[49m\u001b[43m(\u001b[49m\u001b[43mdata\u001b[49m\u001b[43m,\u001b[49m\u001b[43m \u001b[49m\u001b[43mf\u001b[49m\u001b[43m)\u001b[49m\n\u001b[0;32m     19\u001b[0m \u001b[38;5;66;03m# your code here\u001b[39;00m\n\u001b[0;32m     20\u001b[0m \u001b[38;5;28;01mtry\u001b[39;00m:\n",
      "\u001b[1;31mOSError\u001b[0m: [Errno 28] No space left on device"
     ]
    }
   ],
   "source": [
    "from tqdm import tqdm \n",
    "import pickle\n",
    "\n",
    "\n",
    "# data = []\n",
    "for i, link in tqdm(enumerate(set(all_links)), total=len(set(all_links))):\n",
    "    if i in [1565, 1988, 1990, 6769]:\n",
    "        continue\n",
    "        \n",
    "    if i <  4639:\n",
    "        continue\n",
    "        \n",
    "    if i % 100 == 0:\n",
    "        print(i)\n",
    "        # export the variables to a file using pickle\n",
    "        with open(f'web_data/data-checkpoint-{i}.pkl', 'wb') as f:\n",
    "            pickle.dump(data, f)\n",
    "\n",
    "    # your code here\n",
    "    try:\n",
    "        content = get_content_from_url(link)\n",
    "        data.append([link, content])\n",
    "    except Exception as e:\n",
    "        print(f\"Error at link {link} : {e}\")\n",
    "    \n",
    "# for i, link in enumerate(set(all_links)):\n",
    "#     if i < 1565:\n",
    "#         continue\n",
    "#     print(i)\n",
    "#     # your code here\n",
    "#     try:\n",
    "#         content = get_content_from_url(link)\n",
    "#         data.append([link, content])\n",
    "#     except Exception as e:\n",
    "#         print(f\"Error at link {link} : {e}\")\n",
    "    "
   ]
  },
  {
   "cell_type": "code",
   "execution_count": null,
   "id": "fdea2e90",
   "metadata": {},
   "outputs": [],
   "source": []
  },
  {
   "cell_type": "code",
   "execution_count": null,
   "id": "cc0eac5c",
   "metadata": {},
   "outputs": [],
   "source": []
  },
  {
   "cell_type": "code",
   "execution_count": null,
   "id": "6df01e40",
   "metadata": {},
   "outputs": [],
   "source": []
  },
  {
   "cell_type": "code",
   "execution_count": null,
   "id": "d8939795",
   "metadata": {},
   "outputs": [],
   "source": []
  },
  {
   "cell_type": "code",
   "execution_count": 20,
   "id": "b8ee5411",
   "metadata": {},
   "outputs": [],
   "source": [
    "import pandas as pd"
   ]
  },
  {
   "cell_type": "code",
   "execution_count": 21,
   "id": "fa9f542f",
   "metadata": {},
   "outputs": [],
   "source": [
    "df = pd.DataFrame(data, columns = [\"Link\", \"Content\"])"
   ]
  },
  {
   "cell_type": "code",
   "execution_count": 22,
   "id": "879caced",
   "metadata": {},
   "outputs": [],
   "source": [
    "import re\n",
    "from unidecode import unidecode\n",
    "\n",
    "def cleaning(string):\n",
    "  return re.sub(r'[ ]+', ' ', unidecode(string).replace('\\n', ' ')).strip()"
   ]
  },
  {
   "cell_type": "code",
   "execution_count": 23,
   "id": "994cc72d",
   "metadata": {},
   "outputs": [],
   "source": [
    "df['Content'] = df['Content'].apply(cleaning)"
   ]
  },
  {
   "cell_type": "code",
   "execution_count": 24,
   "id": "a14a7c4e",
   "metadata": {},
   "outputs": [
    {
     "data": {
      "text/plain": [
       "(53907, 9316)"
      ]
     },
     "execution_count": 24,
     "metadata": {},
     "output_type": "execute_result"
    }
   ],
   "source": [
    "len(all_links), len(set(all_links))"
   ]
  },
  {
   "cell_type": "code",
   "execution_count": 26,
   "id": "ed95a92f",
   "metadata": {},
   "outputs": [
    {
     "name": "stdout",
     "output_type": "stream",
     "text": [
      "<class 'pandas.core.frame.DataFrame'>\n",
      "RangeIndex: 1538 entries, 0 to 1537\n",
      "Data columns (total 2 columns):\n",
      " #   Column   Non-Null Count  Dtype \n",
      "---  ------   --------------  ----- \n",
      " 0   Link     1538 non-null   object\n",
      " 1   Content  1538 non-null   object\n",
      "dtypes: object(2)\n",
      "memory usage: 24.2+ KB\n"
     ]
    }
   ],
   "source": [
    "df.info()"
   ]
  },
  {
   "cell_type": "code",
   "execution_count": 28,
   "id": "a452b394",
   "metadata": {},
   "outputs": [],
   "source": [
    "# import pandas as pd\n",
    "import pickle\n",
    "\n",
    "# export the DataFrame to a file using pickle\n",
    "with open('data_UM_links_53k_DataFrame.pkl', 'wb') as f:\n",
    "    pickle.dump(df, f)"
   ]
  }
 ],
 "metadata": {
  "kernelspec": {
   "display_name": "Python 3 (ipykernel)",
   "language": "python",
   "name": "python3"
  },
  "language_info": {
   "codemirror_mode": {
    "name": "ipython",
    "version": 3
   },
   "file_extension": ".py",
   "mimetype": "text/x-python",
   "name": "python",
   "nbconvert_exporter": "python",
   "pygments_lexer": "ipython3",
   "version": "3.9.16"
  }
 },
 "nbformat": 4,
 "nbformat_minor": 5
}
