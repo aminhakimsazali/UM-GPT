{
 "cells": [
  {
   "cell_type": "code",
   "execution_count": 4,
   "metadata": {},
   "outputs": [
    {
     "name": "stdout",
     "output_type": "stream",
     "text": [
      "Collecting PyPDF2\n",
      "  Using cached pypdf2-3.0.1-py3-none-any.whl (232 kB)\n",
      "Requirement already satisfied: typing_extensions>=3.10.0.0 in c:\\users\\aminh\\anaconda3\\lib\\site-packages (from PyPDF2) (4.3.0)\n",
      "Installing collected packages: PyPDF2\n",
      "Successfully installed PyPDF2-3.0.1\n"
     ]
    },
    {
     "name": "stderr",
     "output_type": "stream",
     "text": [
      "WARNING: You are using pip version 22.0.4; however, version 23.0.1 is available.\n",
      "You should consider upgrading via the 'C:\\Users\\aminh\\anaconda3\\python.exe -m pip install --upgrade pip' command.\n"
     ]
    }
   ],
   "source": [
    "!pip3 install PyPDF2\n",
    "!pip3 install unidecode\n",
    "!pip3 install openai"
   ]
  },
  {
   "cell_type": "code",
   "execution_count": 1,
   "metadata": {
    "id": "hn_9p51dStEU"
   },
   "outputs": [],
   "source": [
    "import os\n",
    "\n"
   ]
  },
  {
   "cell_type": "code",
   "execution_count": 2,
   "metadata": {
    "id": "bS1Ckc-LSfh6"
   },
   "outputs": [],
   "source": [
    "import openai\n",
    "import numpy as np\n",
    "import os"
   ]
  },
  {
   "cell_type": "code",
   "execution_count": 16,
   "metadata": {},
   "outputs": [],
   "source": [
    "import pandas as pd\n",
    "\n",
    "pd.set_option('display.max_columns', None)\n",
    "pd.set_option('display.max_rows', None)\n",
    "pd.set_option('display.max_colwidth', None)"
   ]
  },
  {
   "cell_type": "code",
   "execution_count": 8,
   "metadata": {},
   "outputs": [],
   "source": [
    "df = pd.read_pickle(\"data_UM_links_53k_DataFrame.pkl\")"
   ]
  },
  {
   "cell_type": "code",
   "execution_count": 39,
   "metadata": {},
   "outputs": [
    {
     "name": "stdout",
     "output_type": "stream",
     "text": [
      "Wall time: 344 ms\n"
     ]
    }
   ],
   "source": [
    "%%time\n",
    "df[\"Text Length\"] = df['Content'].apply(lambda text_ : len(text_.split(\" \")))"
   ]
  },
  {
   "cell_type": "code",
   "execution_count": 55,
   "metadata": {},
   "outputs": [],
   "source": [
    "df.drop(index = df[df[\"Text Length\"] <= 20].index,  inplace = True)"
   ]
  },
  {
   "cell_type": "code",
   "execution_count": 57,
   "metadata": {
    "scrolled": true
   },
   "outputs": [
    {
     "name": "stdout",
     "output_type": "stream",
     "text": [
      "Index: 76 : https://umexpert.um.edu.my/abrizah#collapse1 \n",
      " UMEXPERT - PROF. DR. ABRIZAH BINTI ABDULLAH Toggle navigation UMEXPERT PROF. DR. ABRIZAH BINTI ABDULLAH Login Login to Your Account Forgot Password Name Name Faculty Areas of Expertise Academy of Islamic StudiesAcademy of Malay StudiesAsia-Europe InstituteAssociate Vice-Chancellor (Corporate Strategy)Associate Vice-Chancellor (Global Engagement)Associate Vice-Chancellor (Infrastructure and Information Services)BursarCentre for Foundation Studies in ScienceDeputy Vice-Chancellor (Academic and International)Deputy Vice-Chancellor (Development)Deputy Vice-Chancellor (Research and Innovation)Deputy Vice-Chancellor (Student Affairs)Faculty of Arts and Social SciencesFaculty of Built EnvironmentFaculty of Business and EconomicsFaculty of Computer Science and Information TechnologyFaculty of Creative ArtsFaculty of DentistryFaculty of EducationFaculty of EngineeringFaculty of Languages and LinguisticsFaculty of LawFaculty of MedicineFaculty of PharmacyFaculty of ScienceFaculty of Sports and Exercise ScienceInstitute for Advanced Studies (Ias)Institute of Ocean and Earth SciencesIntegrity UnitInternal Audit SectionPhotonics Research CentreRegistrarTropical Infectious Diseases Research and Education CentreUniversiti Malaya Power Energy Dedicated Advanced CentreVice-Chancellor PROF. DR. ABRIZAH BINTI ABDULLAH Department of Library Science & Information Faculty of Arts and Social Sciences abrizah@um.edu.my View CV Personal Homepage Publons Scopus Link Biography Abrizah Abdullah is a Professor at the Department of Library & Information Science, Faculty of Arts & Social Sciences, University of Malaya (UM). Abrizah graduated with a Bachelor degree in Environmental Engineering from Temple University Philadelphia, and obtained her Masters and PhD degree both in Library & Information Science from UM. Her research interests focus on digital libraries, information behavior, scholarly communication and bibliometrics. She is an active researcher, heading her own research group in Scholarly Communication. She is a Senior Academic Associate at CIBER Research Ltd. UK and is currently a Principal Investigator in an international research funded by the Alfred Sloan Foundation that investigates the scholarly communication behaviors of Early Career Researchers during the pandemic involving 8 countries (China, France, Malaysia, Poland, Russia, Spain, UK and USA). Her prior research group's works on digital libraries, bibliometrics and scholarly communication led to the development of a Malaysian journal hosting platform MyJurnal and a national citation indexing system, MyCite, in 2011, where she was then appointed as the Deputy Director of the Malaysian Citation Centre (MCC) and the advisory panel of the MCC at the Department of Higher Education. Professor Abrizah is the Chief Editor of the Malaysian Journal of Library & Information Science, which is indexed in both Social Science Citation Index (SSCI) and Scopus. She is an active author, international advisory board member and reviewer of impact-factored journals in the area of Library & Information Science. She has also been invited to speak at various talks and seminars that promote the understanding of the role of scholarly publishing and its impact on research and teaching. She is currently a member of the Malaysian Open Science Alliance, under the Academy of Sciences Malaysia, chairing the Working Group on Capacity Building and Awareness for Malaysian Open Science Platform (MOSP), and a member of the Steering Committee for the International Science Council project on the Future of Scientific Publishing. Professor Abrizah is currently the Dean of the Institute for Advanced Studies UM (1 Jan 2022 - ), and was the Dean of the Faculty of Computer Science & Information Technology University of Malaya (UM) from July 2017 to August 2019. Prior to this, she served as the Dean of the Institute of Postgraduate Studies UM, where Abrizah and her team were responsible in managing the postgraduate education and ensuring the highest level of full research programmes conducted in the university. She was a teacher librarian and had ten-years secondary school teaching experience, and was appointed as an Assistant Director at the Educational Planning and Research Division (EPRD) Ministry of Education Malaysia, before joining the University in 2000. Close Latest Award Best paper award \r\n",
      " \t\t\t\t\t\tBest paper award\t\t\t\t\t Year 2021 Latest Evaluation Penilai Luar Kenaikan Pangkat Staf Akademik ke Jawatan Professor Madya UiTM \r\n",
      " \t\t\t\t\t\tExternal assessor\t\t\t\t\t Year 2022 - 2023 Statistics Publication Annual Publications by Category Publication WoS Indexed SCOPUS Indexed Book Chapter in Book Summary of Budget vs Expenditure per vote for all research grants Finance Budget Expenditure Last 5 Projects Grant Progress Status IF018A-2016 end BKS079-2017 end RU007K-2016 end RP005C-13ICT end \r\n",
      " \t\t\t\t\t\tThis information is generated from Research Grant Management System\r\n",
      " \t\t\t\t\t\t Collaborator kiran kohai maizatul noorhidawati norisma porlip ramdr zainab View all collaborators Latest Publication View All Article in Academic Journals Book Chapter in book 2023 Outside the library: Early career researchers and use of alternative information sources in pandemic times 2023 The landscape of research data management services in Malaysian academic libraries: librarians' practices and roles 2022 Amanullah, Siti Wahida and Abrizah, A,(Forthcoming) The landscape of research data management services in Malaysian academic libraries: Librarians practices and roles. The Electronic Library. doi: 10.1108/EL-06-2022-0135 2022 Herman, Eti; Nicholas, David; Boukacem-Zeghmouri, Cherifa; Clark, David; Rodr guez Bravo, Blanca; Abrizah, A; Jamali, Hamid R.; Watkinson, Anthony; Sims, David; Swigon, Marzena; Serbina, Galina; Xu, Jie; Allard, Suzie ; Tenopir, Carol. (Forthcoming) Outside the library: early career researchers and the use of alternative sources in pandemic times. Learned Publishing (Accepted) 2012 A.N. Zainab,N.N. Edzan, A. Abrizah, A.P. Koh,N.A. \r\n",
      " Hazidah,N.N.N.S. Asilah, 2012.Malaysian Scientific \r\n",
      " Performance in the Web of Science 2001 to 2010. \r\n",
      " Putrajaya, Malaysia: Pusat Sitasi Malaysia.ISBN: 978-\r\n",
      " 967-11157-0-1 2017 Fauza A.Ghaffar & A.Abrizah. 2017. Quality Assurance and Quality Culture at a Public Higher Education Institution: A View from Within. In Neubauer, D. and Gomes, C. (eds.) Quality Issues at the University Level: Implementing Massification in Asian Higher Education (pp. 121-133). Palgrave Mcmillan 2011 A.Abrizah & A.N.Zainab.2011.Bringing the digital \r\n",
      " library design into the realm of Enterprise \r\n",
      " Architecture. In Digital Libraries - Methods and \r\n",
      " Applications, Kuo Hung Huang (Ed.), ISBN: 978-953-\r\n",
      " 307-203-6, Vienna, Austria: InTech. Available \r\n",
      " from: \r\n",
      " http://www.intechopen.com/articles/show/title/brin\r\n",
      " ging-the-digital-library-design-into-the-realm-of-\r\n",
      " enterprise-architecture 2003 A.N. Zainab, Abrizah Abdullah and Nor Badrul \r\n",
      " Anuar. Inculcating ICT Skills through a \r\n",
      " Collaborative Digital Library Initiative for \r\n",
      " Educational Use. Paper presented at the 6th \r\n",
      " International Conference of Asian Digital \r\n",
      " Libraries 2003, 8-11 Dec, Kuala Lumpur In Lecture \r\n",
      " Notes in Computer Science. Springer-Verlag (ISI-\r\n",
      " Indexed)\n",
      "\n",
      "Index: 512 : https://umexpert.um.edu.my/asafab#expertise \n",
      " UMEXPERT - PROF. SR TS. DR. AZLAN SHAH BIN ALI Toggle navigation UMEXPERT PROF. SR TS. DR. AZLAN SHAH BIN ALI Login Login to Your Account Forgot Password Name Name Faculty Areas of Expertise Academy of Islamic StudiesAcademy of Malay StudiesAsia-Europe InstituteAssociate Vice-Chancellor (Corporate Strategy)Associate Vice-Chancellor (Global Engagement)Associate Vice-Chancellor (Infrastructure and Information Services)BursarCentre for Foundation Studies in ScienceDeputy Vice-Chancellor (Academic and International)Deputy Vice-Chancellor (Development)Deputy Vice-Chancellor (Research and Innovation)Deputy Vice-Chancellor (Student Affairs)Faculty of Arts and Social SciencesFaculty of Built EnvironmentFaculty of Business and EconomicsFaculty of Computer Science and Information TechnologyFaculty of Creative ArtsFaculty of DentistryFaculty of EducationFaculty of EngineeringFaculty of Languages and LinguisticsFaculty of LawFaculty of MedicineFaculty of PharmacyFaculty of ScienceFaculty of Sports and Exercise ScienceInstitute for Advanced Studies (Ias)Institute of Ocean and Earth SciencesIntegrity UnitInternal Audit SectionPhotonics Research CentreRegistrarTropical Infectious Diseases Research and Education CentreUniversiti Malaya Power Energy Dedicated Advanced CentreVice-Chancellor PROF. SR TS. DR. AZLAN SHAH BIN ALI Department of Building Surveying Faculty of Built Environment asafab@um.edu.my View CV Publons Scopus Link Biography Azlan Shah Ali, PhD FRISM FRICS Reg BS is a professor in the Department of Building Surveying, and the Dean, Faculty of Built Environment, Universiti Malaya (UM), Kuala Lumpur, where he has been a faculty member since year 2004. He was promoted to the full professor post in July 2013, which make him as one of the youngest professors in the University. Prof. Azlan is also currently a Visiting Professor at School of Built Environment, Liverpool John Moores University, UK. He has held various responsibilities in the academic administration including a Dean, Acting Dean, Deputy Dean and Head of Department of the Faculty of Built Environment, UM. Previously, he worked with the building industry since 1998. In 2020, Prof. Azlan was appointed as Director for Building Surveying section, Unit Perundingan Universiti Malaya Sdn Bhd (UPUM Sdn Bhd) - University of Malaya's consultation arm - while still holding his Deputy Dean position. Under his leadership, UPUM Sdn Bhd secured 6 Building Condition Assessment (BCA) consultation projects from the government of Malaysia amounting more than RM5 million. The awarding projects as recognition by the government for his expertise in the field of building condition assessment. Prof. Azlan completed his PhD at Universiti Teknologi MARA, Malaysia specialising in building refurbishment. His research interests lie in building maintenance and refurbishment with the focus to improve management strategies. He has collaborated actively with researchers in several other disciplines of built environment, particularly surveying and architecture local and internationally. Prof. Azlan has been involved in several academic research and consultations with a total amount of more than RM6 million includes collaborative research for software development with Spanish companies CYPE, amounting more than RM2.5 million. He has published over 200 peer-reviewed technical publications in journals, proceedings, and books. He received the University of Malaya's Best Lecturers Award in 2012-, and 3-times Excellence Service Award from UM for his significant contribution in teaching and research works Prof. Azlan is currently a Chartered Building Surveyor, UK; a Registered Building Surveyor, Malaysia; a Registered Property Manager, Malaysia; a Professional Technologies, Malaysia; a Fellow of The Royal Institution of Surveyors Malaysia (FRISM) and The Royal Institution of Chartered Surveyors, UK (FRICS). He has served as a committee member includes secretaryship of the Building Surveying Division, RISM for more than 15 years. Close Latest Award Notable figure \r\n",
      " \t\t\t\t\t\tNotable figure\t\t\t\t\t Year 2021 Latest Evaluation PhD Examiner-Amir Fahsa- UiTM \r\n",
      " \t\t\t\t\t\tExternal examiner\t\t\t\t\t Year 2022 - 2023 Statistics Publication Annual Publications by Category Publication WoS Indexed SCOPUS Indexed Book Chapter in Book Summary of Budget vs Expenditure per vote for all research grants Finance Budget Expenditure Last 5 Projects Grant Progress Status IIRG007C-19SAH end GPF077A-2020 end GPF007F-2018 end RU013R-2019 end \r\n",
      " \t\t\t\t\t\tThis information is generated from Research Grant Management System\r\n",
      " \t\t\t\t\t\t View all projects Collaborator anuar_a badrul elyna faiz faridakashah hayati maznah_o mrizal norhanimz zahiriah zahiruddin zairul View all collaborators Latest Publication View All Article in Academic Journals Book Chapter in book 2022 Risk factors in the refurbishment design process: the case of Malaysia 2022 Risk factors in the refurbishment design process: the case of Malaysia 2022 Exploring a body of knowledge for promoting the building information model for facility management 2022 The Impact of Life Cycle Cost Analysis (LCC) Towards Maintenance Performance for High-Rise Residential Lift System 2022 Prospek Pelancongan Lestari di Malaysia Keusahawanan, Penyenggaraan Aset dan Nilai Ekonomi 2022 Penilaian Keadaan Bangunan: Tip dan Trik 2022 Managing Building Deterioration: Prediction Model for Public Schools in Developing Countries 2019 Buruh Binaan Malaysia,\n",
      "\n",
      "Index: 1079 : https://umexpert.um.edu.my/asafab#faculty \n",
      " UMEXPERT - PROF. SR TS. DR. AZLAN SHAH BIN ALI Toggle navigation UMEXPERT PROF. SR TS. DR. AZLAN SHAH BIN ALI Login Login to Your Account Forgot Password Name Name Faculty Areas of Expertise Academy of Islamic StudiesAcademy of Malay StudiesAsia-Europe InstituteAssociate Vice-Chancellor (Corporate Strategy)Associate Vice-Chancellor (Global Engagement)Associate Vice-Chancellor (Infrastructure and Information Services)BursarCentre for Foundation Studies in ScienceDeputy Vice-Chancellor (Academic and International)Deputy Vice-Chancellor (Development)Deputy Vice-Chancellor (Research and Innovation)Deputy Vice-Chancellor (Student Affairs)Faculty of Arts and Social SciencesFaculty of Built EnvironmentFaculty of Business and EconomicsFaculty of Computer Science and Information TechnologyFaculty of Creative ArtsFaculty of DentistryFaculty of EducationFaculty of EngineeringFaculty of Languages and LinguisticsFaculty of LawFaculty of MedicineFaculty of PharmacyFaculty of ScienceFaculty of Sports and Exercise ScienceInstitute for Advanced Studies (Ias)Institute of Ocean and Earth SciencesIntegrity UnitInternal Audit SectionPhotonics Research CentreRegistrarTropical Infectious Diseases Research and Education CentreUniversiti Malaya Power Energy Dedicated Advanced CentreVice-Chancellor PROF. SR TS. DR. AZLAN SHAH BIN ALI Department of Building Surveying Faculty of Built Environment asafab@um.edu.my View CV Publons Scopus Link Biography Azlan Shah Ali, PhD FRISM FRICS Reg BS is a professor in the Department of Building Surveying, and the Dean, Faculty of Built Environment, Universiti Malaya (UM), Kuala Lumpur, where he has been a faculty member since year 2004. He was promoted to the full professor post in July 2013, which make him as one of the youngest professors in the University. Prof. Azlan is also currently a Visiting Professor at School of Built Environment, Liverpool John Moores University, UK. He has held various responsibilities in the academic administration including a Dean, Acting Dean, Deputy Dean and Head of Department of the Faculty of Built Environment, UM. Previously, he worked with the building industry since 1998. In 2020, Prof. Azlan was appointed as Director for Building Surveying section, Unit Perundingan Universiti Malaya Sdn Bhd (UPUM Sdn Bhd) - University of Malaya's consultation arm - while still holding his Deputy Dean position. Under his leadership, UPUM Sdn Bhd secured 6 Building Condition Assessment (BCA) consultation projects from the government of Malaysia amounting more than RM5 million. The awarding projects as recognition by the government for his expertise in the field of building condition assessment. Prof. Azlan completed his PhD at Universiti Teknologi MARA, Malaysia specialising in building refurbishment. His research interests lie in building maintenance and refurbishment with the focus to improve management strategies. He has collaborated actively with researchers in several other disciplines of built environment, particularly surveying and architecture local and internationally. Prof. Azlan has been involved in several academic research and consultations with a total amount of more than RM6 million includes collaborative research for software development with Spanish companies CYPE, amounting more than RM2.5 million. He has published over 200 peer-reviewed technical publications in journals, proceedings, and books. He received the University of Malaya's Best Lecturers Award in 2012-, and 3-times Excellence Service Award from UM for his significant contribution in teaching and research works Prof. Azlan is currently a Chartered Building Surveyor, UK; a Registered Building Surveyor, Malaysia; a Registered Property Manager, Malaysia; a Professional Technologies, Malaysia; a Fellow of The Royal Institution of Surveyors Malaysia (FRISM) and The Royal Institution of Chartered Surveyors, UK (FRICS). He has served as a committee member includes secretaryship of the Building Surveying Division, RISM for more than 15 years. Close Latest Award Notable figure \r\n",
      " \t\t\t\t\t\tNotable figure\t\t\t\t\t Year 2021 Latest Evaluation PhD Examiner-Amir Fahsa- UiTM \r\n",
      " \t\t\t\t\t\tExternal examiner\t\t\t\t\t Year 2022 - 2023 Statistics Publication Annual Publications by Category Publication WoS Indexed SCOPUS Indexed Book Chapter in Book Summary of Budget vs Expenditure per vote for all research grants Finance Budget Expenditure Last 5 Projects Grant Progress Status IIRG007C-19SAH end GPF077A-2020 end GPF007F-2018 end RU013R-2019 end \r\n",
      " \t\t\t\t\t\tThis information is generated from Research Grant Management System\r\n",
      " \t\t\t\t\t\t View all projects Collaborator anuar_a badrul elyna faiz faridakashah hayati maznah_o mrizal norhanimz zahiriah zahiruddin zairul View all collaborators Latest Publication View All Article in Academic Journals Book Chapter in book 2022 Risk factors in the refurbishment design process: the case of Malaysia 2022 Risk factors in the refurbishment design process: the case of Malaysia 2022 Exploring a body of knowledge for promoting the building information model for facility management 2022 The Impact of Life Cycle Cost Analysis (LCC) Towards Maintenance Performance for High-Rise Residential Lift System 2022 Prospek Pelancongan Lestari di Malaysia Keusahawanan, Penyenggaraan Aset dan Nilai Ekonomi 2022 Penilaian Keadaan Bangunan: Tip dan Trik 2022 Managing Building Deterioration: Prediction Model for Public Schools in Developing Countries 2019 Buruh Binaan Malaysia,\n",
      "\n",
      "Index: 1256 : https://sustainability.um.edu.my/news/um-ukm-unikl-inked-a-sustainability-partnership-with-gamuda-land-on-biodiversity-conservation-esg-amp-ghg-emission-intensity-reduction \n",
      " Welcome to SUSTAINABILITY@UM Welcome to SUSTAINABILITY@UM umsdc@um.edu.my +603 7967 4635 Menu HOME ABOUT US Introduction Core Functions SUSTAINABILITY@UM UM in Times Higher Education Impact Rankings (THE IR) UM in UI GreenMetric World University Rankings UM in Low Carbon Cities Framework (LCCF) UM Living Labs (UMLL) UM Living Labs (UMLL) @ UMSDC UM Carbon Neutrality Acceleration Living Labs UM Circular Economy Living Labs Sustainability Policies, Blueprint, Plans and Guidelines Sustainability Networks Campus Sustainability Reporting Sustainability & Media ECOCAMPUS@UM EcoCampus@UM Initiatives UM Eco-Campus Blueprint (UMECB) UM Zero Waste Campaign Water Warriors UM The Rimba Project RIMBA ILMU MAKERSPACE@UM CONTACT US UM - UKM - UniKL inked a Sustainability Partnership with Gamuda Land on Biodiversity Conservation, ESG & GHG Emission Intensity Reduction Home News UM - UKM - UniKL inked a Sustainability Partnership with Gamuda Land on Biodiversity Conservation, ESG & GHG Emission Intensity Reduction \r\n",
      " Congratulations to Gamuda Parks (through Gamuda Land) and the respective Malaysian universities, namely Universiti Malaya (UM) and Universiti Kebangsaan Malaysia (UKM) on the official signing of the Memorandum of Understanding (MoU), and Memorandum of Collaboration with UniKL dated 27 July 2022. The signing ceremony was hosted by Gamuda at Discovery Park of Gamuda Cove. The areas of collaboration cover the following initiatives:\r\n",
      " 1) UM and UKM with Gamuda Parks on Paya Indah Discovery Wetlands (PIDW) Water Quality enhancement project. \r\n",
      " 2) UniKL and Gamuda on advocacy of better waste and material management.\r\n",
      " 3) UM and Gamuda Land on the Wetland Arboretum Gallery Curation project.\r\n",
      " Associate Professor Ts. Dr. Nor Badrul Anuar Juma'at (Associate Vice-Chancellor of Infrastructure and Information Services) attended as a signee of UM, while LAr. Khariza Abdul Khalid (Executive Director of Gamuda Land) represented Gamuda Land. UM delegation on the day of the ceremony includes the Director of International Relations Office (IRO), Acting Director of UM Industry Liaison Office (UM ILO), Director of UM Sustainability and Development Centre (UM SDC), and key researchers from the Faculty of Science UM and Rimba Ilmu. In short, these sustainability partnerships are aligned with the Gamuda Green Plan (GGP) with sets of targets driven by Environmental, Social, and Governance (ESG). The goal is to reduce direct and indirect corporate Greenhouse Gas (GHG) emissions intensity by 30% in 2025 and 45% in 2030. More details on Gamuda Land: https://gamudaland.com.my/ #universitimalaya #sustainabilitypartnership #industry #gamudaland #gamudaparks #biodiversity #waterquality #wastemanagement #umsustainability #rimbailmu #mou #inspirebeinspired #ghgemission #fakultisains #servingthenation #impactingtheworld About UM Vision & Mission Our History UM Fact Sheet Career 50603 Kuala Lumpur, Malaysia Quick Links Academic Giving@UM Library Research & Community Services (c) 2021 Universiti Malaya. All Rights Reserved | Privacy Policy | Site Credits | Disclaimer | Security Policy | Sitemap\n",
      "\n",
      "Index: 1480 : https://sts.um.edu.my/student-exchange-programme \n",
      " STS - Universiti Malaya STS - Universiti Malaya ketua_saintek@um.edu.my +0379674166 Menu Home About Us Background Message from Head of Department Our Focus Organisation Chart Contact Us STAFF Academic Staff Supporting Staff PROGRAMME Master's Programme (Coursework) Dissertation - PhD and Master Industrial Training Skills Developed & STS Career RESEARCH Research Focus Research Highlight Research Gallery Events STUDENT AFFAIRS STS Club & Programmes Social Engagement Student Exchange Programme iCON-STS2023 Student Exchange Programme Home Student Exchange Programme At the Department of Science and Technology Studies, students are encouraged to grab once-in-a-lifetime opportunities to participate in outbound program at universities around the world. This program offers not only academic but also cultural experience which may enhance the students' soft skills and broaden their perspectives. Previous programs joined by STS students include short-term outbound programs to Universiti Brunei Darussalam, Brunei in 2014 and 2016. The students had amazing experience there attending academic lectures, cultural workshops as well as excursions to several places of interest in Brunei. They also had memorable experience when meeting with the founder of STS department, Prof. Emeritus Datuk Dr. Osman Bakar at Universiti Brunei Darussalam. In 2018, two STS students Clara Joan Joachim@Jones and Mariam Syafini Mohd Saidi are in Seoul and Gwangju, South Korea for one semester outbound program. Indonesia is a diverse and vibrant country with a rich culture and a strong tradition of education. Outbound Programme to Universitas Indonesia, Indonesia (Year 2022) During the programme, we were given lectures and were also involved in field trips to Hyundai Indonesia and the Bogor landfill. The visit to Hyundai Indonesia was meant for us to understand the industrial process of manufacturing auto mobiles in Indonesia. However, Hyundai is an international company from Korea collaborating with Indonesia which meant the whole factory's system and condition would be maintained up to a standard. The visit to the Bogor landfill was to see how the locals would use a more sustainable process on waste management instead of burning or burying residential waste which goes thru several process. the main agent on making this place sustainable is the usage of Black Soldier Flies which proves useful in every stage of their lifecycle. All and all, this program has opened my eyes towards many possibilities in the sectors and educate me towards more sectors that I can venture upon. - Rey Adrie bin Badrul Hisham, 2022. Outbound Programme to State University of Malang, Indonesia (Year 2019) It was on 3rd February 2019 where I participated in a mobility programme which was held in the State University of Malang, Indonesia during the 1-month semester break. This programme was mainly conducted for students from the Faculty of Science which consisted of 20 students and it was a collaboration between the University of Malaya and the host university. Apparently, this programme itself was an added-advantage as this programme conducted not only academically but also non-academically where we went for excursions to several attractive places in Malang City. We gained whole hoards of memories from the places that we visited. One of the mesmerizing places that I have been to was the Mount Bromo which is the most iconic volcano situated in East Java. Despite the tiredness, we surely enjoyed every minute we spent over there. We also went to Kampung Warna-Warni, Teletubbies Hill, Seruni Point, a bus tour around the Malang City, Coban Pelangi, so on and so forth. Within the university campus, we also had fun interacting with the Indonesian Students and delegators where we are encouraged to sell our Malaysian Food, taught how to make Bakso (Indonesian famous food), and attending academic and practical classes. We also had a sharing session with the students where we got to know their culture enrichened with values, norms and customs and we were truly amazed by their culture. Feelings cannot be expressed in words the days we enjoyed at there with cheaper and tasty food, captivating places and friendly people. Though it was only for 12 days, the experience and insights we gained at there were immensely valuable and shall never be forgotten ~ Thivagar A/L A. Murugan, Aliah Syafiqah Bt Rahim, Nur Duratul Ain Bt Mohd Zaki, Nur Afiqah Adlin bt Azmam, 2019. Outbound Programme to South Korea (Year 2018) I am now in Sejong University, South Korea. I will be here for a semester and majoring in Law and Society under Open Major Faculty. I have been enrolled in 4 subjects - 2 Korean language classes, Principle of Economics and History of S&T. We are encouraged to learn about the culture, economy and politics of Korean. I am looking forward to learn new language and make new friends here ~ Clara Joan Joachim, 2018. I was at Kyoto University, Japan from the 21st October to 3rd November 2018 following, The Wild and Wise Collaborative Learning Programs organised by the Department of Environmental Engineering of the Graduate School of Engineering (GSE), Kyoto University in collaboration with University of Malaya and Tsinghua University, China. The program proved to be greatly beneficial as participants were given the opportunity to visit various top industries in the engineering sectors in Japan as well as the exchanges of knowledge between the professionals, academicians and the participants; broadening their point of views and perspectives towards environmental engineering and environmental management. As one of the delegates from the University of Malaya, this program has provided me with an eye opening experience as well as enriching me with new knowledge on technology and sustainability ~ Muhamad Faisal Muhamad Noor, 2018. I am now in Chonnam National University, Gwangju, South Korea. I will be here for a semester which are for 4 months and majoring in Environmental Science under Department of Earth and Environmental Sciences. I have been enrolled in 4 subjects which are 3 Korean language classes (Korean Listening and Speaking, Understanding Korean Society and Korean Language Special Class) and Macroeconomics. I hope that I will gain as much experience and knowledge as possible here as well as making new friends from other universities and countries here ~Mariam Syafini binti Mohd Saidi, 2018. Outbound Programme to Universiti Brunei Darussalam (Year 2014 & 2016) Last Update: 07/03/2023 About UM Vision & Mission Our History UM Fact Sheet Career 50603 Kuala Lumpur, Malaysia Quick Links Academic Giving@UM Library Research & Community Services (c) 2021 Universiti Malaya. All Rights Reserved | Privacy Policy | Site Credits | Disclaimer | Security Policy | Sitemap\n",
      "\n"
     ]
    }
   ],
   "source": [
    "for index, row in df.iterrows():\n",
    "    if \"badrul\" in row['Content'].lower():\n",
    "        print(f\"Index: {index} : {row['Link']} \\n {row['Content']}\")\n",
    "#         break\n",
    "        print()"
   ]
  },
  {
   "cell_type": "code",
   "execution_count": 23,
   "metadata": {
    "id": "_ZMblcoZUDJo"
   },
   "outputs": [],
   "source": [
    "import re\n",
    "from unidecode import unidecode\n",
    "\n",
    "def cleaning(string):\n",
    "  return re.sub(r'[ ]+', ' ', unidecode(string).replace('\\n', ' ')).strip()"
   ]
  },
  {
   "cell_type": "code",
   "execution_count": 17,
   "metadata": {
    "colab": {
     "base_uri": "https://localhost:8080/",
     "height": 35
    },
    "id": "8El6P0x4UUAU",
    "outputId": "15acd1cb-03f2-4eca-e778-83f251ed7448"
   },
   "outputs": [
    {
     "data": {
      "text/plain": [
       "'1 VERSI BAHASA MELAYU'"
      ]
     },
     "execution_count": 17,
     "metadata": {},
     "output_type": "execute_result"
    }
   ],
   "source": [
    "cleaning(pdf_reader.pages[0].extract_text())"
   ]
  },
  {
   "cell_type": "code",
   "execution_count": 32,
   "metadata": {
    "id": "y40Am00hUgMV"
   },
   "outputs": [],
   "source": [
    "def get_embedding(text, model=\"text-embedding-ada-002\"):\n",
    "   text = text.replace(\"\\n\", \" \")\n",
    "   return openai.Embedding.create(input = [text], model=model)['data'][0]['embedding']"
   ]
  },
  {
   "cell_type": "code",
   "execution_count": 33,
   "metadata": {
    "colab": {
     "base_uri": "https://localhost:8080/"
    },
    "id": "wafcpbLCWelU",
    "outputId": "611b2641-c084-4550-d45e-e8cef25eddf9"
   },
   "outputs": [
    {
     "data": {
      "text/plain": [
       "1536"
      ]
     },
     "execution_count": 33,
     "metadata": {},
     "output_type": "execute_result"
    }
   ],
   "source": [
    "# v = get_embedding(cleaning(pdf_reader.pages[0].extract_text()))\n",
    "# len(v)\n",
    "\n",
    "v = get_embedding(df.loc[1256 , \"Content\"])\n",
    "len(v)\n"
   ]
  },
  {
   "cell_type": "code",
   "execution_count": 61,
   "metadata": {
    "colab": {
     "base_uri": "https://localhost:8080/"
    },
    "id": "YyeWOUXNWg2l",
    "outputId": "845dccbc-b69d-430a-eb35-8e806ec04620",
    "scrolled": true
   },
   "outputs": [
    {
     "name": "stderr",
     "output_type": "stream",
     "text": [
      "53it [00:15,  3.62it/s]"
     ]
    },
    {
     "name": "stdout",
     "output_type": "stream",
     "text": [
      "Elapsed time: 15.45 seconds\n"
     ]
    },
    {
     "name": "stderr",
     "output_type": "stream",
     "text": [
      "61it [01:02,  1.51s/it]"
     ]
    },
    {
     "name": "stdout",
     "output_type": "stream",
     "text": [
      "Error at index 68 : This model's maximum context length is 8191 tokens, however you requested 81427 tokens (81427 in your prompt; 0 for the completion). Please reduce your prompt; or completion length.\n"
     ]
    },
    {
     "name": "stderr",
     "output_type": "stream",
     "text": [
      "77it [01:06,  2.90it/s]"
     ]
    },
    {
     "name": "stdout",
     "output_type": "stream",
     "text": [
      "Error at index 87 : This model's maximum context length is 8191 tokens, however you requested 87413 tokens (87413 in your prompt; 0 for the completion). Please reduce your prompt; or completion length.\n"
     ]
    },
    {
     "name": "stderr",
     "output_type": "stream",
     "text": [
      "104it [01:13,  4.23it/s]"
     ]
    },
    {
     "name": "stdout",
     "output_type": "stream",
     "text": [
      "Elapsed time: 13.90 seconds\n"
     ]
    },
    {
     "name": "stderr",
     "output_type": "stream",
     "text": [
      "155it [02:15,  3.46it/s]"
     ]
    },
    {
     "name": "stdout",
     "output_type": "stream",
     "text": [
      "Error at index 177 : This model's maximum context length is 8191 tokens, however you requested 8445 tokens (8445 in your prompt; 0 for the completion). Please reduce your prompt; or completion length.\n"
     ]
    },
    {
     "name": "stderr",
     "output_type": "stream",
     "text": [
      "157it [02:15,  3.56it/s]"
     ]
    },
    {
     "name": "stdout",
     "output_type": "stream",
     "text": [
      "Elapsed time: 15.80 seconds\n"
     ]
    },
    {
     "name": "stderr",
     "output_type": "stream",
     "text": [
      "170it [03:04,  1.39it/s]"
     ]
    },
    {
     "name": "stdout",
     "output_type": "stream",
     "text": [
      "Error at index 192 : This model's maximum context length is 8191 tokens, however you requested 118077 tokens (118077 in your prompt; 0 for the completion). Please reduce your prompt; or completion length.\n"
     ]
    },
    {
     "name": "stderr",
     "output_type": "stream",
     "text": [
      "204it [03:13,  3.55it/s]"
     ]
    },
    {
     "name": "stdout",
     "output_type": "stream",
     "text": [
      "Error at index 227 : This model's maximum context length is 8191 tokens, however you requested 84082 tokens (84082 in your prompt; 0 for the completion). Please reduce your prompt; or completion length.\n"
     ]
    },
    {
     "name": "stderr",
     "output_type": "stream",
     "text": [
      "\r\n",
      "205it [03:13,  3.58it/s]"
     ]
    },
    {
     "name": "stdout",
     "output_type": "stream",
     "text": [
      "Error at index 229 : This model's maximum context length is 8191 tokens, however you requested 13373 tokens (13373 in your prompt; 0 for the completion). Please reduce your prompt; or completion length.\n"
     ]
    },
    {
     "name": "stderr",
     "output_type": "stream",
     "text": [
      "214it [03:16,  3.60it/s]"
     ]
    },
    {
     "name": "stdout",
     "output_type": "stream",
     "text": [
      "Elapsed time: 17.46 seconds\n"
     ]
    },
    {
     "name": "stderr",
     "output_type": "stream",
     "text": [
      "272it [04:15,  3.75it/s]"
     ]
    },
    {
     "name": "stdout",
     "output_type": "stream",
     "text": [
      "Elapsed time: 16.07 seconds\n"
     ]
    },
    {
     "name": "stderr",
     "output_type": "stream",
     "text": [
      "275it [05:00,  7.39s/it]"
     ]
    },
    {
     "name": "stdout",
     "output_type": "stream",
     "text": [
      "Error at index 302 : This model's maximum context length is 8191 tokens, however you requested 68247 tokens (68247 in your prompt; 0 for the completion). Please reduce your prompt; or completion length.\n"
     ]
    },
    {
     "name": "stderr",
     "output_type": "stream",
     "text": [
      "282it [05:03,  1.15s/it]"
     ]
    },
    {
     "name": "stdout",
     "output_type": "stream",
     "text": [
      "Error at index 309 : This model's maximum context length is 8191 tokens, however you requested 141331 tokens (141331 in your prompt; 0 for the completion). Please reduce your prompt; or completion length.\n"
     ]
    },
    {
     "name": "stderr",
     "output_type": "stream",
     "text": [
      "295it [05:07,  2.54it/s]"
     ]
    },
    {
     "name": "stdout",
     "output_type": "stream",
     "text": [
      "Error at index 324 : This model's maximum context length is 8191 tokens, however you requested 77962 tokens (77962 in your prompt; 0 for the completion). Please reduce your prompt; or completion length.\n"
     ]
    },
    {
     "name": "stderr",
     "output_type": "stream",
     "text": [
      "314it [05:13,  2.63it/s]"
     ]
    },
    {
     "name": "stdout",
     "output_type": "stream",
     "text": [
      "Error at index 343 : This model's maximum context length is 8191 tokens, however you requested 16125 tokens (16125 in your prompt; 0 for the completion). Please reduce your prompt; or completion length.\n"
     ]
    },
    {
     "name": "stderr",
     "output_type": "stream",
     "text": [
      "330it [05:17,  3.46it/s]"
     ]
    },
    {
     "name": "stdout",
     "output_type": "stream",
     "text": [
      "Elapsed time: 18.02 seconds\n"
     ]
    },
    {
     "name": "stderr",
     "output_type": "stream",
     "text": [
      "345it [06:04,  2.10it/s]"
     ]
    },
    {
     "name": "stdout",
     "output_type": "stream",
     "text": [
      "Error at index 374 : This model's maximum context length is 8191 tokens, however you requested 117433 tokens (117433 in your prompt; 0 for the completion). Please reduce your prompt; or completion length.\n"
     ]
    },
    {
     "name": "stderr",
     "output_type": "stream",
     "text": [
      "376it [06:12,  3.32it/s]"
     ]
    },
    {
     "name": "stdout",
     "output_type": "stream",
     "text": [
      "Error at index 405 : This model's maximum context length is 8191 tokens, however you requested 60643 tokens (60643 in your prompt; 0 for the completion). Please reduce your prompt; or completion length.\n"
     ]
    },
    {
     "name": "stderr",
     "output_type": "stream",
     "text": [
      "382it [06:13,  3.40it/s]"
     ]
    },
    {
     "name": "stdout",
     "output_type": "stream",
     "text": [
      "Error at index 412 : This model's maximum context length is 8191 tokens, however you requested 8443 tokens (8443 in your prompt; 0 for the completion). Please reduce your prompt; or completion length.\n"
     ]
    },
    {
     "name": "stderr",
     "output_type": "stream",
     "text": [
      "385it [06:15,  2.40it/s]"
     ]
    },
    {
     "name": "stdout",
     "output_type": "stream",
     "text": [
      "Error at index 415 : This model's maximum context length is 8191 tokens, however you requested 161579 tokens (161579 in your prompt; 0 for the completion). Please reduce your prompt; or completion length.\n"
     ]
    },
    {
     "name": "stderr",
     "output_type": "stream",
     "text": [
      "389it [06:16,  3.37it/s]"
     ]
    },
    {
     "name": "stdout",
     "output_type": "stream",
     "text": [
      "Elapsed time: 16.46 seconds\n"
     ]
    },
    {
     "name": "stderr",
     "output_type": "stream",
     "text": [
      "398it [07:02,  1.17s/it]"
     ]
    },
    {
     "name": "stdout",
     "output_type": "stream",
     "text": [
      "Error at index 428 : This model's maximum context length is 8191 tokens, however you requested 95673 tokens (95673 in your prompt; 0 for the completion). Please reduce your prompt; or completion length.\n"
     ]
    },
    {
     "name": "stderr",
     "output_type": "stream",
     "text": [
      "447it [07:16,  2.74it/s]"
     ]
    },
    {
     "name": "stdout",
     "output_type": "stream",
     "text": [
      "Error at index 480 : This model's maximum context length is 8191 tokens, however you requested 68638 tokens (68638 in your prompt; 0 for the completion). Please reduce your prompt; or completion length.\n",
      "Elapsed time: 17.44 seconds\n"
     ]
    },
    {
     "name": "stderr",
     "output_type": "stream",
     "text": [
      "454it [08:02,  1.86s/it]"
     ]
    },
    {
     "name": "stdout",
     "output_type": "stream",
     "text": [
      "Error at index 487 : This model's maximum context length is 8191 tokens, however you requested 75683 tokens (75683 in your prompt; 0 for the completion). Please reduce your prompt; or completion length.\n"
     ]
    },
    {
     "name": "stderr",
     "output_type": "stream",
     "text": [
      "474it [08:08,  1.91it/s]"
     ]
    },
    {
     "name": "stdout",
     "output_type": "stream",
     "text": [
      "Error at index 507 : This model's maximum context length is 8191 tokens, however you requested 263724 tokens (263724 in your prompt; 0 for the completion). Please reduce your prompt; or completion length.\n"
     ]
    },
    {
     "name": "stderr",
     "output_type": "stream",
     "text": [
      "503it [08:17,  4.05it/s]"
     ]
    },
    {
     "name": "stdout",
     "output_type": "stream",
     "text": [
      "Elapsed time: 18.21 seconds\n"
     ]
    },
    {
     "name": "stderr",
     "output_type": "stream",
     "text": [
      "517it [09:03,  1.64it/s]"
     ]
    },
    {
     "name": "stdout",
     "output_type": "stream",
     "text": [
      "Error at index 552 : This model's maximum context length is 8191 tokens, however you requested 116100 tokens (116100 in your prompt; 0 for the completion). Please reduce your prompt; or completion length.\n"
     ]
    },
    {
     "name": "stderr",
     "output_type": "stream",
     "text": [
      "562it [09:17,  2.69it/s]"
     ]
    },
    {
     "name": "stdout",
     "output_type": "stream",
     "text": [
      "Error at index 599 : This model's maximum context length is 8191 tokens, however you requested 47069 tokens (47069 in your prompt; 0 for the completion). Please reduce your prompt; or completion length.\n",
      "Elapsed time: 18.16 seconds\n"
     ]
    },
    {
     "name": "stderr",
     "output_type": "stream",
     "text": [
      "586it [10:07,  3.10it/s]"
     ]
    },
    {
     "name": "stdout",
     "output_type": "stream",
     "text": [
      "Error at index 625 : This model's maximum context length is 8191 tokens, however you requested 36316 tokens (36316 in your prompt; 0 for the completion). Please reduce your prompt; or completion length.\n"
     ]
    },
    {
     "name": "stderr",
     "output_type": "stream",
     "text": [
      "612it [10:14,  3.65it/s]"
     ]
    },
    {
     "name": "stdout",
     "output_type": "stream",
     "text": [
      "Error at index 653 : This model's maximum context length is 8191 tokens, however you requested 22619 tokens (22619 in your prompt; 0 for the completion). Please reduce your prompt; or completion length.\n"
     ]
    },
    {
     "name": "stderr",
     "output_type": "stream",
     "text": [
      "618it [10:15,  5.94it/s]"
     ]
    },
    {
     "name": "stdout",
     "output_type": "stream",
     "text": [
      "Elapsed time: 15.46 seconds\n"
     ]
    },
    {
     "name": "stderr",
     "output_type": "stream",
     "text": [
      "682it [11:16,  3.68it/s]"
     ]
    },
    {
     "name": "stdout",
     "output_type": "stream",
     "text": [
      "Error at index 731 : This model's maximum context length is 8191 tokens, however you requested 10695 tokens (10695 in your prompt; 0 for the completion). Please reduce your prompt; or completion length.\n"
     ]
    },
    {
     "name": "stderr",
     "output_type": "stream",
     "text": [
      "\r\n",
      "683it [11:17,  3.59it/s]"
     ]
    },
    {
     "name": "stdout",
     "output_type": "stream",
     "text": [
      "Error at index 732 : This model's maximum context length is 8191 tokens, however you requested 15282 tokens (15282 in your prompt; 0 for the completion). Please reduce your prompt; or completion length.\n"
     ]
    },
    {
     "name": "stderr",
     "output_type": "stream",
     "text": [
      "686it [11:17,  3.75it/s]"
     ]
    },
    {
     "name": "stdout",
     "output_type": "stream",
     "text": [
      "Error at index 735 : This model's maximum context length is 8191 tokens, however you requested 9781 tokens (9781 in your prompt; 0 for the completion). Please reduce your prompt; or completion length.\n"
     ]
    },
    {
     "name": "stderr",
     "output_type": "stream",
     "text": [
      "728it [11:29,  3.65it/s]"
     ]
    },
    {
     "name": "stdout",
     "output_type": "stream",
     "text": [
      "Elapsed time: 29.92 seconds\n"
     ]
    },
    {
     "name": "stderr",
     "output_type": "stream",
     "text": [
      "756it [12:07,  3.74it/s]"
     ]
    },
    {
     "name": "stdout",
     "output_type": "stream",
     "text": [
      "Error at index 807 : This model's maximum context length is 8191 tokens, however you requested 11427 tokens (11427 in your prompt; 0 for the completion). Please reduce your prompt; or completion length.\n"
     ]
    },
    {
     "name": "stderr",
     "output_type": "stream",
     "text": [
      "761it [12:09,  1.96it/s]"
     ]
    },
    {
     "name": "stdout",
     "output_type": "stream",
     "text": [
      "Error at index 812 : This model's maximum context length is 8191 tokens, however you requested 132140 tokens (132140 in your prompt; 0 for the completion). Please reduce your prompt; or completion length.\n"
     ]
    },
    {
     "name": "stderr",
     "output_type": "stream",
     "text": [
      "763it [12:10,  2.19it/s]"
     ]
    },
    {
     "name": "stdout",
     "output_type": "stream",
     "text": [
      "Error at index 814 : This model's maximum context length is 8191 tokens, however you requested 118704 tokens (118704 in your prompt; 0 for the completion). Please reduce your prompt; or completion length.\n"
     ]
    },
    {
     "name": "stderr",
     "output_type": "stream",
     "text": [
      "777it [12:14,  2.72it/s]"
     ]
    },
    {
     "name": "stdout",
     "output_type": "stream",
     "text": [
      "Error at index 829 : This model's maximum context length is 8191 tokens, however you requested 136318 tokens (136318 in your prompt; 0 for the completion). Please reduce your prompt; or completion length.\n"
     ]
    },
    {
     "name": "stderr",
     "output_type": "stream",
     "text": [
      "813it [12:24,  3.51it/s]"
     ]
    },
    {
     "name": "stdout",
     "output_type": "stream",
     "text": [
      "Error at index 869 : This model's maximum context length is 8191 tokens, however you requested 88874 tokens (88874 in your prompt; 0 for the completion). Please reduce your prompt; or completion length.\n"
     ]
    },
    {
     "name": "stderr",
     "output_type": "stream",
     "text": [
      "825it [12:28,  3.39it/s]"
     ]
    },
    {
     "name": "stdout",
     "output_type": "stream",
     "text": [
      "Error at index 881 : This model's maximum context length is 8191 tokens, however you requested 8742 tokens (8742 in your prompt; 0 for the completion). Please reduce your prompt; or completion length.\n"
     ]
    },
    {
     "name": "stderr",
     "output_type": "stream",
     "text": [
      "829it [12:29,  3.19it/s]"
     ]
    },
    {
     "name": "stdout",
     "output_type": "stream",
     "text": [
      "Error at index 886 : This model's maximum context length is 8191 tokens, however you requested 59526 tokens (59526 in your prompt; 0 for the completion). Please reduce your prompt; or completion length.\n"
     ]
    },
    {
     "name": "stderr",
     "output_type": "stream",
     "text": [
      "884it [12:45,  2.39it/s]"
     ]
    },
    {
     "name": "stdout",
     "output_type": "stream",
     "text": [
      "Error at index 941 : This model's maximum context length is 8191 tokens, however you requested 100625 tokens (100625 in your prompt; 0 for the completion). Please reduce your prompt; or completion length.\n"
     ]
    },
    {
     "name": "stderr",
     "output_type": "stream",
     "text": [
      "892it [12:47,  2.71it/s]"
     ]
    },
    {
     "name": "stdout",
     "output_type": "stream",
     "text": [
      "Error at index 951 : This model's maximum context length is 8191 tokens, however you requested 136383 tokens (136383 in your prompt; 0 for the completion). Please reduce your prompt; or completion length.\n"
     ]
    },
    {
     "name": "stderr",
     "output_type": "stream",
     "text": [
      "899it [12:49,  3.74it/s]"
     ]
    },
    {
     "name": "stdout",
     "output_type": "stream",
     "text": [
      "Elapsed time: 49.77 seconds\n"
     ]
    },
    {
     "name": "stderr",
     "output_type": "stream",
     "text": [
      "915it [13:05,  2.84it/s]"
     ]
    },
    {
     "name": "stdout",
     "output_type": "stream",
     "text": [
      "Error at index 976 : This model's maximum context length is 8191 tokens, however you requested 84593 tokens (84593 in your prompt; 0 for the completion). Please reduce your prompt; or completion length.\n"
     ]
    },
    {
     "name": "stderr",
     "output_type": "stream",
     "text": [
      "950it [13:15,  1.68it/s]"
     ]
    },
    {
     "name": "stdout",
     "output_type": "stream",
     "text": [
      "Error at index 1012 : This model's maximum context length is 8191 tokens, however you requested 149916 tokens (149916 in your prompt; 0 for the completion). Please reduce your prompt; or completion length.\n"
     ]
    },
    {
     "name": "stderr",
     "output_type": "stream",
     "text": [
      "956it [13:17,  2.44it/s]"
     ]
    },
    {
     "name": "stdout",
     "output_type": "stream",
     "text": [
      "Error at index 1019 : This model's maximum context length is 8191 tokens, however you requested 140960 tokens (140960 in your prompt; 0 for the completion). Please reduce your prompt; or completion length.\n",
      "Elapsed time: 17.83 seconds\n"
     ]
    },
    {
     "name": "stderr",
     "output_type": "stream",
     "text": [
      "961it [14:01,  3.39s/it]"
     ]
    },
    {
     "name": "stdout",
     "output_type": "stream",
     "text": [
      "Error at index 1024 : This model's maximum context length is 8191 tokens, however you requested 99203 tokens (99203 in your prompt; 0 for the completion). Please reduce your prompt; or completion length.\n"
     ]
    },
    {
     "name": "stderr",
     "output_type": "stream",
     "text": [
      "1008it [14:14,  5.32it/s]"
     ]
    },
    {
     "name": "stdout",
     "output_type": "stream",
     "text": [
      "Error at index 1071 : This model's maximum context length is 8191 tokens, however you requested 10913 tokens (10913 in your prompt; 0 for the completion). Please reduce your prompt; or completion length.\n"
     ]
    },
    {
     "name": "stderr",
     "output_type": "stream",
     "text": [
      "1015it [14:16,  3.69it/s]"
     ]
    },
    {
     "name": "stdout",
     "output_type": "stream",
     "text": [
      "Error at index 1078 : This model's maximum context length is 8191 tokens, however you requested 22724 tokens (22724 in your prompt; 0 for the completion). Please reduce your prompt; or completion length.\n"
     ]
    },
    {
     "name": "stderr",
     "output_type": "stream",
     "text": [
      "\r\n",
      "1016it [14:16,  3.70it/s]"
     ]
    },
    {
     "name": "stdout",
     "output_type": "stream",
     "text": [
      "Elapsed time: 16.45 seconds\n"
     ]
    },
    {
     "name": "stderr",
     "output_type": "stream",
     "text": [
      "1070it [15:13,  3.70it/s]"
     ]
    },
    {
     "name": "stdout",
     "output_type": "stream",
     "text": [
      "Elapsed time: 13.46 seconds\n"
     ]
    },
    {
     "name": "stderr",
     "output_type": "stream",
     "text": [
      "1079it [16:02,  1.16s/it]"
     ]
    },
    {
     "name": "stdout",
     "output_type": "stream",
     "text": [
      "Error at index 1149 : This model's maximum context length is 8191 tokens, however you requested 24926 tokens (24926 in your prompt; 0 for the completion). Please reduce your prompt; or completion length.\n"
     ]
    },
    {
     "name": "stderr",
     "output_type": "stream",
     "text": [
      "1126it [16:17,  3.10it/s]"
     ]
    },
    {
     "name": "stdout",
     "output_type": "stream",
     "text": [
      "Elapsed time: 18.34 seconds\n"
     ]
    },
    {
     "name": "stderr",
     "output_type": "stream",
     "text": [
      "1180it [17:16,  3.61it/s]"
     ]
    },
    {
     "name": "stdout",
     "output_type": "stream",
     "text": [
      "Elapsed time: 17.03 seconds\n"
     ]
    },
    {
     "name": "stderr",
     "output_type": "stream",
     "text": [
      "1195it [18:04,  2.73it/s]"
     ]
    },
    {
     "name": "stdout",
     "output_type": "stream",
     "text": [
      "Error at index 1274 : This model's maximum context length is 8191 tokens, however you requested 21035 tokens (21035 in your prompt; 0 for the completion). Please reduce your prompt; or completion length.\n"
     ]
    },
    {
     "name": "stderr",
     "output_type": "stream",
     "text": [
      "1223it [18:14,  1.88it/s]"
     ]
    },
    {
     "name": "stdout",
     "output_type": "stream",
     "text": [
      "Error at index 1304 : This model's maximum context length is 8191 tokens, however you requested 144751 tokens (144751 in your prompt; 0 for the completion). Please reduce your prompt; or completion length.\n"
     ]
    },
    {
     "name": "stderr",
     "output_type": "stream",
     "text": [
      "\r\n",
      "1224it [18:14,  2.08it/s]"
     ]
    },
    {
     "name": "stdout",
     "output_type": "stream",
     "text": [
      "Error at index 1305 : This model's maximum context length is 8191 tokens, however you requested 55254 tokens (55254 in your prompt; 0 for the completion). Please reduce your prompt; or completion length.\n"
     ]
    },
    {
     "name": "stderr",
     "output_type": "stream",
     "text": [
      "1289it [18:35,  3.43it/s]"
     ]
    },
    {
     "name": "stdout",
     "output_type": "stream",
     "text": [
      "Elapsed time: 35.95 seconds\n"
     ]
    },
    {
     "name": "stderr",
     "output_type": "stream",
     "text": [
      "1308it [19:05,  2.68it/s]"
     ]
    },
    {
     "name": "stdout",
     "output_type": "stream",
     "text": [
      "Error at index 1401 : This model's maximum context length is 8191 tokens, however you requested 39507 tokens (39507 in your prompt; 0 for the completion). Please reduce your prompt; or completion length.\n"
     ]
    },
    {
     "name": "stderr",
     "output_type": "stream",
     "text": [
      "1319it [19:07,  3.33it/s]"
     ]
    },
    {
     "name": "stdout",
     "output_type": "stream",
     "text": [
      "Error at index 1414 : This model's maximum context length is 8191 tokens, however you requested 80083 tokens (80083 in your prompt; 0 for the completion). Please reduce your prompt; or completion length.\n"
     ]
    },
    {
     "name": "stderr",
     "output_type": "stream",
     "text": [
      "1334it [19:11,  3.47it/s]"
     ]
    },
    {
     "name": "stdout",
     "output_type": "stream",
     "text": [
      "Error at index 1431 : This model's maximum context length is 8191 tokens, however you requested 57522 tokens (57522 in your prompt; 0 for the completion). Please reduce your prompt; or completion length.\n"
     ]
    },
    {
     "name": "stderr",
     "output_type": "stream",
     "text": [
      "1342it [19:13,  3.70it/s]"
     ]
    },
    {
     "name": "stdout",
     "output_type": "stream",
     "text": [
      "Elapsed time: 14.09 seconds\n"
     ]
    },
    {
     "name": "stderr",
     "output_type": "stream",
     "text": [
      "1357it [20:04,  2.35it/s]"
     ]
    },
    {
     "name": "stdout",
     "output_type": "stream",
     "text": [
      "Error at index 1454 : This model's maximum context length is 8191 tokens, however you requested 23597 tokens (23597 in your prompt; 0 for the completion). Please reduce your prompt; or completion length.\n"
     ]
    },
    {
     "name": "stderr",
     "output_type": "stream",
     "text": [
      "1359it [20:04,  2.92it/s]"
     ]
    },
    {
     "name": "stdout",
     "output_type": "stream",
     "text": [
      "Error at index 1456 : This model's maximum context length is 8191 tokens, however you requested 20191 tokens (20191 in your prompt; 0 for the completion). Please reduce your prompt; or completion length.\n"
     ]
    },
    {
     "name": "stderr",
     "output_type": "stream",
     "text": [
      "1413it [20:19,  3.60it/s]"
     ]
    },
    {
     "name": "stdout",
     "output_type": "stream",
     "text": [
      "Error at index 1514 : This model's maximum context length is 8191 tokens, however you requested 32074 tokens (32074 in your prompt; 0 for the completion). Please reduce your prompt; or completion length.\n"
     ]
    },
    {
     "name": "stderr",
     "output_type": "stream",
     "text": [
      "1433it [20:25,  3.67it/s]"
     ]
    },
    {
     "name": "stdout",
     "output_type": "stream",
     "text": [
      "Error at index 1536 : This model's maximum context length is 8191 tokens, however you requested 8300 tokens (8300 in your prompt; 0 for the completion). Please reduce your prompt; or completion length.\n"
     ]
    },
    {
     "name": "stderr",
     "output_type": "stream",
     "text": [
      "1434it [20:25,  1.17it/s]"
     ]
    },
    {
     "name": "stdout",
     "output_type": "stream",
     "text": [
      "Wall time: 20min 25s\n"
     ]
    },
    {
     "name": "stderr",
     "output_type": "stream",
     "text": [
      "\n"
     ]
    }
   ],
   "source": [
    "%%time\n",
    "\n",
    "from tqdm import tqdm\n",
    "import time\n",
    "\n",
    "# get the current time\n",
    "start_time = time.time()\n",
    "\n",
    "vs = []\n",
    "# for i in tqdm(range(len(pdf_reader.pages))):\n",
    "#   c = cleaning(pdf_reader.pages[i].extract_text())\n",
    "#   v = get_embedding(c)\n",
    "#   vs.append(v)\n",
    "\n",
    "for index, row in tqdm(df.iterrows()):\n",
    "#     c = cleaning(pdf_reader.pages[i].extract_text())\n",
    "    if row['Text Length'] > 5000:\n",
    "        continue\n",
    "    text_ = row['Content']\n",
    "    try:\n",
    "        v = get_embedding(text_)\n",
    "        vs.append([index, v])\n",
    "    except Exception as e:\n",
    "        print(f\"Error at index {index} : {e}\")\n",
    "    \n",
    "    # Rate limit reached for default-global-with-image-limits \n",
    "    # in organization org-YG0bxUAg0HRKeyErXGv1N0FB on requests per min. Limit: 60 / min. \n",
    "    \n",
    "    # check running time every 60 iterations\n",
    "    if index % 60 == 0:\n",
    "        elapsed_time = time.time() - start_time\n",
    "        print(f\"Elapsed time: {elapsed_time:.2f} seconds\")\n",
    "    \n",
    "    # sleep until elapsed time reaches 60 seconds if it is less than 60 seconds\n",
    "        if elapsed_time < 60:\n",
    "            time.sleep(60 - elapsed_time)\n",
    "            start_time = time.time()\n",
    "\n",
    "    "
   ]
  },
  {
   "cell_type": "code",
   "execution_count": 74,
   "metadata": {},
   "outputs": [],
   "source": [
    "import pickle\n",
    "\n",
    "# export the variables to a file using pickle\n",
    "with open('Data 1 - data_UM_links_1319_vector.pkl', 'wb') as f:\n",
    "    pickle.dump(vs, f)"
   ]
  },
  {
   "cell_type": "code",
   "execution_count": 168,
   "metadata": {
    "scrolled": true
   },
   "outputs": [
    {
     "data": {
      "text/html": [
       "<div>\n",
       "<style scoped>\n",
       "    .dataframe tbody tr th:only-of-type {\n",
       "        vertical-align: middle;\n",
       "    }\n",
       "\n",
       "    .dataframe tbody tr th {\n",
       "        vertical-align: top;\n",
       "    }\n",
       "\n",
       "    .dataframe thead th {\n",
       "        text-align: right;\n",
       "    }\n",
       "</style>\n",
       "<table border=\"1\" class=\"dataframe\">\n",
       "  <thead>\n",
       "    <tr style=\"text-align: right;\">\n",
       "      <th></th>\n",
       "      <th>Link Index</th>\n",
       "      <th>Vector</th>\n",
       "      <th>Link</th>\n",
       "      <th>Content</th>\n",
       "    </tr>\n",
       "  </thead>\n",
       "  <tbody>\n",
       "    <tr>\n",
       "      <th>0</th>\n",
       "      <td>2</td>\n",
       "      <td>[-0.0023972473572939634, -0.013790316879749298, 0.01552066020667553, -0.06045716628432274, -0.008114264346659184, 0.02321544662117958, -0.03125105798244476, -0.02211431972682476, 0.007589917629957199, -0.02716115489602089, 0.008068383671343327, -0.007301527075469494, -0.006419969256967306, -0.01628096215426922, -0.01730343885719776, 0.013383948244154453, 0.015664855018258095, -0.01447196677327156, -0.0035360625479370356, -0.0010519704082980752, -0.022730426862835884, 0.003368927165865898, -0.009890488348901272, -0.003555725561454892, -0.011961657553911209, -0.012676079757511616, -0.0005669497768394649, -0.020515061914920807, -0.017526285722851753, -0.02739711105823517, 0.020292215049266815, -0.007983177900314331, -0.012453232891857624, 0.0002785591350402683, -0.0035622799769043922, 0.024998225271701813, 0.00438484875485301, -0.024709835648536682, 0.008730371482670307, -0.019479477778077126, 0.020751018077135086, 0.019243521615862846, 0.008389546535909176, -0.006187290418893099, 0.0014427725691348314, 0.02136712521314621, 0.00970041286200285, 0.00723598338663578, -0.0026151789352297783, 0.03282409906387329, -0.008527186699211597, 0.008022503927350044, -0.007688232697546482, -0.025509463623166084, 0.01337739359587431, -0.02228473126888275, -0.015035639517009258, 0.005354890134185553, 0.0018679848872125149, -0.009588989429175854, 0.017696699127554893, -0.016923287883400917, -0.028996368870139122, -0.027003850787878036, -0.004417620599269867, -0.010716333985328674, 0.004103012382984161, -0.013882077299058437, -0.018391458317637444, 0.005030450411140919, 0.018194828182458878, 0.007524374406784773, 0.003899828065186739, -0.015061857178807259, 0.025968266651034355, -0.011830571107566357, -0.021458886563777924, 0.00400797463953495, 0.006649370770901442, -0.009425130672752857, 0.003267335006967187, -0.016936395317316055, -0.018548762425780296, 0.001869623432867229, 0.009215392172336578, 0.0058825137093663216, 0.021118059754371643, 0.021681733429431915, -0.022743534296751022, -0.016294071450829506, 0.028629325330257416, 0.032404620200395584, 0.017093699425458908, -0.008389546535909176, 0.0021612911950796843, 0.019885845482349396, -0.031172407791018486, 0.03764808923006058, -0.01392140332609415, -0.004106289707124233, ...]</td>\n",
       "      <td>http://www.scopus.com/authid/detail.url?authorId=57861669300</td>\n",
       "      <td>Access denied Access denied Error code 1020 You do not have access to www.scopus.com.The site owner may have set restrictions that prevent you from accessing the site. Error details Provide the site owner this information. I got an error when visiting www.scopus.com/authid/detail.url?authorId=57861669300. Error code: 1020 Ray ID: 7a9a2989b9e84d75 Country: MY Data center: sin08 IP: 202.184.211.195 Timestamp: 2023-03-18 02:49:24 UTC Click to copy Was this page helpful? Yes No Thank you for your feedback! Performance &amp; security by Cloudflare</td>\n",
       "    </tr>\n",
       "    <tr>\n",
       "      <th>1</th>\n",
       "      <td>3</td>\n",
       "      <td>[-0.010756292380392551, -0.0037411751691251993, -0.008542736060917377, -0.04681605100631714, -0.00427799578756094, 0.022559715434908867, -0.01695292443037033, 0.0018473915988579392, -0.020730549469590187, -0.006557825952768326, 0.00731003750115633, 0.021896975114941597, -0.001069498946890235, -0.007323292084038258, -0.03695445880293846, -0.02193673886358738, 0.026814516633749008, -0.017178256064653397, -0.017549391835927963, -0.021181214600801468, -0.009119321592152119, -0.0023593592923134565, 0.001534246257506311, 0.021605368703603745, -0.0022649187594652176, 0.02735796384513378, 0.013771765865385532, -0.02751702256500721, 0.017297549173235893, 0.011339505203068256, -0.007389566395431757, 0.0004597768420353532, -0.02791466750204563, -0.0034561962820589542, -0.0034528826363384724, 0.009437437169253826, 0.0036251952406018972, -0.00833065900951624, 0.01218781340867281, -0.03284546360373497, 0.009026537649333477, 0.001973312348127365, 0.019166480749845505, 0.00017365894746035337, 0.012486047111451626, -2.4788079826976173e-05, 0.04930795729160309, 0.0029491991735994816, -0.029584774747490883, 0.03263338655233383, 0.012618595734238625, 0.02441539242863655, -0.006382199469953775, 0.011770286597311497, -0.004241544753313065, -0.019007422029972076, 0.007376311346888542, 0.029690813273191452, -0.01838444545865059, -0.011949227191507816, -0.00460605276748538, -0.018768835812807083, -0.03321659937500954, -0.0007174175116233528, 0.00449338648468256, 0.001351992366835475, -0.03533736988902092, 0.008715049363672733, -0.013002986088395119, -0.0054676164872944355, 0.00852948147803545, 0.005895084701478481, 0.020637765526771545, 0.011737150140106678, 0.04212384298443794, -0.010106805711984634, 0.00213899789378047, -0.005388087593019009, 0.016078105196356773, -0.0018954402767121792, 0.004768424201756716, 0.0022533207666128874, -0.029823360964655876, 0.0022135560866445303, 0.016886649653315544, 0.011816678568720818, 0.0253829937428236, 0.03122837282717228, 0.00819811038672924, -0.023726141080260277, -0.01629018224775791, 0.03804135322570801, 0.02497209422290325, -0.008887361735105515, -0.01833142712712288, -0.017695194110274315, -0.011690758168697357, 0.037802767008543015, 0.04265403375029564, -0.023527318611741066, ...]</td>\n",
       "      <td>http://resfom.um.edu.my/events/faculty-of-medicine-research-carnival</td>\n",
       "      <td>Research Office - Faculty of Medicine - Universiti Malaya Research Office - Faculty of Medicine - Universiti Malaya resfom@um.edu.my Menu Home About Research Office Research Services Research Management Unit Research Training Unit Internationalisation Unit Research Communication Unit Lab Services Research Centres Research Funding Publications Pulse@UM JUMMEC Closing date at UM level: 1 March 2023 (Wednesday) READ MORE Researchers Research Funding Lab Services Events LATEST NEWS View All News UPCOMING EVENTS View All Events Feb 28, 2023 Quantitative Methodology Workshop for Health Research 08.30 AM-04.00 PM Cube, Level 4, Faculty of Medicine Read More Feb 08, 2023 Research Dissertation For The Clinical Masters Candidate: The 3 Kinds of Studies Best For You 08.00 AM-01.00 PM Cube, Level 4, FOM Read More Dec 07, 2022 UMRC RESEARCH FLASH TALK COMPETITION 12.00 AM-12.00 AM Read More Dec 01, 2022 Free seminar: How to Communicate Your Research through Mass Media? 09.00 AM-12.00 PM Online via Zoom Read More Oct 11, 2022 Faculty of Medicine Research Carnival 12.00 AM-12.00 AM TJ Danaraj Read More Sep 15, 2022 XRGS Roadshow @ FOM 09.30 AM-01.00 PM Cube, Level 4, Faculty of Medicine, Universiti Malaya Read More About UM Vision &amp; Mission Our History UM Fact Sheet Career 50603 Kuala Lumpur, Malaysia Quick Links Academic Giving@UM Library Research &amp; Community Services (c) 2021 Universiti Malaya. All Rights Reserved | Privacy Policy | Site Credits | Disclaimer | Security Policy | Sitemap</td>\n",
       "    </tr>\n",
       "    <tr>\n",
       "      <th>2</th>\n",
       "      <td>4</td>\n",
       "      <td>[-0.009041134268045425, -0.009466676041483879, 0.0076597584411501884, -0.03935937583446503, -0.010913519188761711, 0.034252870827913284, -0.008379906415939331, 0.011031361296772957, -0.007240763399749994, -0.032629262655973434, -0.0026072640903294086, 0.007247310131788254, -0.003636748529970646, -0.01484814751893282, -0.010501070879399776, 0.008275157772004604, 0.022128190845251083, -0.012805544771254063, -0.005509133916348219, -0.026802608743309975, -0.03302207216620445, 0.0070181721821427345, -0.0016612510662525892, -0.004998483695089817, -0.005937949754297733, -0.008537029847502708, 0.0003676438645925373, -0.018684573471546173, 0.009571424685418606, -0.014010156504809856, 0.004808626137673855, 0.0008298071916215122, 0.0017038052901625633, -0.006775940302759409, -0.00951905082911253, 0.01576470024883747, -0.009165522642433643, -0.01534570474177599, 0.029251111671328545, -0.008897104300558567, 0.007548463065177202, 0.0013249091571196914, 0.0017381759826093912, 0.011280139908194542, -0.004749705083668232, 0.02904161438345909, 0.017964424565434456, -0.014245841652154922, -0.016799094155430794, 0.019025007262825966, 0.015502827242016792, 0.025270655751228333, 0.005505860783159733, 0.006854502018541098, -0.015817074105143547, -0.02549324743449688, -0.010409415699541569, 0.029591545462608337, -0.007397886365652084, -0.006854502018541098, 0.00484136026352644, -0.024210074916481972, -0.03495992347598076, 0.003977182321250439, -0.0029853417072445154, 0.01897263340651989, -0.018553636968135834, -0.0020180516876280308, -0.007450261153280735, -0.006098346319049597, 0.024760005995631218, 0.023424457758665085, 0.020177245140075684, -0.01632772386074066, 0.0353003591299057, 0.0013118154602125287, 0.005990324076265097, -0.012275254353880882, 0.011823524720966816, 4.761775562656112e-05, 0.006458420306444168, 0.016118226572871208, -0.024196980521082878, -0.01274662371724844, -0.0058953952975571156, 0.0032684910111129284, 0.022102003917098045, 0.021408043801784515, -0.003973908722400665, 0.004893734585493803, -0.0342266820371151, 0.028125062584877014, 0.014010156504809856, 0.012340722605586052, -0.03935937583446503, -0.01352569367736578, -0.02297927625477314, 0.02341136522591114, 0.011443810537457466, -0.016759812831878662, ...]</td>\n",
       "      <td>https://crice.um.edu.my/news/crice-international-webinar-2021-by-elizabeth-olsen</td>\n",
       "      <td>Welcome to Centre for Research in International and Comparative Education (CRICE) +603 7967 3896 crice@um.edu.my Home About Us About CRICE Organisational Chart What is International and Comparative Education? Webinars/Seminars 2021-2022 2019-2020 2017-2018 2015-2016 2013-2014 2011-2012 Contact Us Research and Publication Gallery Media Articles CRICE International Webinar 2021 by Elizabeth Olsen Contact Details Centre for Research in International and Comparative Education (CRICE)\\r Faculty of Education\\r Universiti Malaya\\r Kuala Lumpur 50603, Malaysia, Tel: +603 7967 3896 Fax: +603 7967 3884 Email: crice@um.edu.my GPS: 3.1204585, 101.6524242 About UM History UMique Media Centre UM Fact Sheet Resources Digital Resources UM Conference Others Nature@UM Treasure@UM UM Inclusive Policy Institutional Visitor Request Form (c) 2016 PTM Copyright * Sitemap</td>\n",
       "    </tr>\n",
       "    <tr>\n",
       "      <th>3</th>\n",
       "      <td>5</td>\n",
       "      <td>[0.005409944802522659, -0.014332104474306107, -0.006057863589376211, -0.03254464268684387, 0.002949269488453865, 0.0108482139185071, -0.014997726306319237, -0.012547672726213932, -0.022121291607618332, -0.03231804817914963, 0.0031156749464571476, 0.009849781170487404, 0.008228214457631111, 0.013177888467907906, 0.0017950535984709859, -0.027757830917835236, 0.028366804122924805, 0.00807243026793003, 0.002991755958646536, -0.018014267086982727, -0.04013555869460106, 0.005441809538751841, 0.002630620962008834, -0.009035457856953144, -0.01996864378452301, 0.0003195337194483727, 0.011995349079370499, -0.02884831838309765, -0.004308837000280619, -0.01690961793065071, -0.0020287293009459972, 0.0007262532017193735, -0.00764756603166461, -0.011400537565350533, -0.004432755522429943, 0.001259546959772706, -0.004609782714396715, -0.011195186525583267, 0.03815285488963127, -0.0019172022584825754, 0.02717718295753002, 0.021257400512695312, 0.005197512451559305, -0.011181024834513664, 0.007335998117923737, 0.024797940626740456, 0.00937534961849451, 0.003549391170963645, -0.020945832133293152, 0.03251631557941437, -0.006790755316615105, 0.03772799298167229, -0.01828334666788578, -0.01021091639995575, -0.0250245351344347, -0.020251886919140816, -0.007449295371770859, 0.02598756179213524, -0.029995452612638474, -0.028607560321688652, -0.007930808700621128, 0.011457186192274094, -0.04007890820503235, 0.016258157789707184, -0.00709878234192729, 0.0038521073292940855, -0.013192051090300083, 0.013878915458917618, 0.004815134219825268, -0.003986647818237543, 0.02951393835246563, 0.007626322563737631, 0.007654646877199411, -0.0045425123535096645, 0.029343992471694946, -0.012745942920446396, -0.01853826642036438, -0.001116155181080103, -0.002837742678821087, 0.008476052433252335, 0.01910475268959999, -0.02574680559337139, 0.004191998858004808, 0.014395834878087044, 0.00919124111533165, 0.010055133141577244, 0.02894745208323002, 0.013361996971070766, 0.0008740707417018712, -0.016314806416630745, -0.02355167083442211, 0.022234588861465454, 0.02339588664472103, 0.01950129307806492, -0.01802842877805233, 0.004988620523363352, -0.02845177799463272, 0.012207780964672565, 0.021129941567778587, -0.02047848142683506, ...]</td>\n",
       "      <td>https://umexpert.um.edu.my/onnchiuchuen</td>\n",
       "      <td>UMEXPERT - DR. ONN CHIU CHUEN Toggle navigation UMEXPERT DR. ONN CHIU CHUEN Login Login to Your Account Forgot Password Name Name Faculty Areas of Expertise Academy of Islamic StudiesAcademy of Malay StudiesAsia-Europe InstituteAssociate Vice-Chancellor (Corporate Strategy)Associate Vice-Chancellor (Global Engagement)Associate Vice-Chancellor (Infrastructure and Information Services)BursarCentre for Foundation Studies in ScienceDeputy Vice-Chancellor (Academic and International)Deputy Vice-Chancellor (Development)Deputy Vice-Chancellor (Research and Innovation)Deputy Vice-Chancellor (Student Affairs)Faculty of Arts and Social SciencesFaculty of Built EnvironmentFaculty of Business and EconomicsFaculty of Computer Science and Information TechnologyFaculty of Creative ArtsFaculty of DentistryFaculty of EducationFaculty of EngineeringFaculty of Languages and LinguisticsFaculty of LawFaculty of MedicineFaculty of PharmacyFaculty of ScienceFaculty of Sports and Exercise ScienceInstitute for Advanced Studies (Ias)Institute of Ocean and Earth SciencesIntegrity UnitInternal Audit SectionPhotonics Research CentreRegistrarTropical Infectious Diseases Research and Education CentreUniversiti Malaya Power Energy Dedicated Advanced CentreVice-Chancellor DR. ONN CHIU CHUEN Department of Civil Engineering Faculty of Engineering onnchiuchuen@um.edu.my View CV Publons Scopus Link Biography Dr. Onn Chiu Chuen is a senior lecturer and researcher at the Department of Civil Engineering Faculty of Engineering, University of Malaya. He holds a BSc. in Engineering (Environment), MSc and PhD in Environmental Engineering from the Department of Civil Engineering, University Malaya. Dr Onn is a Graduate Engineer registered with the Board of Engineers Malaysia (BEM) and Institution of Engineers Malaysia (IEM), Chartered Engineer with the Engineering Council United Kingdom. In line with his academic background, Onn's research interest is quite wide-ranging under Environmental Engineering. However, his main interests are Life Cycle Assessment, eco profile and environmental (carbon, water, etc) footprints and impacts measurement particularly within the context of waste (WTE, biogas), energy (biofuels) and transportation (energy, modelling). He is also involved with a few consultation projects with Unilever Foods (Malaysia) Sdn. Bhd., Daiki Axis Co. Ltd., Uber Malaysia, Malaysia Green Technology Corporation, Press Metal Aluminium Holdings Berhad, Panasonic R &amp; D Singapore, TNBR and Jabatan Audit Negara. He is actively working and collaborating with SIRIM's Environmental Technology Research Centre in developing the Malaysian Life Cycle Inventory Database (MYLCID). He is also being appointed as the technical expert for the development of Malaysia Climate Action Simulator for sub-sectors of transportation under Malaysian Green Technology and Climate Change Center due to his involvement in the development of Low Carbon Mobility Blueprint, 2021-2030 for the Ministry of Environment and Water (KASA). Close Latest Award Anugerah pameran \\r \\t\\t\\t\\t\\t\\tAnugerah pameran\\t\\t\\t\\t\\t Year 2022 Latest Evaluation Journal Reviewer for Journal of Oil Palm Research \\r \\t\\t\\t\\t\\t\\tReviewer\\t\\t\\t\\t\\t Year 2022 Statistics Publication Annual Publications by Category Publication WoS Indexed SCOPUS Indexed Book Chapter in Book Summary of Budget vs Expenditure per vote for all research grants Finance Budget Expenditure Last 5 Projects Grant Progress Status FP088-2022 new LL2022CE002 new IIRG002C-2020IISS on going GPF006A-2019 end RF004A-2018 end \\r \\t\\t\\t\\t\\t\\tThis information is generated from Research Grant Management System\\r \\t\\t\\t\\t\\t\\t View all projects Collaborator alexongzc alin arhamzah azli faridah_a faridahothman fauziahsh n_syuhadaa nurmaya rehan shaliza suhana_koting sumiani View all collaborators Latest Publication View All Article in Academic Journals Chapter in book Proceeding 2022 UTILISATION OF RECYCLED CONCRETE AGGREGATES FOR SUSTAINABLE POROUS ASPHALT PAVEMENTS 2022 Sustainable ternary cement blends with high-volume ground granulated blast furnace slag-fly ash 2022 Life cycle assessment on recycled e-waste concrete 2021 Analysis of biohydrogen production from palm oil mill effluent using a pilot-scale up-flow anaerobic sludge blanket fixed-film reactor in life cycle perspective 2022 Co-utilization of slag by-products from steel industries in sustainable concrete 2021 Applications of Recycled Concrete Aggregates in Flexible Pavements 2008 Formulation of life cycle impact assessment \\r (LCIA) in Malaysia paper C. Onn &amp; Sumiani Yussoff 2008 Normalization and weighting factor value for Life \\r Cycle Impact Assessment 2008 Application of GIS and LCA for Optimum Landfill \\r Siting \\r Decision Making A Case Study in Klang, Malaysia 2007 Enhancing Environmental Engineering Curricula \\r through Intensification of Field Course</td>\n",
       "    </tr>\n",
       "    <tr>\n",
       "      <th>4</th>\n",
       "      <td>7</td>\n",
       "      <td>[-0.0021048132330179214, -0.016321824863553047, 0.0028202177491039038, -0.032564159482717514, -0.03192824497818947, 0.031583789736032486, -0.012718304991722107, 0.0020037954673171043, 0.0005762981600128114, 0.0030570300295948982, -0.0018961535533890128, -0.03235218673944473, 0.006395584903657436, -0.005348974373191595, -0.021753599867224693, -0.012678559869527817, 0.0298085268586874, -0.02372758649289608, -0.002326721092686057, 0.0039016050286591053, -0.024270765483379364, -0.0042692432180047035, 0.02473445236682892, 0.0167855117470026, -0.01538120023906231, 0.0020336038433015347, 0.004060583654791117, -0.013990134932100773, -0.0021644302178174257, -0.004338796716183424, 0.012751425616443157, -0.016162846237421036, -0.011062275618314743, -0.012380475178360939, -0.007955564185976982, 0.02360835298895836, -0.0006764879799447954, -0.005395343527197838, 0.03672410547733307, -0.012705056928098202, -0.0007435571169480681, -0.012314233928918839, 0.007789961528033018, -0.013327723369002342, -0.011532587930560112, 0.03651213273406029, 0.02126341499388218, -0.005802726373076439, -0.030338456854224205, 0.043454207479953766, 0.021687358617782593, 0.017235953360795975, -0.008651097305119038, -0.002045196248218417, -0.007498500403016806, -0.008611352182924747, 0.0010639987885951996, 0.04186442121863365, -0.01297002099454403, -0.018706506118178368, -0.0044613429345190525, -0.020468521863222122, -0.039691708981990814, 0.030682910233736038, 0.0014871142338961363, 0.007531621027737856, -0.03100086748600006, 0.014453823678195477, -0.0001387959491694346, -0.006915578152984381, 0.029543561860919, 0.027980269864201546, -0.006408833432942629, -0.023528864607214928, 0.044673044234514236, -0.013910645619034767, -0.013831156305968761, -0.015169228427112103, 0.011519339866936207, 0.01564616523683071, 0.017447924241423607, -0.010373366996645927, -0.02874866873025894, -0.014387582428753376, -0.002571813529357314, 0.01779237762093544, 0.022614736109972, 0.02970254048705101, -0.0067102303728461266, -0.017090221866965294, -0.02151513285934925, 0.022853203117847443, 0.011883665807545185, 0.009386373683810234, -0.01670602336525917, 0.003484285669401288, -0.02715888060629368, 0.01674576848745346, 0.026496468111872673, -0.01764664798974991, ...]</td>\n",
       "      <td>https://ias.um.edu.my/organizational-chart</td>\n",
       "      <td>Institute for Advanced Studies Institute for Advanced Studies ias.um@um.edu.my 03 7967 4600 / 4601 Menu Home ABOUT US Introduction / Core Function IAS HICoE UMCoE Organisational Chart Meet Our Team IAS Management Administration Staff IAS Board Members IAS Academic Advisory Committee IAS Honorary Professors UM Journal Club @ IAS Our Aims The Evolution I 1979-2018 ACADEMIC Master Doctoral PG HandBook (Research) FAQ Downloadable Form Prospective Students Schedule Class &amp; Academic Calendar Seminar Calendar FACILITIES IAS Facilities / Rooms Thesis Hub Cubicle Space booking @ UMPoint GALLERY Viva Voce Viva MPhil Viva PhD News Video Collection Photo Gallery EVENTS Upcoming Events Welcoming Sessions Webinar Series Past Events UM PLANETARY HEALTH UMPH in Brief UMPH Pledge 2022 UMPH Awareness Month UMPH Activities UMPH Speakers UMPH Main Committee National Planetary Health Planetary Health Alliance (USA) UMEXPERT Organisational Chart Home Organisational Chart Last Update: 29/12/2022 About UM Vision &amp; Mission Our History UM Fact Sheet Career 50603 Kuala Lumpur, Malaysia Quick Links Academic Giving@UM Library Research &amp; Community Services (c) 2021 Universiti Malaya. All Rights Reserved | Privacy Policy | Site Credits | Disclaimer | Security Policy | Sitemap</td>\n",
       "    </tr>\n",
       "  </tbody>\n",
       "</table>\n",
       "</div>"
      ],
      "text/plain": [
       "   Link Index  \\\n",
       "0           2   \n",
       "1           3   \n",
       "2           4   \n",
       "3           5   \n",
       "4           7   \n",
       "\n",
       "                                                                                                                                                                                                                                                                                                                                                                                                                                                                                                                                                                                                                                                                                                                                                                                                                                                                                                                                                                                                                                                                                                                                                                                                                                                                                                                                                                                                                                                                                                                                                                                                                                                                                                                                                                                                                                                                                                                                                                                                                                                                                                                                                                                                                                                                                                                                        Vector  \\\n",
       "0  [-0.0023972473572939634, -0.013790316879749298, 0.01552066020667553, -0.06045716628432274, -0.008114264346659184, 0.02321544662117958, -0.03125105798244476, -0.02211431972682476, 0.007589917629957199, -0.02716115489602089, 0.008068383671343327, -0.007301527075469494, -0.006419969256967306, -0.01628096215426922, -0.01730343885719776, 0.013383948244154453, 0.015664855018258095, -0.01447196677327156, -0.0035360625479370356, -0.0010519704082980752, -0.022730426862835884, 0.003368927165865898, -0.009890488348901272, -0.003555725561454892, -0.011961657553911209, -0.012676079757511616, -0.0005669497768394649, -0.020515061914920807, -0.017526285722851753, -0.02739711105823517, 0.020292215049266815, -0.007983177900314331, -0.012453232891857624, 0.0002785591350402683, -0.0035622799769043922, 0.024998225271701813, 0.00438484875485301, -0.024709835648536682, 0.008730371482670307, -0.019479477778077126, 0.020751018077135086, 0.019243521615862846, 0.008389546535909176, -0.006187290418893099, 0.0014427725691348314, 0.02136712521314621, 0.00970041286200285, 0.00723598338663578, -0.0026151789352297783, 0.03282409906387329, -0.008527186699211597, 0.008022503927350044, -0.007688232697546482, -0.025509463623166084, 0.01337739359587431, -0.02228473126888275, -0.015035639517009258, 0.005354890134185553, 0.0018679848872125149, -0.009588989429175854, 0.017696699127554893, -0.016923287883400917, -0.028996368870139122, -0.027003850787878036, -0.004417620599269867, -0.010716333985328674, 0.004103012382984161, -0.013882077299058437, -0.018391458317637444, 0.005030450411140919, 0.018194828182458878, 0.007524374406784773, 0.003899828065186739, -0.015061857178807259, 0.025968266651034355, -0.011830571107566357, -0.021458886563777924, 0.00400797463953495, 0.006649370770901442, -0.009425130672752857, 0.003267335006967187, -0.016936395317316055, -0.018548762425780296, 0.001869623432867229, 0.009215392172336578, 0.0058825137093663216, 0.021118059754371643, 0.021681733429431915, -0.022743534296751022, -0.016294071450829506, 0.028629325330257416, 0.032404620200395584, 0.017093699425458908, -0.008389546535909176, 0.0021612911950796843, 0.019885845482349396, -0.031172407791018486, 0.03764808923006058, -0.01392140332609415, -0.004106289707124233, ...]   \n",
       "1            [-0.010756292380392551, -0.0037411751691251993, -0.008542736060917377, -0.04681605100631714, -0.00427799578756094, 0.022559715434908867, -0.01695292443037033, 0.0018473915988579392, -0.020730549469590187, -0.006557825952768326, 0.00731003750115633, 0.021896975114941597, -0.001069498946890235, -0.007323292084038258, -0.03695445880293846, -0.02193673886358738, 0.026814516633749008, -0.017178256064653397, -0.017549391835927963, -0.021181214600801468, -0.009119321592152119, -0.0023593592923134565, 0.001534246257506311, 0.021605368703603745, -0.0022649187594652176, 0.02735796384513378, 0.013771765865385532, -0.02751702256500721, 0.017297549173235893, 0.011339505203068256, -0.007389566395431757, 0.0004597768420353532, -0.02791466750204563, -0.0034561962820589542, -0.0034528826363384724, 0.009437437169253826, 0.0036251952406018972, -0.00833065900951624, 0.01218781340867281, -0.03284546360373497, 0.009026537649333477, 0.001973312348127365, 0.019166480749845505, 0.00017365894746035337, 0.012486047111451626, -2.4788079826976173e-05, 0.04930795729160309, 0.0029491991735994816, -0.029584774747490883, 0.03263338655233383, 0.012618595734238625, 0.02441539242863655, -0.006382199469953775, 0.011770286597311497, -0.004241544753313065, -0.019007422029972076, 0.007376311346888542, 0.029690813273191452, -0.01838444545865059, -0.011949227191507816, -0.00460605276748538, -0.018768835812807083, -0.03321659937500954, -0.0007174175116233528, 0.00449338648468256, 0.001351992366835475, -0.03533736988902092, 0.008715049363672733, -0.013002986088395119, -0.0054676164872944355, 0.00852948147803545, 0.005895084701478481, 0.020637765526771545, 0.011737150140106678, 0.04212384298443794, -0.010106805711984634, 0.00213899789378047, -0.005388087593019009, 0.016078105196356773, -0.0018954402767121792, 0.004768424201756716, 0.0022533207666128874, -0.029823360964655876, 0.0022135560866445303, 0.016886649653315544, 0.011816678568720818, 0.0253829937428236, 0.03122837282717228, 0.00819811038672924, -0.023726141080260277, -0.01629018224775791, 0.03804135322570801, 0.02497209422290325, -0.008887361735105515, -0.01833142712712288, -0.017695194110274315, -0.011690758168697357, 0.037802767008543015, 0.04265403375029564, -0.023527318611741066, ...]   \n",
       "2  [-0.009041134268045425, -0.009466676041483879, 0.0076597584411501884, -0.03935937583446503, -0.010913519188761711, 0.034252870827913284, -0.008379906415939331, 0.011031361296772957, -0.007240763399749994, -0.032629262655973434, -0.0026072640903294086, 0.007247310131788254, -0.003636748529970646, -0.01484814751893282, -0.010501070879399776, 0.008275157772004604, 0.022128190845251083, -0.012805544771254063, -0.005509133916348219, -0.026802608743309975, -0.03302207216620445, 0.0070181721821427345, -0.0016612510662525892, -0.004998483695089817, -0.005937949754297733, -0.008537029847502708, 0.0003676438645925373, -0.018684573471546173, 0.009571424685418606, -0.014010156504809856, 0.004808626137673855, 0.0008298071916215122, 0.0017038052901625633, -0.006775940302759409, -0.00951905082911253, 0.01576470024883747, -0.009165522642433643, -0.01534570474177599, 0.029251111671328545, -0.008897104300558567, 0.007548463065177202, 0.0013249091571196914, 0.0017381759826093912, 0.011280139908194542, -0.004749705083668232, 0.02904161438345909, 0.017964424565434456, -0.014245841652154922, -0.016799094155430794, 0.019025007262825966, 0.015502827242016792, 0.025270655751228333, 0.005505860783159733, 0.006854502018541098, -0.015817074105143547, -0.02549324743449688, -0.010409415699541569, 0.029591545462608337, -0.007397886365652084, -0.006854502018541098, 0.00484136026352644, -0.024210074916481972, -0.03495992347598076, 0.003977182321250439, -0.0029853417072445154, 0.01897263340651989, -0.018553636968135834, -0.0020180516876280308, -0.007450261153280735, -0.006098346319049597, 0.024760005995631218, 0.023424457758665085, 0.020177245140075684, -0.01632772386074066, 0.0353003591299057, 0.0013118154602125287, 0.005990324076265097, -0.012275254353880882, 0.011823524720966816, 4.761775562656112e-05, 0.006458420306444168, 0.016118226572871208, -0.024196980521082878, -0.01274662371724844, -0.0058953952975571156, 0.0032684910111129284, 0.022102003917098045, 0.021408043801784515, -0.003973908722400665, 0.004893734585493803, -0.0342266820371151, 0.028125062584877014, 0.014010156504809856, 0.012340722605586052, -0.03935937583446503, -0.01352569367736578, -0.02297927625477314, 0.02341136522591114, 0.011443810537457466, -0.016759812831878662, ...]   \n",
       "3                         [0.005409944802522659, -0.014332104474306107, -0.006057863589376211, -0.03254464268684387, 0.002949269488453865, 0.0108482139185071, -0.014997726306319237, -0.012547672726213932, -0.022121291607618332, -0.03231804817914963, 0.0031156749464571476, 0.009849781170487404, 0.008228214457631111, 0.013177888467907906, 0.0017950535984709859, -0.027757830917835236, 0.028366804122924805, 0.00807243026793003, 0.002991755958646536, -0.018014267086982727, -0.04013555869460106, 0.005441809538751841, 0.002630620962008834, -0.009035457856953144, -0.01996864378452301, 0.0003195337194483727, 0.011995349079370499, -0.02884831838309765, -0.004308837000280619, -0.01690961793065071, -0.0020287293009459972, 0.0007262532017193735, -0.00764756603166461, -0.011400537565350533, -0.004432755522429943, 0.001259546959772706, -0.004609782714396715, -0.011195186525583267, 0.03815285488963127, -0.0019172022584825754, 0.02717718295753002, 0.021257400512695312, 0.005197512451559305, -0.011181024834513664, 0.007335998117923737, 0.024797940626740456, 0.00937534961849451, 0.003549391170963645, -0.020945832133293152, 0.03251631557941437, -0.006790755316615105, 0.03772799298167229, -0.01828334666788578, -0.01021091639995575, -0.0250245351344347, -0.020251886919140816, -0.007449295371770859, 0.02598756179213524, -0.029995452612638474, -0.028607560321688652, -0.007930808700621128, 0.011457186192274094, -0.04007890820503235, 0.016258157789707184, -0.00709878234192729, 0.0038521073292940855, -0.013192051090300083, 0.013878915458917618, 0.004815134219825268, -0.003986647818237543, 0.02951393835246563, 0.007626322563737631, 0.007654646877199411, -0.0045425123535096645, 0.029343992471694946, -0.012745942920446396, -0.01853826642036438, -0.001116155181080103, -0.002837742678821087, 0.008476052433252335, 0.01910475268959999, -0.02574680559337139, 0.004191998858004808, 0.014395834878087044, 0.00919124111533165, 0.010055133141577244, 0.02894745208323002, 0.013361996971070766, 0.0008740707417018712, -0.016314806416630745, -0.02355167083442211, 0.022234588861465454, 0.02339588664472103, 0.01950129307806492, -0.01802842877805233, 0.004988620523363352, -0.02845177799463272, 0.012207780964672565, 0.021129941567778587, -0.02047848142683506, ...]   \n",
       "4    [-0.0021048132330179214, -0.016321824863553047, 0.0028202177491039038, -0.032564159482717514, -0.03192824497818947, 0.031583789736032486, -0.012718304991722107, 0.0020037954673171043, 0.0005762981600128114, 0.0030570300295948982, -0.0018961535533890128, -0.03235218673944473, 0.006395584903657436, -0.005348974373191595, -0.021753599867224693, -0.012678559869527817, 0.0298085268586874, -0.02372758649289608, -0.002326721092686057, 0.0039016050286591053, -0.024270765483379364, -0.0042692432180047035, 0.02473445236682892, 0.0167855117470026, -0.01538120023906231, 0.0020336038433015347, 0.004060583654791117, -0.013990134932100773, -0.0021644302178174257, -0.004338796716183424, 0.012751425616443157, -0.016162846237421036, -0.011062275618314743, -0.012380475178360939, -0.007955564185976982, 0.02360835298895836, -0.0006764879799447954, -0.005395343527197838, 0.03672410547733307, -0.012705056928098202, -0.0007435571169480681, -0.012314233928918839, 0.007789961528033018, -0.013327723369002342, -0.011532587930560112, 0.03651213273406029, 0.02126341499388218, -0.005802726373076439, -0.030338456854224205, 0.043454207479953766, 0.021687358617782593, 0.017235953360795975, -0.008651097305119038, -0.002045196248218417, -0.007498500403016806, -0.008611352182924747, 0.0010639987885951996, 0.04186442121863365, -0.01297002099454403, -0.018706506118178368, -0.0044613429345190525, -0.020468521863222122, -0.039691708981990814, 0.030682910233736038, 0.0014871142338961363, 0.007531621027737856, -0.03100086748600006, 0.014453823678195477, -0.0001387959491694346, -0.006915578152984381, 0.029543561860919, 0.027980269864201546, -0.006408833432942629, -0.023528864607214928, 0.044673044234514236, -0.013910645619034767, -0.013831156305968761, -0.015169228427112103, 0.011519339866936207, 0.01564616523683071, 0.017447924241423607, -0.010373366996645927, -0.02874866873025894, -0.014387582428753376, -0.002571813529357314, 0.01779237762093544, 0.022614736109972, 0.02970254048705101, -0.0067102303728461266, -0.017090221866965294, -0.02151513285934925, 0.022853203117847443, 0.011883665807545185, 0.009386373683810234, -0.01670602336525917, 0.003484285669401288, -0.02715888060629368, 0.01674576848745346, 0.026496468111872673, -0.01764664798974991, ...]   \n",
       "\n",
       "                                                                               Link  \\\n",
       "0                      http://www.scopus.com/authid/detail.url?authorId=57861669300   \n",
       "1              http://resfom.um.edu.my/events/faculty-of-medicine-research-carnival   \n",
       "2  https://crice.um.edu.my/news/crice-international-webinar-2021-by-elizabeth-olsen   \n",
       "3                                           https://umexpert.um.edu.my/onnchiuchuen   \n",
       "4                                        https://ias.um.edu.my/organizational-chart   \n",
       "\n",
       "                                                                                                                                                                                                                                                                                                                                                                                                                                                                                                                                                                                                                                                                                                                                                                                                                                                                                                                                                                                                                                                                                                                                                                                                                                                                                                                                                                                                                                                                                                                                                                                                                                                                                                                                                                                                                                                                                                                                                                                                                                                                                                                                                                                                                                                                                                                                                                                                                                                                                                                                                                                                                                                                                                                                                                                                                                                                                                                                                                                                                                                                                                                                                                                                                                                                                                                                                                                                                                                                                                                                                                                                                                                                                                                                                                                                                                                                                                                                                                                                                                                                                                                                                                                                                                                                                                                                                                                                                                                                                                                                                                                                                                                                                                                                                                                                                                                                                                                                                                                                                                                                Content  \n",
       "0                                                                                                                                                                                                                                                                                                                                                                                                                                                                                                                                                                                                                                                                                                                                                                                                                                                                                                                                                                                                                                                                                                                                                                                                                                                                                                                                                                                                                                                                                                                                                                                                                                                                                                                                                                                                                                                                                                                                                                                                                                                                                                                                                                                                                                                                                                                                                                                                                                                                                                                                                                                                                                                                                                                                                                                                                                                                                                                                                                                                                                                                                                                                                                                                                                                                                                                                                                                                                                                                                                                                                                                                                                                                                                                                                                                                                                                                                                                                                                                                                                                                                                                                                                                                                                                                                                                                                                                                                                                                                                      Access denied Access denied Error code 1020 You do not have access to www.scopus.com.The site owner may have set restrictions that prevent you from accessing the site. Error details Provide the site owner this information. I got an error when visiting www.scopus.com/authid/detail.url?authorId=57861669300. Error code: 1020 Ray ID: 7a9a2989b9e84d75 Country: MY Data center: sin08 IP: 202.184.211.195 Timestamp: 2023-03-18 02:49:24 UTC Click to copy Was this page helpful? Yes No Thank you for your feedback! Performance & security by Cloudflare  \n",
       "1                                                                                                                                                                                                                                                                                                                                                                                                                                                                                                                                                                                                                                                                                                                                                                                                                                                                                                                                                                                                                                                                                                                                                                                                                                                                                                                                                                                                                                                                                                                                                                                                                                                                                                                                                                                                                                                                                                                                                                                                                                                                                                                                                                                                                                                                                                                                                                                                                                                                                                                                                                                                                                                                                                                                                                                                                                                                                                                                                                                                                                                                                                                                                                                                                                                                                                                                                                                                                                                                                                             Research Office - Faculty of Medicine - Universiti Malaya Research Office - Faculty of Medicine - Universiti Malaya resfom@um.edu.my Menu Home About Research Office Research Services Research Management Unit Research Training Unit Internationalisation Unit Research Communication Unit Lab Services Research Centres Research Funding Publications Pulse@UM JUMMEC Closing date at UM level: 1 March 2023 (Wednesday) READ MORE Researchers Research Funding Lab Services Events LATEST NEWS View All News UPCOMING EVENTS View All Events Feb 28, 2023 Quantitative Methodology Workshop for Health Research 08.30 AM-04.00 PM Cube, Level 4, Faculty of Medicine Read More Feb 08, 2023 Research Dissertation For The Clinical Masters Candidate: The 3 Kinds of Studies Best For You 08.00 AM-01.00 PM Cube, Level 4, FOM Read More Dec 07, 2022 UMRC RESEARCH FLASH TALK COMPETITION 12.00 AM-12.00 AM Read More Dec 01, 2022 Free seminar: How to Communicate Your Research through Mass Media? 09.00 AM-12.00 PM Online via Zoom Read More Oct 11, 2022 Faculty of Medicine Research Carnival 12.00 AM-12.00 AM TJ Danaraj Read More Sep 15, 2022 XRGS Roadshow @ FOM 09.30 AM-01.00 PM Cube, Level 4, Faculty of Medicine, Universiti Malaya Read More About UM Vision & Mission Our History UM Fact Sheet Career 50603 Kuala Lumpur, Malaysia Quick Links Academic Giving@UM Library Research & Community Services (c) 2021 Universiti Malaya. All Rights Reserved | Privacy Policy | Site Credits | Disclaimer | Security Policy | Sitemap  \n",
       "2                                                                                                                                                                                                                                                                                                                                                                                                                                                                                                                                                                                                                                                                                                                                                                                                                                                                                                                                                                                                                                                                                                                                                                                                                                                                                                                                                                                                                                                                                                                                                                                                                                                                                                                                                                                                                                                                                                                                                                                                                                                                                                                                                                                                                                                                                                                                                                                                                                                                                                                                                                                                                                                                                                                                                                                                                                                                                                                                                                                                                                                                                                                                                                                                                                                                                                                                                                                                                                                                                                                                                                                                                                                                                                                                                                                                                                                                                                                                                                                                                                                                                                                                                                          Welcome to Centre for Research in International and Comparative Education (CRICE) +603 7967 3896 crice@um.edu.my Home About Us About CRICE Organisational Chart What is International and Comparative Education? Webinars/Seminars 2021-2022 2019-2020 2017-2018 2015-2016 2013-2014 2011-2012 Contact Us Research and Publication Gallery Media Articles CRICE International Webinar 2021 by Elizabeth Olsen Contact Details Centre for Research in International and Comparative Education (CRICE)\\r Faculty of Education\\r Universiti Malaya\\r Kuala Lumpur 50603, Malaysia, Tel: +603 7967 3896 Fax: +603 7967 3884 Email: crice@um.edu.my GPS: 3.1204585, 101.6524242 About UM History UMique Media Centre UM Fact Sheet Resources Digital Resources UM Conference Others Nature@UM Treasure@UM UM Inclusive Policy Institutional Visitor Request Form (c) 2016 PTM Copyright * Sitemap  \n",
       "3  UMEXPERT - DR. ONN CHIU CHUEN Toggle navigation UMEXPERT DR. ONN CHIU CHUEN Login Login to Your Account Forgot Password Name Name Faculty Areas of Expertise Academy of Islamic StudiesAcademy of Malay StudiesAsia-Europe InstituteAssociate Vice-Chancellor (Corporate Strategy)Associate Vice-Chancellor (Global Engagement)Associate Vice-Chancellor (Infrastructure and Information Services)BursarCentre for Foundation Studies in ScienceDeputy Vice-Chancellor (Academic and International)Deputy Vice-Chancellor (Development)Deputy Vice-Chancellor (Research and Innovation)Deputy Vice-Chancellor (Student Affairs)Faculty of Arts and Social SciencesFaculty of Built EnvironmentFaculty of Business and EconomicsFaculty of Computer Science and Information TechnologyFaculty of Creative ArtsFaculty of DentistryFaculty of EducationFaculty of EngineeringFaculty of Languages and LinguisticsFaculty of LawFaculty of MedicineFaculty of PharmacyFaculty of ScienceFaculty of Sports and Exercise ScienceInstitute for Advanced Studies (Ias)Institute of Ocean and Earth SciencesIntegrity UnitInternal Audit SectionPhotonics Research CentreRegistrarTropical Infectious Diseases Research and Education CentreUniversiti Malaya Power Energy Dedicated Advanced CentreVice-Chancellor DR. ONN CHIU CHUEN Department of Civil Engineering Faculty of Engineering onnchiuchuen@um.edu.my View CV Publons Scopus Link Biography Dr. Onn Chiu Chuen is a senior lecturer and researcher at the Department of Civil Engineering Faculty of Engineering, University of Malaya. He holds a BSc. in Engineering (Environment), MSc and PhD in Environmental Engineering from the Department of Civil Engineering, University Malaya. Dr Onn is a Graduate Engineer registered with the Board of Engineers Malaysia (BEM) and Institution of Engineers Malaysia (IEM), Chartered Engineer with the Engineering Council United Kingdom. In line with his academic background, Onn's research interest is quite wide-ranging under Environmental Engineering. However, his main interests are Life Cycle Assessment, eco profile and environmental (carbon, water, etc) footprints and impacts measurement particularly within the context of waste (WTE, biogas), energy (biofuels) and transportation (energy, modelling). He is also involved with a few consultation projects with Unilever Foods (Malaysia) Sdn. Bhd., Daiki Axis Co. Ltd., Uber Malaysia, Malaysia Green Technology Corporation, Press Metal Aluminium Holdings Berhad, Panasonic R & D Singapore, TNBR and Jabatan Audit Negara. He is actively working and collaborating with SIRIM's Environmental Technology Research Centre in developing the Malaysian Life Cycle Inventory Database (MYLCID). He is also being appointed as the technical expert for the development of Malaysia Climate Action Simulator for sub-sectors of transportation under Malaysian Green Technology and Climate Change Center due to his involvement in the development of Low Carbon Mobility Blueprint, 2021-2030 for the Ministry of Environment and Water (KASA). Close Latest Award Anugerah pameran \\r \\t\\t\\t\\t\\t\\tAnugerah pameran\\t\\t\\t\\t\\t Year 2022 Latest Evaluation Journal Reviewer for Journal of Oil Palm Research \\r \\t\\t\\t\\t\\t\\tReviewer\\t\\t\\t\\t\\t Year 2022 Statistics Publication Annual Publications by Category Publication WoS Indexed SCOPUS Indexed Book Chapter in Book Summary of Budget vs Expenditure per vote for all research grants Finance Budget Expenditure Last 5 Projects Grant Progress Status FP088-2022 new LL2022CE002 new IIRG002C-2020IISS on going GPF006A-2019 end RF004A-2018 end \\r \\t\\t\\t\\t\\t\\tThis information is generated from Research Grant Management System\\r \\t\\t\\t\\t\\t\\t View all projects Collaborator alexongzc alin arhamzah azli faridah_a faridahothman fauziahsh n_syuhadaa nurmaya rehan shaliza suhana_koting sumiani View all collaborators Latest Publication View All Article in Academic Journals Chapter in book Proceeding 2022 UTILISATION OF RECYCLED CONCRETE AGGREGATES FOR SUSTAINABLE POROUS ASPHALT PAVEMENTS 2022 Sustainable ternary cement blends with high-volume ground granulated blast furnace slag-fly ash 2022 Life cycle assessment on recycled e-waste concrete 2021 Analysis of biohydrogen production from palm oil mill effluent using a pilot-scale up-flow anaerobic sludge blanket fixed-film reactor in life cycle perspective 2022 Co-utilization of slag by-products from steel industries in sustainable concrete 2021 Applications of Recycled Concrete Aggregates in Flexible Pavements 2008 Formulation of life cycle impact assessment \\r (LCIA) in Malaysia paper C. Onn & Sumiani Yussoff 2008 Normalization and weighting factor value for Life \\r Cycle Impact Assessment 2008 Application of GIS and LCA for Optimum Landfill \\r Siting \\r Decision Making A Case Study in Klang, Malaysia 2007 Enhancing Environmental Engineering Curricula \\r through Intensification of Field Course  \n",
       "4                                                                                                                                                                                                                                                                                                                                                                                                                                                                                                                                                                                                                                                                                                                                                                                                                                                                                                                                                                                                                                                                                                                                                                                                                                                                                                                                                                                                                                                                                                                                                                                                                                                                                                                                                                                                                                                                                                                                                                                                                                                                                                                                                                                                                                                                                                                                                                                                                                                                                                                                                                                                                                                                                                                                                                                                                                                                                                                                                                                                                                                                                                                                                                                                                                                                                                                                                                                                                                                                                                                                                                                                                                                                                                                                                     Institute for Advanced Studies Institute for Advanced Studies ias.um@um.edu.my 03 7967 4600 / 4601 Menu Home ABOUT US Introduction / Core Function IAS HICoE UMCoE Organisational Chart Meet Our Team IAS Management Administration Staff IAS Board Members IAS Academic Advisory Committee IAS Honorary Professors UM Journal Club @ IAS Our Aims The Evolution I 1979-2018 ACADEMIC Master Doctoral PG HandBook (Research) FAQ Downloadable Form Prospective Students Schedule Class & Academic Calendar Seminar Calendar FACILITIES IAS Facilities / Rooms Thesis Hub Cubicle Space booking @ UMPoint GALLERY Viva Voce Viva MPhil Viva PhD News Video Collection Photo Gallery EVENTS Upcoming Events Welcoming Sessions Webinar Series Past Events UM PLANETARY HEALTH UMPH in Brief UMPH Pledge 2022 UMPH Awareness Month UMPH Activities UMPH Speakers UMPH Main Committee National Planetary Health Planetary Health Alliance (USA) UMEXPERT Organisational Chart Home Organisational Chart Last Update: 29/12/2022 About UM Vision & Mission Our History UM Fact Sheet Career 50603 Kuala Lumpur, Malaysia Quick Links Academic Giving@UM Library Research & Community Services (c) 2021 Universiti Malaya. All Rights Reserved | Privacy Policy | Site Credits | Disclaimer | Security Policy | Sitemap  "
      ]
     },
     "execution_count": 168,
     "metadata": {},
     "output_type": "execute_result"
    }
   ],
   "source": [
    "df_vector = pd.DataFrame(vs, columns = ['Link Index', 'Vector'])\n",
    "df_vector[\"Link\"] = df_vector['Link Index'].apply(lambda index_ : df.loc[index_, \"Link\"])\n",
    "df_vector[\"Content\"] = df_vector['Link Index'].apply(lambda index_ : df.loc[index_, \"Content\"])\n",
    "df_vector.head()"
   ]
  },
  {
   "cell_type": "code",
   "execution_count": 202,
   "metadata": {},
   "outputs": [],
   "source": [
    "array_only_vs = []\n",
    "for each in df_vector['Vector'].values:\n",
    "    vs_ = each\n",
    "    array_only_vs.append(vs_)"
   ]
  },
  {
   "cell_type": "code",
   "execution_count": 203,
   "metadata": {
    "id": "WhNT90pkW3KU"
   },
   "outputs": [],
   "source": [
    "vs_np = np.array(array_only_vs)"
   ]
  },
  {
   "cell_type": "code",
   "execution_count": 204,
   "metadata": {
    "id": "k5gzfvYnXRtw"
   },
   "outputs": [],
   "source": [
    "from sklearn.metrics.pairwise import cosine_similarity"
   ]
  },
  {
   "cell_type": "code",
   "execution_count": 224,
   "metadata": {
    "id": "2fvNHclkX_-d"
   },
   "outputs": [],
   "source": [
    "q = 'Website mana untuk saya tahu'\n",
    "q_v = get_embedding(q)"
   ]
  },
  {
   "cell_type": "code",
   "execution_count": 225,
   "metadata": {
    "id": "3fNs5bvJYIte",
    "scrolled": true
   },
   "outputs": [
    {
     "data": {
      "text/plain": [
       "array([0.7100428 , 0.78425855, 0.75078298, ..., 0.7949155 , 0.76992958,\n",
       "       0.77676596])"
      ]
     },
     "execution_count": 225,
     "metadata": {},
     "output_type": "execute_result"
    }
   ],
   "source": [
    "score = cosine_similarity(vs_np, np.array([q_v]))[:,0]\n",
    "score"
   ]
  },
  {
   "cell_type": "code",
   "execution_count": 226,
   "metadata": {
    "scrolled": true
   },
   "outputs": [
    {
     "data": {
      "text/plain": [
       "'Portal Pembekal UM - s1 SILA TUNGGU SEBENTARPLEASE WAIT A MOMENT UM Web | Mainpage | Contact Us Login Username Password Forgot ID? New Registration Vendor Registration Individual Registration User Guide Registration Link Calendar << || >> March - 2023 MoTuWeTh FrSaSu 12345678910111213141516171819202122232425262728293031 Contact Us Any inquiries regarding functional issues please email:unit_perolehan@um.edu.myAny inquiries regarding technical issues please log to helpdesk.um.edu.my Announcement Quotation Canteen / Cafeteria / Photocopy / Tender Quotation\\'s Result Pengumuman NOTIS PEMBERITAHUAN SYARAT MENGHADIRI LAWATAN TAPAK BAGI SEBUTHARGA/TENDER UNIVERSITI MALAYA Adalah dimaklumkan bahawa berdasarkan Pekeliling Perbendaharaan Malaysia; PK2.1 - PERIHAL UMUM, Perkara 8.12 (viii) telah menetapkan bahawa: \\r \"Hanya Pegawai/Pekerja yang diluluskan oleh Syarikat untuk Pengurusan Perolehan Kerajaan di dalam Sijil Akuan Pendaftaran Syarikat Kementerian Kewangan, Perakuan Pendaftaran Kontraktor (PPK), Sijil Perolehan Kerja Kerajaan (SPKK), Sijil PUKONSA, Sijil UPKJ boleh menghadiri lawatan tapak/premis atau sesi taklimat sebutharga/tender dan kontraktor/syarikat TIDAK BOLEH mewakilkan pegawai lain.\" \\r Sehubungan itu, pihak tuan/puan adalah diminta untuk mematuhi peraturan yang ditetapkan berkenaan dan kontraktor/pembekal yang gagal memenuhi syarat yang ditetapkan tersebut TIDAK DIBENARKAN untuk menyertai mana-mana lawatan tapak yang diadakan. \\r Sila bawa bersama sijil berkaitan serta Kad Pengenalan semasa sesi lawatan tapak/ taklimat sebut harga/ tender untuk tujuan pengesahan. PEMALSUAN DOKUMEN PEROLEHAN/TENDER \\r UNIVERSITI MALAYA (UM) Universiti Malaya (UM) sekeras-kerasnya menafikan Dokumen Perolehan/ Tender yang didakwa telah dikeluarkan/ ditawarkan oleh UM yang menggunakan Kepala Surat (Letterhead) UM serta ditandatangan oleh seorang penama \"Prof. Madya Dr. Farishal Abdul Kadir\". \\r Pihak UM dengan ini menegaskan bahawa tiada penama di atas berkhidmat di UM dan kami juga tidak pernah melantik mana-mana syarikat atau individu sebagai orang tengah (proxy) untuk sebarang projek perolehan/tender UM. \\r Sekiranya mana-mana pihak ada menerima apa-apa dokumen perolehan/tender bagi apa-apa projek khususnya projek pembangunan dan naik taraf di UM terutamanya jika ianya ditandatangan oleh penama seperti di atas, mohon membuat semakan lanjut dengan memajukan aduan/pertanyaan kepada corporate@um.edu.my atau boleh menghubungi talian seperti yang tertera di bawah: \\r Pejabat Komunikasi Korporat (CCO)\\r Aras L, Bangunan Canseleri\\r Universiti Malaya\\r 50603 Kuala Lumpur\\r Tel: 03-7967 3238 Faks: 03-7956 0027 \\r Seterusnya, pihak UM juga menasihatkan agar mana-mana pihak atau individu yang menjadi mangsa bagi penipuan seperti ini untuk membuat laporan kepada pihak Polis Diraja Malaysia (PDRM). \\r UM ingin menegaskan bahawa pihak UM tidak akan bertolak ansur dengan mana-mana pihak sekiranya mereka didapati menggunakan nama dan logo UM tanpa kebenaran dan akan mengambil tindakan sewajarnya termasuk tindakan undang-undang. \\r Sekian, Terima kasih. NOTIS PEMBERITAHUAN PELAKSANAAN CUKAI JUALAN & PERKHIDMATAN (SST). Seperti tuan/ puan sedia maklum, Cukai Barang & Perkhidmatan (CBP)/ Goods & Services Tax (GST) telah dimansuhkan dan digantikan dengan Cukai Jualan dan Perkhidmatan (SST) berkuatkuasa mulai 1 September 2018. \\r Selaras dengan peralihan GST kepada SST, pihak Universiti Malaya (UM) telah menetapkan tarikh akhir untuk mengemukakan tuntutan GST adalah pada 31 Disember 2018. Sehubungan itu, pihak tuan/puan hendaklah mengemukakan inbois beserta GST selewatnya pada 30 November 2018 bagi membolehkan bayaran dibuat sebelum 31 Disember 2018. Sebarang inbois beserta GST selepas tarikh tersebut tidak akan dipertimbangkan. \\r Bagi tawaran pembekalan/ perkhidmatan/ kerja mulai 1 September 2018, tuan/ puan perlu memastikan jumlah harga tawaran yang dikemaskini dalam sistem adalah termasuk jumlah SST sehingga satu tarikh yang akan dimaklumkan kemudian. \\r Untuk maklumat lanjut, sila hubungi pihak Bahagian Pengurusan Dana & Kawalan Kredit Jabatan Bendahari melalui emel bursar_endowtax@um.edu.my. KAEDAH PEMBAYARAN BAGI PENGAKTIFAN VENDOR Terdapat tiga(3) kaedah pembayaran iaitu: \\r 1.\\tPembayaran melalui kad kredit secara online (Pengaktifan akan dilakukan serta merta) \\r 2.\\tPembayaran melalui kaunter bank, bank deraf atau kiriman wang atas nama Bendahari Universiti Malaya \\r 3.\\tPembayaran melalui perbankan internet atas nama Bendahari Universiti Malaya CIMB, No Akaun: 8001279998 \\r Bagi kaedah (2) dan (3) , pengaktifan akan dilakukan setelah Bahagian Perolehan dan Pembanganan menerima pengesahan bayaran. Sila kemukakan bukti pembayaran ke unit_perolehan@um.edu.my untuk tindakan pihak kami selanjutnya. \\r Terima kasih. PEMBERITAHUAN Universiti Malaya tidak terikat untuk menerima sebutharga/tender yang terendah atau mana-mana sebutharga/tender dan tiada penjelasan akan diberikan kepada mana-mana penyebutharga/petender yang tidak berjaya atau ditolak. University Malaya does not bind itself to accept the lowest or any tender and no reason will be given for rejecting any tender. \\r NOTIS PENGEMASKINIAN MAKLUMAT BANK BAGI TUJUAN BAYARAN\\r Tuan/Puan, Dimaklumkan bahawa pihak UM akan melaksanakan semakan data nama syarikat, nombor akaun bank dan nombor pendaftaran syarikat adalah tepat sebelum bayaran dibuat oleh pihak Bank.\\r Tuan/puan diminta untuk memastikan maklumat di bawah yang didaftarkan di bank adalah selaras dengan maklumat yang didaftarkan dengan UM, bagi mengelakkan kegagalan dalam urusan pembayaran:\\r i. Nama Syarikat\\r ii. Nombor Akaun bank dan\\r iii. Nombor Pendaftaran Syarikat.\\r \\r Sekiranya terdapat perbezaan data, sila layari laman web vendor untuk pengemaskinian data.\\r \\r Kerjasama pihak tuan/puan dalam perkara ini amat dihargai.\\r Terima kasih.\\r \\r Jabatan Bendahari,\\r Universiti Malaya,\\r 30 Ogos 2016. Hakcipta Terpelihara 2010 - 2023Bahagian Inovasi dan Komersialisasi, Pusat Teknologi Maklumat,Universiti Malaya. Privacy Policy | \\r Site Credits | \\r Disclaimer | \\r Security Policy'"
      ]
     },
     "execution_count": 226,
     "metadata": {},
     "output_type": "execute_result"
    }
   ],
   "source": [
    "df_vector.loc[np.argmax(score), \"Content\"]"
   ]
  },
  {
   "cell_type": "code",
   "execution_count": 227,
   "metadata": {
    "id": "3fNs5bvJYIte"
   },
   "outputs": [],
   "source": [
    "c_best_doc = df_vector.loc[np.argmax(score), \"Content\"]"
   ]
  },
  {
   "cell_type": "code",
   "execution_count": 228,
   "metadata": {
    "colab": {
     "base_uri": "https://localhost:8080/",
     "height": 357
    },
    "id": "CE1K1MJ4YhA0",
    "outputId": "e73d7114-ed2a-4590-aa94-d48676752a5e"
   },
   "outputs": [
    {
     "data": {
      "text/plain": [
       "'teks `Portal Pembekal UM - s1 SILA TUNGGU SEBENTARPLEASE WAIT A MOMENT UM Web | Mainpage | Contact Us Login Username Password Forgot ID? New Registration Vendor Registration Individual Registration User Guide Registration Link Calendar << || >> March - 2023 MoTuWeTh FrSaSu 12345678910111213141516171819202122232425262728293031 Contact Us Any inquiries regarding functional issues please email:unit_perolehan@um.edu.myAny inquiries regarding technical issues please log to helpdesk.um.edu.my Announcement Quotation Canteen / Cafeteria / Photocopy / Tender Quotation\\'s Result Pengumuman NOTIS PEMBERITAHUAN SYARAT MENGHADIRI LAWATAN TAPAK BAGI SEBUTHARGA/TENDER UNIVERSITI MALAYA Adalah dimaklumkan bahawa berdasarkan Pekeliling Perbendaharaan Malaysia; PK2.1 - PERIHAL UMUM, Perkara 8.12 (viii) telah menetapkan bahawa: \\r \"Hanya Pegawai/Pekerja yang diluluskan oleh Syarikat untuk Pengurusan Perolehan Kerajaan di dalam Sijil Akuan Pendaftaran Syarikat Kementerian Kewangan, Perakuan Pendaftaran Kontraktor (PPK), Sijil Perolehan Kerja Kerajaan (SPKK), Sijil PUKONSA, Sijil UPKJ boleh menghadiri lawatan tapak/premis atau sesi taklimat sebutharga/tender dan kontraktor/syarikat TIDAK BOLEH mewakilkan pegawai lain.\" \\r Sehubungan itu, pihak tuan/puan adalah diminta untuk mematuhi peraturan yang ditetapkan berkenaan dan kontraktor/pembekal yang gagal memenuhi syarat yang ditetapkan tersebut TIDAK DIBENARKAN untuk menyertai mana-mana lawatan tapak yang diadakan. \\r Sila bawa bersama sijil berkaitan serta Kad Pengenalan semasa sesi lawatan tapak/ taklimat sebut harga/ tender untuk tujuan pengesahan. PEMALSUAN DOKUMEN PEROLEHAN/TENDER \\r UNIVERSITI MALAYA (UM) Universiti Malaya (UM) sekeras-kerasnya menafikan Dokumen Perolehan/ Tender yang didakwa telah dikeluarkan/ ditawarkan oleh UM yang menggunakan Kepala Surat (Letterhead) UM serta ditandatangan oleh seorang penama \"Prof. Madya Dr. Farishal Abdul Kadir\". \\r Pihak UM dengan ini menegaskan bahawa tiada penama di atas berkhidmat di UM dan kami juga tidak pernah melantik mana-mana syarikat atau individu sebagai orang tengah (proxy) untuk sebarang projek perolehan/tender UM. \\r Sekiranya mana-mana pihak ada menerima apa-apa dokumen perolehan/tender bagi apa-apa projek khususnya projek pembangunan dan naik taraf di UM terutamanya jika ianya ditandatangan oleh penama seperti di atas, mohon membuat semakan lanjut dengan memajukan aduan/pertanyaan kepada corporate@um.edu.my atau boleh menghubungi talian seperti yang tertera di bawah: \\r Pejabat Komunikasi Korporat (CCO)\\r Aras L, Bangunan Canseleri\\r Universiti Malaya\\r 50603 Kuala Lumpur\\r Tel: 03-7967 3238 Faks: 03-7956 0027 \\r Seterusnya, pihak UM juga menasihatkan agar mana-mana pihak atau individu yang menjadi mangsa bagi penipuan seperti ini untuk membuat laporan kepada pihak Polis Diraja Malaysia (PDRM). \\r UM ingin menegaskan bahawa pihak UM tidak akan bertolak ansur dengan mana-mana pihak sekiranya mereka didapati menggunakan nama dan logo UM tanpa kebenaran dan akan mengambil tindakan sewajarnya termasuk tindakan undang-undang. \\r Sekian, Terima kasih. NOTIS PEMBERITAHUAN PELAKSANAAN CUKAI JUALAN & PERKHIDMATAN (SST). Seperti tuan/ puan sedia maklum, Cukai Barang & Perkhidmatan (CBP)/ Goods & Services Tax (GST) telah dimansuhkan dan digantikan dengan Cukai Jualan dan Perkhidmatan (SST) berkuatkuasa mulai 1 September 2018. \\r Selaras dengan peralihan GST kepada SST, pihak Universiti Malaya (UM) telah menetapkan tarikh akhir untuk mengemukakan tuntutan GST adalah pada 31 Disember 2018. Sehubungan itu, pihak tuan/puan hendaklah mengemukakan inbois beserta GST selewatnya pada 30 November 2018 bagi membolehkan bayaran dibuat sebelum 31 Disember 2018. Sebarang inbois beserta GST selepas tarikh tersebut tidak akan dipertimbangkan. \\r Bagi tawaran pembekalan/ perkhidmatan/ kerja mulai 1 September 2018, tuan/ puan perlu memastikan jumlah harga tawaran yang dikemaskini dalam sistem adalah termasuk jumlah SST sehingga satu tarikh yang akan dimaklumkan kemudian. \\r Untuk maklumat lanjut, sila hubungi pihak Bahagian Pengurusan Dana & Kawalan Kredit Jabatan Bendahari melalui emel bursar_endowtax@um.edu.my. KAEDAH PEMBAYARAN BAGI PENGAKTIFAN VENDOR Terdapat tiga(3) kaedah pembayaran iaitu: \\r 1.\\tPembayaran melalui kad kredit secara online (Pengaktifan akan dilakukan serta merta) \\r 2.\\tPembayaran melalui kaunter bank, bank deraf atau kiriman wang atas nama Bendahari Universiti Malaya \\r 3.\\tPembayaran melalui perbankan internet atas nama Bendahari Universiti Malaya CIMB, No Akaun: 8001279998 \\r Bagi kaedah (2) dan (3) , pengaktifan akan dilakukan setelah Bahagian Perolehan dan Pembanganan menerima pengesahan bayaran. Sila kemukakan bukti pembayaran ke unit_perolehan@um.edu.my untuk tindakan pihak kami selanjutnya. \\r Terima kasih. PEMBERITAHUAN Universiti Malaya tidak terikat untuk menerima sebutharga/tender yang terendah atau mana-mana sebutharga/tender dan tiada penjelasan akan diberikan kepada mana-mana penyebutharga/petender yang tidak berjaya atau ditolak. University Malaya does not bind itself to accept the lowest or any tender and no reason will be given for rejecting any tender. \\r NOTIS PENGEMASKINIAN MAKLUMAT BANK BAGI TUJUAN BAYARAN\\r Tuan/Puan, Dimaklumkan bahawa pihak UM akan melaksanakan semakan data nama syarikat, nombor akaun bank dan nombor pendaftaran syarikat adalah tepat sebelum bayaran dibuat oleh pihak Bank.\\r Tuan/puan diminta untuk memastikan maklumat di bawah yang didaftarkan di bank adalah selaras dengan maklumat yang didaftarkan dengan UM, bagi mengelakkan kegagalan dalam urusan pembayaran:\\r i. Nama Syarikat\\r ii. Nombor Akaun bank dan\\r iii. Nombor Pendaftaran Syarikat.\\r \\r Sekiranya terdapat perbezaan data, sila layari laman web vendor untuk pengemaskinian data.\\r \\r Kerjasama pihak tuan/puan dalam perkara ini amat dihargai.\\r Terima kasih.\\r \\r Jabatan Bendahari,\\r Universiti Malaya,\\r 30 Ogos 2016. Hakcipta Terpelihara 2010 - 2023Bahagian Inovasi dan Komersialisasi, Pusat Teknologi Maklumat,Universiti Malaya. Privacy Policy | \\r Site Credits | \\r Disclaimer | \\r Security Policy`, berdasarkan teks, jawab soalan berikut, `Senang ke nak masuk UM?`, jawab dalam standard malay'"
      ]
     },
     "execution_count": 228,
     "metadata": {},
     "output_type": "execute_result"
    }
   ],
   "source": [
    "prompting = f'teks `{c_best_doc}`, berdasarkan teks, jawab soalan berikut, `{q}`, jawab dalam standard malay'\n",
    "prompting"
   ]
  },
  {
   "cell_type": "code",
   "execution_count": 229,
   "metadata": {
    "id": "2ZOBMvmeY0Z_"
   },
   "outputs": [
    {
     "ename": "Timeout",
     "evalue": "Request timed out: HTTPSConnectionPool(host='api.openai.com', port=443): Read timed out. (read timeout=600)",
     "output_type": "error",
     "traceback": [
      "\u001b[1;31m---------------------------------------------------------------------------\u001b[0m",
      "\u001b[1;31mtimeout\u001b[0m                                   Traceback (most recent call last)",
      "\u001b[1;32m~\\anaconda3\\lib\\site-packages\\urllib3\\connectionpool.py\u001b[0m in \u001b[0;36m_make_request\u001b[1;34m(self, conn, method, url, timeout, chunked, **httplib_request_kw)\u001b[0m\n\u001b[0;32m    444\u001b[0m                     \u001b[1;31m# Otherwise it looks like a bug in the code.\u001b[0m\u001b[1;33m\u001b[0m\u001b[1;33m\u001b[0m\u001b[0m\n\u001b[1;32m--> 445\u001b[1;33m                     \u001b[0msix\u001b[0m\u001b[1;33m.\u001b[0m\u001b[0mraise_from\u001b[0m\u001b[1;33m(\u001b[0m\u001b[0me\u001b[0m\u001b[1;33m,\u001b[0m \u001b[1;32mNone\u001b[0m\u001b[1;33m)\u001b[0m\u001b[1;33m\u001b[0m\u001b[1;33m\u001b[0m\u001b[0m\n\u001b[0m\u001b[0;32m    446\u001b[0m         \u001b[1;32mexcept\u001b[0m \u001b[1;33m(\u001b[0m\u001b[0mSocketTimeout\u001b[0m\u001b[1;33m,\u001b[0m \u001b[0mBaseSSLError\u001b[0m\u001b[1;33m,\u001b[0m \u001b[0mSocketError\u001b[0m\u001b[1;33m)\u001b[0m \u001b[1;32mas\u001b[0m \u001b[0me\u001b[0m\u001b[1;33m:\u001b[0m\u001b[1;33m\u001b[0m\u001b[1;33m\u001b[0m\u001b[0m\n",
      "\u001b[1;32m~\\anaconda3\\lib\\site-packages\\urllib3\\packages\\six.py\u001b[0m in \u001b[0;36mraise_from\u001b[1;34m(value, from_value)\u001b[0m\n",
      "\u001b[1;32m~\\anaconda3\\lib\\site-packages\\urllib3\\connectionpool.py\u001b[0m in \u001b[0;36m_make_request\u001b[1;34m(self, conn, method, url, timeout, chunked, **httplib_request_kw)\u001b[0m\n\u001b[0;32m    439\u001b[0m                 \u001b[1;32mtry\u001b[0m\u001b[1;33m:\u001b[0m\u001b[1;33m\u001b[0m\u001b[1;33m\u001b[0m\u001b[0m\n\u001b[1;32m--> 440\u001b[1;33m                     \u001b[0mhttplib_response\u001b[0m \u001b[1;33m=\u001b[0m \u001b[0mconn\u001b[0m\u001b[1;33m.\u001b[0m\u001b[0mgetresponse\u001b[0m\u001b[1;33m(\u001b[0m\u001b[1;33m)\u001b[0m\u001b[1;33m\u001b[0m\u001b[1;33m\u001b[0m\u001b[0m\n\u001b[0m\u001b[0;32m    441\u001b[0m                 \u001b[1;32mexcept\u001b[0m \u001b[0mBaseException\u001b[0m \u001b[1;32mas\u001b[0m \u001b[0me\u001b[0m\u001b[1;33m:\u001b[0m\u001b[1;33m\u001b[0m\u001b[1;33m\u001b[0m\u001b[0m\n",
      "\u001b[1;32m~\\anaconda3\\lib\\http\\client.py\u001b[0m in \u001b[0;36mgetresponse\u001b[1;34m(self)\u001b[0m\n\u001b[0;32m   1370\u001b[0m             \u001b[1;32mtry\u001b[0m\u001b[1;33m:\u001b[0m\u001b[1;33m\u001b[0m\u001b[1;33m\u001b[0m\u001b[0m\n\u001b[1;32m-> 1371\u001b[1;33m                 \u001b[0mresponse\u001b[0m\u001b[1;33m.\u001b[0m\u001b[0mbegin\u001b[0m\u001b[1;33m(\u001b[0m\u001b[1;33m)\u001b[0m\u001b[1;33m\u001b[0m\u001b[1;33m\u001b[0m\u001b[0m\n\u001b[0m\u001b[0;32m   1372\u001b[0m             \u001b[1;32mexcept\u001b[0m \u001b[0mConnectionError\u001b[0m\u001b[1;33m:\u001b[0m\u001b[1;33m\u001b[0m\u001b[1;33m\u001b[0m\u001b[0m\n",
      "\u001b[1;32m~\\anaconda3\\lib\\http\\client.py\u001b[0m in \u001b[0;36mbegin\u001b[1;34m(self)\u001b[0m\n\u001b[0;32m    318\u001b[0m         \u001b[1;32mwhile\u001b[0m \u001b[1;32mTrue\u001b[0m\u001b[1;33m:\u001b[0m\u001b[1;33m\u001b[0m\u001b[1;33m\u001b[0m\u001b[0m\n\u001b[1;32m--> 319\u001b[1;33m             \u001b[0mversion\u001b[0m\u001b[1;33m,\u001b[0m \u001b[0mstatus\u001b[0m\u001b[1;33m,\u001b[0m \u001b[0mreason\u001b[0m \u001b[1;33m=\u001b[0m \u001b[0mself\u001b[0m\u001b[1;33m.\u001b[0m\u001b[0m_read_status\u001b[0m\u001b[1;33m(\u001b[0m\u001b[1;33m)\u001b[0m\u001b[1;33m\u001b[0m\u001b[1;33m\u001b[0m\u001b[0m\n\u001b[0m\u001b[0;32m    320\u001b[0m             \u001b[1;32mif\u001b[0m \u001b[0mstatus\u001b[0m \u001b[1;33m!=\u001b[0m \u001b[0mCONTINUE\u001b[0m\u001b[1;33m:\u001b[0m\u001b[1;33m\u001b[0m\u001b[1;33m\u001b[0m\u001b[0m\n",
      "\u001b[1;32m~\\anaconda3\\lib\\http\\client.py\u001b[0m in \u001b[0;36m_read_status\u001b[1;34m(self)\u001b[0m\n\u001b[0;32m    279\u001b[0m     \u001b[1;32mdef\u001b[0m \u001b[0m_read_status\u001b[0m\u001b[1;33m(\u001b[0m\u001b[0mself\u001b[0m\u001b[1;33m)\u001b[0m\u001b[1;33m:\u001b[0m\u001b[1;33m\u001b[0m\u001b[1;33m\u001b[0m\u001b[0m\n\u001b[1;32m--> 280\u001b[1;33m         \u001b[0mline\u001b[0m \u001b[1;33m=\u001b[0m \u001b[0mstr\u001b[0m\u001b[1;33m(\u001b[0m\u001b[0mself\u001b[0m\u001b[1;33m.\u001b[0m\u001b[0mfp\u001b[0m\u001b[1;33m.\u001b[0m\u001b[0mreadline\u001b[0m\u001b[1;33m(\u001b[0m\u001b[0m_MAXLINE\u001b[0m \u001b[1;33m+\u001b[0m \u001b[1;36m1\u001b[0m\u001b[1;33m)\u001b[0m\u001b[1;33m,\u001b[0m \u001b[1;34m\"iso-8859-1\"\u001b[0m\u001b[1;33m)\u001b[0m\u001b[1;33m\u001b[0m\u001b[1;33m\u001b[0m\u001b[0m\n\u001b[0m\u001b[0;32m    281\u001b[0m         \u001b[1;32mif\u001b[0m \u001b[0mlen\u001b[0m\u001b[1;33m(\u001b[0m\u001b[0mline\u001b[0m\u001b[1;33m)\u001b[0m \u001b[1;33m>\u001b[0m \u001b[0m_MAXLINE\u001b[0m\u001b[1;33m:\u001b[0m\u001b[1;33m\u001b[0m\u001b[1;33m\u001b[0m\u001b[0m\n",
      "\u001b[1;32m~\\anaconda3\\lib\\socket.py\u001b[0m in \u001b[0;36mreadinto\u001b[1;34m(self, b)\u001b[0m\n\u001b[0;32m    703\u001b[0m             \u001b[1;32mtry\u001b[0m\u001b[1;33m:\u001b[0m\u001b[1;33m\u001b[0m\u001b[1;33m\u001b[0m\u001b[0m\n\u001b[1;32m--> 704\u001b[1;33m                 \u001b[1;32mreturn\u001b[0m \u001b[0mself\u001b[0m\u001b[1;33m.\u001b[0m\u001b[0m_sock\u001b[0m\u001b[1;33m.\u001b[0m\u001b[0mrecv_into\u001b[0m\u001b[1;33m(\u001b[0m\u001b[0mb\u001b[0m\u001b[1;33m)\u001b[0m\u001b[1;33m\u001b[0m\u001b[1;33m\u001b[0m\u001b[0m\n\u001b[0m\u001b[0;32m    705\u001b[0m             \u001b[1;32mexcept\u001b[0m \u001b[0mtimeout\u001b[0m\u001b[1;33m:\u001b[0m\u001b[1;33m\u001b[0m\u001b[1;33m\u001b[0m\u001b[0m\n",
      "\u001b[1;32m~\\anaconda3\\lib\\ssl.py\u001b[0m in \u001b[0;36mrecv_into\u001b[1;34m(self, buffer, nbytes, flags)\u001b[0m\n\u001b[0;32m   1240\u001b[0m                   self.__class__)\n\u001b[1;32m-> 1241\u001b[1;33m             \u001b[1;32mreturn\u001b[0m \u001b[0mself\u001b[0m\u001b[1;33m.\u001b[0m\u001b[0mread\u001b[0m\u001b[1;33m(\u001b[0m\u001b[0mnbytes\u001b[0m\u001b[1;33m,\u001b[0m \u001b[0mbuffer\u001b[0m\u001b[1;33m)\u001b[0m\u001b[1;33m\u001b[0m\u001b[1;33m\u001b[0m\u001b[0m\n\u001b[0m\u001b[0;32m   1242\u001b[0m         \u001b[1;32melse\u001b[0m\u001b[1;33m:\u001b[0m\u001b[1;33m\u001b[0m\u001b[1;33m\u001b[0m\u001b[0m\n",
      "\u001b[1;32m~\\anaconda3\\lib\\ssl.py\u001b[0m in \u001b[0;36mread\u001b[1;34m(self, len, buffer)\u001b[0m\n\u001b[0;32m   1098\u001b[0m             \u001b[1;32mif\u001b[0m \u001b[0mbuffer\u001b[0m \u001b[1;32mis\u001b[0m \u001b[1;32mnot\u001b[0m \u001b[1;32mNone\u001b[0m\u001b[1;33m:\u001b[0m\u001b[1;33m\u001b[0m\u001b[1;33m\u001b[0m\u001b[0m\n\u001b[1;32m-> 1099\u001b[1;33m                 \u001b[1;32mreturn\u001b[0m \u001b[0mself\u001b[0m\u001b[1;33m.\u001b[0m\u001b[0m_sslobj\u001b[0m\u001b[1;33m.\u001b[0m\u001b[0mread\u001b[0m\u001b[1;33m(\u001b[0m\u001b[0mlen\u001b[0m\u001b[1;33m,\u001b[0m \u001b[0mbuffer\u001b[0m\u001b[1;33m)\u001b[0m\u001b[1;33m\u001b[0m\u001b[1;33m\u001b[0m\u001b[0m\n\u001b[0m\u001b[0;32m   1100\u001b[0m             \u001b[1;32melse\u001b[0m\u001b[1;33m:\u001b[0m\u001b[1;33m\u001b[0m\u001b[1;33m\u001b[0m\u001b[0m\n",
      "\u001b[1;31mtimeout\u001b[0m: The read operation timed out",
      "\nDuring handling of the above exception, another exception occurred:\n",
      "\u001b[1;31mReadTimeoutError\u001b[0m                          Traceback (most recent call last)",
      "\u001b[1;32m~\\anaconda3\\lib\\site-packages\\requests\\adapters.py\u001b[0m in \u001b[0;36msend\u001b[1;34m(self, request, stream, timeout, verify, cert, proxies)\u001b[0m\n\u001b[0;32m    438\u001b[0m             \u001b[1;32mif\u001b[0m \u001b[1;32mnot\u001b[0m \u001b[0mchunked\u001b[0m\u001b[1;33m:\u001b[0m\u001b[1;33m\u001b[0m\u001b[1;33m\u001b[0m\u001b[0m\n\u001b[1;32m--> 439\u001b[1;33m                 resp = conn.urlopen(\n\u001b[0m\u001b[0;32m    440\u001b[0m                     \u001b[0mmethod\u001b[0m\u001b[1;33m=\u001b[0m\u001b[0mrequest\u001b[0m\u001b[1;33m.\u001b[0m\u001b[0mmethod\u001b[0m\u001b[1;33m,\u001b[0m\u001b[1;33m\u001b[0m\u001b[1;33m\u001b[0m\u001b[0m\n",
      "\u001b[1;32m~\\anaconda3\\lib\\site-packages\\urllib3\\connectionpool.py\u001b[0m in \u001b[0;36murlopen\u001b[1;34m(self, method, url, body, headers, retries, redirect, assert_same_host, timeout, pool_timeout, release_conn, chunked, body_pos, **response_kw)\u001b[0m\n\u001b[0;32m    754\u001b[0m \u001b[1;33m\u001b[0m\u001b[0m\n\u001b[1;32m--> 755\u001b[1;33m             retries = retries.increment(\n\u001b[0m\u001b[0;32m    756\u001b[0m                 \u001b[0mmethod\u001b[0m\u001b[1;33m,\u001b[0m \u001b[0murl\u001b[0m\u001b[1;33m,\u001b[0m \u001b[0merror\u001b[0m\u001b[1;33m=\u001b[0m\u001b[0me\u001b[0m\u001b[1;33m,\u001b[0m \u001b[0m_pool\u001b[0m\u001b[1;33m=\u001b[0m\u001b[0mself\u001b[0m\u001b[1;33m,\u001b[0m \u001b[0m_stacktrace\u001b[0m\u001b[1;33m=\u001b[0m\u001b[0msys\u001b[0m\u001b[1;33m.\u001b[0m\u001b[0mexc_info\u001b[0m\u001b[1;33m(\u001b[0m\u001b[1;33m)\u001b[0m\u001b[1;33m[\u001b[0m\u001b[1;36m2\u001b[0m\u001b[1;33m]\u001b[0m\u001b[1;33m\u001b[0m\u001b[1;33m\u001b[0m\u001b[0m\n",
      "\u001b[1;32m~\\anaconda3\\lib\\site-packages\\urllib3\\util\\retry.py\u001b[0m in \u001b[0;36mincrement\u001b[1;34m(self, method, url, response, error, _pool, _stacktrace)\u001b[0m\n\u001b[0;32m    531\u001b[0m             \u001b[1;32mif\u001b[0m \u001b[0mread\u001b[0m \u001b[1;32mis\u001b[0m \u001b[1;32mFalse\u001b[0m \u001b[1;32mor\u001b[0m \u001b[1;32mnot\u001b[0m \u001b[0mself\u001b[0m\u001b[1;33m.\u001b[0m\u001b[0m_is_method_retryable\u001b[0m\u001b[1;33m(\u001b[0m\u001b[0mmethod\u001b[0m\u001b[1;33m)\u001b[0m\u001b[1;33m:\u001b[0m\u001b[1;33m\u001b[0m\u001b[1;33m\u001b[0m\u001b[0m\n\u001b[1;32m--> 532\u001b[1;33m                 \u001b[1;32mraise\u001b[0m \u001b[0msix\u001b[0m\u001b[1;33m.\u001b[0m\u001b[0mreraise\u001b[0m\u001b[1;33m(\u001b[0m\u001b[0mtype\u001b[0m\u001b[1;33m(\u001b[0m\u001b[0merror\u001b[0m\u001b[1;33m)\u001b[0m\u001b[1;33m,\u001b[0m \u001b[0merror\u001b[0m\u001b[1;33m,\u001b[0m \u001b[0m_stacktrace\u001b[0m\u001b[1;33m)\u001b[0m\u001b[1;33m\u001b[0m\u001b[1;33m\u001b[0m\u001b[0m\n\u001b[0m\u001b[0;32m    533\u001b[0m             \u001b[1;32melif\u001b[0m \u001b[0mread\u001b[0m \u001b[1;32mis\u001b[0m \u001b[1;32mnot\u001b[0m \u001b[1;32mNone\u001b[0m\u001b[1;33m:\u001b[0m\u001b[1;33m\u001b[0m\u001b[1;33m\u001b[0m\u001b[0m\n",
      "\u001b[1;32m~\\anaconda3\\lib\\site-packages\\urllib3\\packages\\six.py\u001b[0m in \u001b[0;36mreraise\u001b[1;34m(tp, value, tb)\u001b[0m\n\u001b[0;32m    769\u001b[0m                 \u001b[1;32mraise\u001b[0m \u001b[0mvalue\u001b[0m\u001b[1;33m.\u001b[0m\u001b[0mwith_traceback\u001b[0m\u001b[1;33m(\u001b[0m\u001b[0mtb\u001b[0m\u001b[1;33m)\u001b[0m\u001b[1;33m\u001b[0m\u001b[1;33m\u001b[0m\u001b[0m\n\u001b[1;32m--> 770\u001b[1;33m             \u001b[1;32mraise\u001b[0m \u001b[0mvalue\u001b[0m\u001b[1;33m\u001b[0m\u001b[1;33m\u001b[0m\u001b[0m\n\u001b[0m\u001b[0;32m    771\u001b[0m         \u001b[1;32mfinally\u001b[0m\u001b[1;33m:\u001b[0m\u001b[1;33m\u001b[0m\u001b[1;33m\u001b[0m\u001b[0m\n",
      "\u001b[1;32m~\\anaconda3\\lib\\site-packages\\urllib3\\connectionpool.py\u001b[0m in \u001b[0;36murlopen\u001b[1;34m(self, method, url, body, headers, retries, redirect, assert_same_host, timeout, pool_timeout, release_conn, chunked, body_pos, **response_kw)\u001b[0m\n\u001b[0;32m    698\u001b[0m             \u001b[1;31m# Make the request on the httplib connection object.\u001b[0m\u001b[1;33m\u001b[0m\u001b[1;33m\u001b[0m\u001b[0m\n\u001b[1;32m--> 699\u001b[1;33m             httplib_response = self._make_request(\n\u001b[0m\u001b[0;32m    700\u001b[0m                 \u001b[0mconn\u001b[0m\u001b[1;33m,\u001b[0m\u001b[1;33m\u001b[0m\u001b[1;33m\u001b[0m\u001b[0m\n",
      "\u001b[1;32m~\\anaconda3\\lib\\site-packages\\urllib3\\connectionpool.py\u001b[0m in \u001b[0;36m_make_request\u001b[1;34m(self, conn, method, url, timeout, chunked, **httplib_request_kw)\u001b[0m\n\u001b[0;32m    446\u001b[0m         \u001b[1;32mexcept\u001b[0m \u001b[1;33m(\u001b[0m\u001b[0mSocketTimeout\u001b[0m\u001b[1;33m,\u001b[0m \u001b[0mBaseSSLError\u001b[0m\u001b[1;33m,\u001b[0m \u001b[0mSocketError\u001b[0m\u001b[1;33m)\u001b[0m \u001b[1;32mas\u001b[0m \u001b[0me\u001b[0m\u001b[1;33m:\u001b[0m\u001b[1;33m\u001b[0m\u001b[1;33m\u001b[0m\u001b[0m\n\u001b[1;32m--> 447\u001b[1;33m             \u001b[0mself\u001b[0m\u001b[1;33m.\u001b[0m\u001b[0m_raise_timeout\u001b[0m\u001b[1;33m(\u001b[0m\u001b[0merr\u001b[0m\u001b[1;33m=\u001b[0m\u001b[0me\u001b[0m\u001b[1;33m,\u001b[0m \u001b[0murl\u001b[0m\u001b[1;33m=\u001b[0m\u001b[0murl\u001b[0m\u001b[1;33m,\u001b[0m \u001b[0mtimeout_value\u001b[0m\u001b[1;33m=\u001b[0m\u001b[0mread_timeout\u001b[0m\u001b[1;33m)\u001b[0m\u001b[1;33m\u001b[0m\u001b[1;33m\u001b[0m\u001b[0m\n\u001b[0m\u001b[0;32m    448\u001b[0m             \u001b[1;32mraise\u001b[0m\u001b[1;33m\u001b[0m\u001b[1;33m\u001b[0m\u001b[0m\n",
      "\u001b[1;32m~\\anaconda3\\lib\\site-packages\\urllib3\\connectionpool.py\u001b[0m in \u001b[0;36m_raise_timeout\u001b[1;34m(self, err, url, timeout_value)\u001b[0m\n\u001b[0;32m    335\u001b[0m         \u001b[1;32mif\u001b[0m \u001b[0misinstance\u001b[0m\u001b[1;33m(\u001b[0m\u001b[0merr\u001b[0m\u001b[1;33m,\u001b[0m \u001b[0mSocketTimeout\u001b[0m\u001b[1;33m)\u001b[0m\u001b[1;33m:\u001b[0m\u001b[1;33m\u001b[0m\u001b[1;33m\u001b[0m\u001b[0m\n\u001b[1;32m--> 336\u001b[1;33m             raise ReadTimeoutError(\n\u001b[0m\u001b[0;32m    337\u001b[0m                 \u001b[0mself\u001b[0m\u001b[1;33m,\u001b[0m \u001b[0murl\u001b[0m\u001b[1;33m,\u001b[0m \u001b[1;34m\"Read timed out. (read timeout=%s)\"\u001b[0m \u001b[1;33m%\u001b[0m \u001b[0mtimeout_value\u001b[0m\u001b[1;33m\u001b[0m\u001b[1;33m\u001b[0m\u001b[0m\n",
      "\u001b[1;31mReadTimeoutError\u001b[0m: HTTPSConnectionPool(host='api.openai.com', port=443): Read timed out. (read timeout=600)",
      "\nDuring handling of the above exception, another exception occurred:\n",
      "\u001b[1;31mReadTimeout\u001b[0m                               Traceback (most recent call last)",
      "\u001b[1;32m~\\anaconda3\\lib\\site-packages\\openai\\api_requestor.py\u001b[0m in \u001b[0;36mrequest_raw\u001b[1;34m(self, method, url, params, supplied_headers, files, stream, request_id, request_timeout)\u001b[0m\n\u001b[0;32m    515\u001b[0m         \u001b[1;32mtry\u001b[0m\u001b[1;33m:\u001b[0m\u001b[1;33m\u001b[0m\u001b[1;33m\u001b[0m\u001b[0m\n\u001b[1;32m--> 516\u001b[1;33m             result = _thread_context.session.request(\n\u001b[0m\u001b[0;32m    517\u001b[0m                 \u001b[0mmethod\u001b[0m\u001b[1;33m,\u001b[0m\u001b[1;33m\u001b[0m\u001b[1;33m\u001b[0m\u001b[0m\n",
      "\u001b[1;32m~\\anaconda3\\lib\\site-packages\\requests\\sessions.py\u001b[0m in \u001b[0;36mrequest\u001b[1;34m(self, method, url, params, data, headers, cookies, files, auth, timeout, allow_redirects, proxies, hooks, stream, verify, cert, json)\u001b[0m\n\u001b[0;32m    541\u001b[0m         \u001b[0msend_kwargs\u001b[0m\u001b[1;33m.\u001b[0m\u001b[0mupdate\u001b[0m\u001b[1;33m(\u001b[0m\u001b[0msettings\u001b[0m\u001b[1;33m)\u001b[0m\u001b[1;33m\u001b[0m\u001b[1;33m\u001b[0m\u001b[0m\n\u001b[1;32m--> 542\u001b[1;33m         \u001b[0mresp\u001b[0m \u001b[1;33m=\u001b[0m \u001b[0mself\u001b[0m\u001b[1;33m.\u001b[0m\u001b[0msend\u001b[0m\u001b[1;33m(\u001b[0m\u001b[0mprep\u001b[0m\u001b[1;33m,\u001b[0m \u001b[1;33m**\u001b[0m\u001b[0msend_kwargs\u001b[0m\u001b[1;33m)\u001b[0m\u001b[1;33m\u001b[0m\u001b[1;33m\u001b[0m\u001b[0m\n\u001b[0m\u001b[0;32m    543\u001b[0m \u001b[1;33m\u001b[0m\u001b[0m\n",
      "\u001b[1;32m~\\anaconda3\\lib\\site-packages\\requests\\sessions.py\u001b[0m in \u001b[0;36msend\u001b[1;34m(self, request, **kwargs)\u001b[0m\n\u001b[0;32m    654\u001b[0m         \u001b[1;31m# Send the request\u001b[0m\u001b[1;33m\u001b[0m\u001b[1;33m\u001b[0m\u001b[0m\n\u001b[1;32m--> 655\u001b[1;33m         \u001b[0mr\u001b[0m \u001b[1;33m=\u001b[0m \u001b[0madapter\u001b[0m\u001b[1;33m.\u001b[0m\u001b[0msend\u001b[0m\u001b[1;33m(\u001b[0m\u001b[0mrequest\u001b[0m\u001b[1;33m,\u001b[0m \u001b[1;33m**\u001b[0m\u001b[0mkwargs\u001b[0m\u001b[1;33m)\u001b[0m\u001b[1;33m\u001b[0m\u001b[1;33m\u001b[0m\u001b[0m\n\u001b[0m\u001b[0;32m    656\u001b[0m \u001b[1;33m\u001b[0m\u001b[0m\n",
      "\u001b[1;32m~\\anaconda3\\lib\\site-packages\\requests\\adapters.py\u001b[0m in \u001b[0;36msend\u001b[1;34m(self, request, stream, timeout, verify, cert, proxies)\u001b[0m\n\u001b[0;32m    528\u001b[0m             \u001b[1;32melif\u001b[0m \u001b[0misinstance\u001b[0m\u001b[1;33m(\u001b[0m\u001b[0me\u001b[0m\u001b[1;33m,\u001b[0m \u001b[0mReadTimeoutError\u001b[0m\u001b[1;33m)\u001b[0m\u001b[1;33m:\u001b[0m\u001b[1;33m\u001b[0m\u001b[1;33m\u001b[0m\u001b[0m\n\u001b[1;32m--> 529\u001b[1;33m                 \u001b[1;32mraise\u001b[0m \u001b[0mReadTimeout\u001b[0m\u001b[1;33m(\u001b[0m\u001b[0me\u001b[0m\u001b[1;33m,\u001b[0m \u001b[0mrequest\u001b[0m\u001b[1;33m=\u001b[0m\u001b[0mrequest\u001b[0m\u001b[1;33m)\u001b[0m\u001b[1;33m\u001b[0m\u001b[1;33m\u001b[0m\u001b[0m\n\u001b[0m\u001b[0;32m    530\u001b[0m             \u001b[1;32melse\u001b[0m\u001b[1;33m:\u001b[0m\u001b[1;33m\u001b[0m\u001b[1;33m\u001b[0m\u001b[0m\n",
      "\u001b[1;31mReadTimeout\u001b[0m: HTTPSConnectionPool(host='api.openai.com', port=443): Read timed out. (read timeout=600)",
      "\nThe above exception was the direct cause of the following exception:\n",
      "\u001b[1;31mTimeout\u001b[0m                                   Traceback (most recent call last)",
      "\u001b[1;32m~\\AppData\\Local\\Temp/ipykernel_11880/14471382.py\u001b[0m in \u001b[0;36m<module>\u001b[1;34m\u001b[0m\n\u001b[1;32m----> 1\u001b[1;33m response = openai.Completion.create(\n\u001b[0m\u001b[0;32m      2\u001b[0m   \u001b[0mmodel\u001b[0m\u001b[1;33m=\u001b[0m\u001b[1;34m\"text-davinci-003\"\u001b[0m\u001b[1;33m,\u001b[0m\u001b[1;33m\u001b[0m\u001b[1;33m\u001b[0m\u001b[0m\n\u001b[0;32m      3\u001b[0m   \u001b[0mprompt\u001b[0m\u001b[1;33m=\u001b[0m\u001b[0mprompting\u001b[0m\u001b[1;33m,\u001b[0m\u001b[1;33m\u001b[0m\u001b[1;33m\u001b[0m\u001b[0m\n\u001b[0;32m      4\u001b[0m   \u001b[0mtemperature\u001b[0m\u001b[1;33m=\u001b[0m\u001b[1;36m0.7\u001b[0m\u001b[1;33m,\u001b[0m\u001b[1;33m\u001b[0m\u001b[1;33m\u001b[0m\u001b[0m\n\u001b[0;32m      5\u001b[0m   \u001b[0mmax_tokens\u001b[0m\u001b[1;33m=\u001b[0m\u001b[1;36m384\u001b[0m\u001b[1;33m,\u001b[0m\u001b[1;33m\u001b[0m\u001b[1;33m\u001b[0m\u001b[0m\n",
      "\u001b[1;32m~\\anaconda3\\lib\\site-packages\\openai\\api_resources\\completion.py\u001b[0m in \u001b[0;36mcreate\u001b[1;34m(cls, *args, **kwargs)\u001b[0m\n\u001b[0;32m     23\u001b[0m         \u001b[1;32mwhile\u001b[0m \u001b[1;32mTrue\u001b[0m\u001b[1;33m:\u001b[0m\u001b[1;33m\u001b[0m\u001b[1;33m\u001b[0m\u001b[0m\n\u001b[0;32m     24\u001b[0m             \u001b[1;32mtry\u001b[0m\u001b[1;33m:\u001b[0m\u001b[1;33m\u001b[0m\u001b[1;33m\u001b[0m\u001b[0m\n\u001b[1;32m---> 25\u001b[1;33m                 \u001b[1;32mreturn\u001b[0m \u001b[0msuper\u001b[0m\u001b[1;33m(\u001b[0m\u001b[1;33m)\u001b[0m\u001b[1;33m.\u001b[0m\u001b[0mcreate\u001b[0m\u001b[1;33m(\u001b[0m\u001b[1;33m*\u001b[0m\u001b[0margs\u001b[0m\u001b[1;33m,\u001b[0m \u001b[1;33m**\u001b[0m\u001b[0mkwargs\u001b[0m\u001b[1;33m)\u001b[0m\u001b[1;33m\u001b[0m\u001b[1;33m\u001b[0m\u001b[0m\n\u001b[0m\u001b[0;32m     26\u001b[0m             \u001b[1;32mexcept\u001b[0m \u001b[0mTryAgain\u001b[0m \u001b[1;32mas\u001b[0m \u001b[0me\u001b[0m\u001b[1;33m:\u001b[0m\u001b[1;33m\u001b[0m\u001b[1;33m\u001b[0m\u001b[0m\n\u001b[0;32m     27\u001b[0m                 \u001b[1;32mif\u001b[0m \u001b[0mtimeout\u001b[0m \u001b[1;32mis\u001b[0m \u001b[1;32mnot\u001b[0m \u001b[1;32mNone\u001b[0m \u001b[1;32mand\u001b[0m \u001b[0mtime\u001b[0m\u001b[1;33m.\u001b[0m\u001b[0mtime\u001b[0m\u001b[1;33m(\u001b[0m\u001b[1;33m)\u001b[0m \u001b[1;33m>\u001b[0m \u001b[0mstart\u001b[0m \u001b[1;33m+\u001b[0m \u001b[0mtimeout\u001b[0m\u001b[1;33m:\u001b[0m\u001b[1;33m\u001b[0m\u001b[1;33m\u001b[0m\u001b[0m\n",
      "\u001b[1;32m~\\anaconda3\\lib\\site-packages\\openai\\api_resources\\abstract\\engine_api_resource.py\u001b[0m in \u001b[0;36mcreate\u001b[1;34m(cls, api_key, api_base, api_type, request_id, api_version, organization, **params)\u001b[0m\n\u001b[0;32m    151\u001b[0m         )\n\u001b[0;32m    152\u001b[0m \u001b[1;33m\u001b[0m\u001b[0m\n\u001b[1;32m--> 153\u001b[1;33m         response, _, api_key = requestor.request(\n\u001b[0m\u001b[0;32m    154\u001b[0m             \u001b[1;34m\"post\"\u001b[0m\u001b[1;33m,\u001b[0m\u001b[1;33m\u001b[0m\u001b[1;33m\u001b[0m\u001b[0m\n\u001b[0;32m    155\u001b[0m             \u001b[0murl\u001b[0m\u001b[1;33m,\u001b[0m\u001b[1;33m\u001b[0m\u001b[1;33m\u001b[0m\u001b[0m\n",
      "\u001b[1;32m~\\anaconda3\\lib\\site-packages\\openai\\api_requestor.py\u001b[0m in \u001b[0;36mrequest\u001b[1;34m(self, method, url, params, headers, files, stream, request_id, request_timeout)\u001b[0m\n\u001b[0;32m    214\u001b[0m         \u001b[0mrequest_timeout\u001b[0m\u001b[1;33m:\u001b[0m \u001b[0mOptional\u001b[0m\u001b[1;33m[\u001b[0m\u001b[0mUnion\u001b[0m\u001b[1;33m[\u001b[0m\u001b[0mfloat\u001b[0m\u001b[1;33m,\u001b[0m \u001b[0mTuple\u001b[0m\u001b[1;33m[\u001b[0m\u001b[0mfloat\u001b[0m\u001b[1;33m,\u001b[0m \u001b[0mfloat\u001b[0m\u001b[1;33m]\u001b[0m\u001b[1;33m]\u001b[0m\u001b[1;33m]\u001b[0m \u001b[1;33m=\u001b[0m \u001b[1;32mNone\u001b[0m\u001b[1;33m,\u001b[0m\u001b[1;33m\u001b[0m\u001b[1;33m\u001b[0m\u001b[0m\n\u001b[0;32m    215\u001b[0m     ) -> Tuple[Union[OpenAIResponse, Iterator[OpenAIResponse]], bool, str]:\n\u001b[1;32m--> 216\u001b[1;33m         result = self.request_raw(\n\u001b[0m\u001b[0;32m    217\u001b[0m             \u001b[0mmethod\u001b[0m\u001b[1;33m.\u001b[0m\u001b[0mlower\u001b[0m\u001b[1;33m(\u001b[0m\u001b[1;33m)\u001b[0m\u001b[1;33m,\u001b[0m\u001b[1;33m\u001b[0m\u001b[1;33m\u001b[0m\u001b[0m\n\u001b[0;32m    218\u001b[0m             \u001b[0murl\u001b[0m\u001b[1;33m,\u001b[0m\u001b[1;33m\u001b[0m\u001b[1;33m\u001b[0m\u001b[0m\n",
      "\u001b[1;32m~\\anaconda3\\lib\\site-packages\\openai\\api_requestor.py\u001b[0m in \u001b[0;36mrequest_raw\u001b[1;34m(self, method, url, params, supplied_headers, files, stream, request_id, request_timeout)\u001b[0m\n\u001b[0;32m    524\u001b[0m             )\n\u001b[0;32m    525\u001b[0m         \u001b[1;32mexcept\u001b[0m \u001b[0mrequests\u001b[0m\u001b[1;33m.\u001b[0m\u001b[0mexceptions\u001b[0m\u001b[1;33m.\u001b[0m\u001b[0mTimeout\u001b[0m \u001b[1;32mas\u001b[0m \u001b[0me\u001b[0m\u001b[1;33m:\u001b[0m\u001b[1;33m\u001b[0m\u001b[1;33m\u001b[0m\u001b[0m\n\u001b[1;32m--> 526\u001b[1;33m             \u001b[1;32mraise\u001b[0m \u001b[0merror\u001b[0m\u001b[1;33m.\u001b[0m\u001b[0mTimeout\u001b[0m\u001b[1;33m(\u001b[0m\u001b[1;34m\"Request timed out: {}\"\u001b[0m\u001b[1;33m.\u001b[0m\u001b[0mformat\u001b[0m\u001b[1;33m(\u001b[0m\u001b[0me\u001b[0m\u001b[1;33m)\u001b[0m\u001b[1;33m)\u001b[0m \u001b[1;32mfrom\u001b[0m \u001b[0me\u001b[0m\u001b[1;33m\u001b[0m\u001b[1;33m\u001b[0m\u001b[0m\n\u001b[0m\u001b[0;32m    527\u001b[0m         \u001b[1;32mexcept\u001b[0m \u001b[0mrequests\u001b[0m\u001b[1;33m.\u001b[0m\u001b[0mexceptions\u001b[0m\u001b[1;33m.\u001b[0m\u001b[0mRequestException\u001b[0m \u001b[1;32mas\u001b[0m \u001b[0me\u001b[0m\u001b[1;33m:\u001b[0m\u001b[1;33m\u001b[0m\u001b[1;33m\u001b[0m\u001b[0m\n\u001b[0;32m    528\u001b[0m             raise error.APIConnectionError(\n",
      "\u001b[1;31mTimeout\u001b[0m: Request timed out: HTTPSConnectionPool(host='api.openai.com', port=443): Read timed out. (read timeout=600)"
     ]
    }
   ],
   "source": [
    "response = openai.Completion.create(\n",
    "  model=\"text-davinci-003\",\n",
    "  prompt=prompting,\n",
    "  temperature=0.7,\n",
    "  max_tokens=384,\n",
    "  top_p=1,\n",
    "  frequency_penalty=0,\n",
    "  presence_penalty=0,\n",
    ")"
   ]
  },
  {
   "cell_type": "code",
   "execution_count": null,
   "metadata": {
    "colab": {
     "base_uri": "https://localhost:8080/",
     "height": 143
    },
    "id": "xVHV-DBrZLlt",
    "outputId": "f56d2021-4717-423b-901c-ca8fe5f0f630"
   },
   "outputs": [],
   "source": [
    "response.choices[0].text"
   ]
  },
  {
   "cell_type": "code",
   "execution_count": 193,
   "metadata": {
    "colab": {
     "base_uri": "https://localhost:8080/"
    },
    "id": "0BoGSpE2ZO1D",
    "outputId": "82713fe1-92f3-4f3b-dd7a-c7baac3edc18"
   },
   "outputs": [
    {
     "data": {
      "text/plain": [
       "<OpenAIObject text_completion id=cmpl-6vgoZSk6lJpTzD8FFBHKP1h5ben6H at 0x2f2345cd770> JSON: {\n",
       "  \"choices\": [\n",
       "    {\n",
       "      \"finish_reason\": \"stop\",\n",
       "      \"index\": 0,\n",
       "      \"logprobs\": null,\n",
       "      \"text\": \",\\n\\nTidak ada minimum result SPM untuk memasukkan FSKTM UM.\"\n",
       "    }\n",
       "  ],\n",
       "  \"created\": 1679207295,\n",
       "  \"id\": \"cmpl-6vgoZSk6lJpTzD8FFBHKP1h5ben6H\",\n",
       "  \"model\": \"text-davinci-003\",\n",
       "  \"object\": \"text_completion\",\n",
       "  \"usage\": {\n",
       "    \"completion_tokens\": 23,\n",
       "    \"prompt_tokens\": 327,\n",
       "    \"total_tokens\": 350\n",
       "  }\n",
       "}"
      ]
     },
     "execution_count": 193,
     "metadata": {},
     "output_type": "execute_result"
    }
   ],
   "source": [
    "response"
   ]
  },
  {
   "cell_type": "code",
   "execution_count": 194,
   "metadata": {
    "id": "GAZBzAZjZuqD"
   },
   "outputs": [],
   "source": [
    "r = openai.ChatCompletion.create(\n",
    "  model=\"gpt-3.5-turbo\",\n",
    "  messages=[\n",
    "        {\"role\": \"user\", \"content\": prompting},\n",
    "    ]\n",
    ")"
   ]
  },
  {
   "cell_type": "code",
   "execution_count": 148,
   "metadata": {
    "colab": {
     "base_uri": "https://localhost:8080/"
    },
    "id": "SwOVSLnAaZsy",
    "outputId": "d9c877f6-bc79-403e-f191-32e52ef08eea"
   },
   "outputs": [
    {
     "data": {
      "text/plain": [
       "<OpenAIObject chat.completion id=chatcmpl-6vghMduhn6HQyiJba9MR9rMcOnpzb at 0x2f232a9f9f0> JSON: {\n",
       "  \"choices\": [\n",
       "    {\n",
       "      \"finish_reason\": \"stop\",\n",
       "      \"index\": 0,\n",
       "      \"message\": {\n",
       "        \"content\": \"Teks tersebut tidak memberikan maklumat mengenai minimum result SPM untuk memasuki FSKTM UM.\",\n",
       "        \"role\": \"assistant\"\n",
       "      }\n",
       "    }\n",
       "  ],\n",
       "  \"created\": 1679206848,\n",
       "  \"id\": \"chatcmpl-6vghMduhn6HQyiJba9MR9rMcOnpzb\",\n",
       "  \"model\": \"gpt-3.5-turbo-0301\",\n",
       "  \"object\": \"chat.completion\",\n",
       "  \"usage\": {\n",
       "    \"completion_tokens\": 26,\n",
       "    \"prompt_tokens\": 316,\n",
       "    \"total_tokens\": 342\n",
       "  }\n",
       "}"
      ]
     },
     "execution_count": 148,
     "metadata": {},
     "output_type": "execute_result"
    }
   ],
   "source": [
    "r"
   ]
  },
  {
   "cell_type": "code",
   "execution_count": null,
   "metadata": {
    "id": "CZAtiWJ2acGq"
   },
   "outputs": [],
   "source": []
  },
  {
   "cell_type": "markdown",
   "metadata": {},
   "source": [
    "## Pass HTML Text data without claning"
   ]
  },
  {
   "cell_type": "code",
   "execution_count": null,
   "metadata": {},
   "outputs": [],
   "source": [
    "\n",
    "import requests\n",
    "import json\n",
    "\n",
    "# set the API endpoint URL\n",
    "url = \"https://api.openai.com/v1/chat\"\n",
    "\n",
    "# set the API key\n",
    "api_key = \"your_api_key\"\n",
    "\n",
    "# set the input data as JSON\n",
    "input_data = {\n",
    "    \"prompt\": \"Hello, how are you today?\",\n",
    "    \"temperature\": 0.5,\n",
    "    \"max_tokens\": 50\n",
    "}\n",
    "input_json = json.dumps(input_data)\n",
    "\n",
    "# set the headers and request parameters\n",
    "headers = {\n",
    "    \"Content-Type\": \"application/json\",\n",
    "    \"Authorization\": f\"Bearer {api_key}\"\n",
    "}\n",
    "\n",
    "# make the API request and print the response\n",
    "response = requests.post(url, headers=headers, data=input_json)\n",
    "print(response.json())\n"
   ]
  },
  {
   "cell_type": "code",
   "execution_count": 1,
   "metadata": {},
   "outputs": [],
   "source": [
    "#Import links variables\n",
    "import pickle\n",
    "\n",
    "# import the variables from the file using pickle\n",
    "with open('web_data\\data-checkpoint-4600.pkl', 'rb') as f:\n",
    "    data = pickle.load(f)\n"
   ]
  },
  {
   "cell_type": "code",
   "execution_count": 6,
   "metadata": {},
   "outputs": [],
   "source": [
    "import pandas as pd"
   ]
  },
  {
   "cell_type": "code",
   "execution_count": 13,
   "metadata": {},
   "outputs": [],
   "source": [
    "df = pd.DataFrame(data, columns = [\"Link\", \"Content\"])"
   ]
  },
  {
   "cell_type": "code",
   "execution_count": 10,
   "metadata": {},
   "outputs": [],
   "source": [
    "df_temp =  df.sample(100)"
   ]
  },
  {
   "cell_type": "code",
   "execution_count": null,
   "metadata": {},
   "outputs": [],
   "source": [
    "df[df.Link.str.contains(\".pdf\")].sample(1)"
   ]
  },
  {
   "cell_type": "code",
   "execution_count": null,
   "metadata": {},
   "outputs": [],
   "source": []
  }
 ],
 "metadata": {
  "colab": {
   "provenance": []
  },
  "kernelspec": {
   "display_name": "Python 3 (ipykernel)",
   "language": "python",
   "name": "python3"
  },
  "language_info": {
   "codemirror_mode": {
    "name": "ipython",
    "version": 3
   },
   "file_extension": ".py",
   "mimetype": "text/x-python",
   "name": "python",
   "nbconvert_exporter": "python",
   "pygments_lexer": "ipython3",
   "version": "3.9.10"
  }
 },
 "nbformat": 4,
 "nbformat_minor": 1
}
